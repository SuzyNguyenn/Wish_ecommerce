{
  "nbformat": 4,
  "nbformat_minor": 0,
  "metadata": {
    "colab": {
      "name": "Wish_Clean_data.ipynb",
      "provenance": []
    },
    "kernelspec": {
      "name": "python3",
      "display_name": "Python 3"
    },
    "language_info": {
      "name": "python"
    }
  },
  "cells": [
    {
      "cell_type": "code",
      "execution_count": null,
      "metadata": {
        "id": "0J5w1HMmRulc"
      },
      "outputs": [],
      "source": [
        "from google.colab import data_table\n",
        "data_table.enable_dataframe_formatter()"
      ]
    },
    {
      "cell_type": "code",
      "source": [
        "import pathlib # manipulate paths\n",
        "import glob \n",
        "# import tensorflow as tf\n",
        "import pandas as pd\n",
        "import numpy as np\n",
        "import seaborn as sns\n",
        "import matplotlib.pyplot as plt\n",
        "from pathlib import Path\n",
        "import plotly.express as px"
      ],
      "metadata": {
        "id": "A-0eGabiSDZu"
      },
      "execution_count": null,
      "outputs": []
    },
    {
      "cell_type": "code",
      "source": [
        "# Now you can Unzip it!\n",
        "# !unzip -q <SOURCE-PATH> -d <DESTINATION-PATH>\n",
        "\n",
        "!unzip -q /content/drive/MyDrive/DATASET/NLP/summer-products-and-sales-in-ecommerce-wish.zip -d ./ecommerce # save to local Colab"
      ],
      "metadata": {
        "id": "H09HZ69eSJGU"
      },
      "execution_count": null,
      "outputs": []
    },
    {
      "cell_type": "code",
      "source": [
        "# Load Dataset\n",
        "df = pd.read_csv(\"/content/ecommerce/keywords-popular_2021-04/mainstream/summer.csv\")"
      ],
      "metadata": {
        "id": "OVw_RLFASWZz"
      },
      "execution_count": null,
      "outputs": []
    },
    {
      "cell_type": "markdown",
      "source": [
        "# Missing Value Display and Handle"
      ],
      "metadata": {
        "id": "o3KHjreIe-8W"
      }
    },
    {
      "cell_type": "code",
      "source": [
        "df.isna().sum()"
      ],
      "metadata": {
        "colab": {
          "base_uri": "https://localhost:8080/"
        },
        "id": "uzOrCjfCS1Kd",
        "outputId": "4aae79bf-ff9f-4680-d415-d10b4f2dce35"
      },
      "execution_count": null,
      "outputs": [
        {
          "output_type": "execute_result",
          "data": {
            "text/plain": [
              "title                                    2\n",
              "title_orig                              69\n",
              "discount_price                          69\n",
              "discount_price_currency                 69\n",
              "retail_price                            69\n",
              "retail_price_currency                   69\n",
              "discount_price_in_original_currency     69\n",
              "nb_cart_orders_approx                   69\n",
              "nb_units_purchased_approx              970\n",
              "uses_ad_boosts                         970\n",
              "rating                                  69\n",
              "rating_count                            69\n",
              "rating_five_count                      294\n",
              "rating_four_count                      294\n",
              "rating_three_count                     294\n",
              "rating_two_count                       294\n",
              "rating_one_count                       294\n",
              "badges_count                           970\n",
              "badge_local_product                    970\n",
              "badge_product_quality                  970\n",
              "badge_fast_shipping                    970\n",
              "tags                                   970\n",
              "product_color                          132\n",
              "product_variation_size_id               77\n",
              "product_variation_inventory             69\n",
              "shipping_option_name                    69\n",
              "shipping_option_price                   69\n",
              "shipping_is_express                     69\n",
              "countries_shipped_to                   970\n",
              "inventory_total                         69\n",
              "has_urgency_banner                     744\n",
              "urgency_text                           744\n",
              "origin_country                          70\n",
              "merchant_title                          69\n",
              "merchant_name                           69\n",
              "merchant_info_subtitle                  71\n",
              "merchant_rating_count                   69\n",
              "merchant_rating                         69\n",
              "merchant_id                             69\n",
              "merchant_has_profile_picture           970\n",
              "merchant_profile_picture               970\n",
              "product_url                              0\n",
              "product_picture                         69\n",
              "product_id                               0\n",
              "dtype: int64"
            ]
          },
          "metadata": {},
          "execution_count": 9
        }
      ]
    },
    {
      "cell_type": "code",
      "source": [
        "def plot_missing_data(df):\n",
        "    columns_with_null = df.columns[df.isna().sum() > 0]\n",
        "    null_pct = (df[columns_with_null].isna().sum() / df.shape[0]).sort_values(ascending=False) * 100\n",
        "    plt.figure(figsize=(8,6));\n",
        "    sns.barplot(y = null_pct.index, x = null_pct, orient='h')\n",
        "    plt.title('% Na values in dataframe by columns');"
      ],
      "metadata": {
        "id": "2JBikYxBTERC"
      },
      "execution_count": null,
      "outputs": []
    },
    {
      "cell_type": "code",
      "source": [
        "plot_missing_data(df)"
      ],
      "metadata": {
        "colab": {
          "base_uri": "https://localhost:8080/",
          "height": 390
        },
        "id": "IcnEt1pfTJWD",
        "outputId": "2066dfca-5dc4-4952-f5e4-2a17c65986c5"
      },
      "execution_count": null,
      "outputs": [
        {
          "output_type": "display_data",
          "data": {
            "image/png": "[encoded data removed]",
            "text/plain": [
              "<Figure size 576x432 with 1 Axes>"
            ]
          },
          "metadata": {
            "needs_background": "light"
          }
        }
      ]
    },
    {
      "cell_type": "code",
      "source": [
        "df_columns = (df.isna().sum()>200).reset_index()"
      ],
      "metadata": {
        "id": "3dyLFHWpe7iv"
      },
      "execution_count": null,
      "outputs": []
    },
    {
      "cell_type": "code",
      "source": [
        "columns = df_columns[df_columns.iloc[:,1]==True]['index']"
      ],
      "metadata": {
        "id": "F4k68SnyTCHQ"
      },
      "execution_count": null,
      "outputs": []
    },
    {
      "cell_type": "code",
      "source": [
        "df.drop(columns= columns,inplace=True)"
      ],
      "metadata": {
        "id": "FDMEGDTGT_37"
      },
      "execution_count": null,
      "outputs": []
    },
    {
      "cell_type": "code",
      "source": [
        "plot_missing_data(df)"
      ],
      "metadata": {
        "colab": {
          "base_uri": "https://localhost:8080/",
          "height": 390
        },
        "id": "5p4f4o_ZUEOl",
        "outputId": "ae9652ed-f057-42c9-bca6-a5188d435c29"
      },
      "execution_count": null,
      "outputs": [
        {
          "output_type": "display_data",
          "data": {
            "image/png": "[encoded data removed]",
            "text/plain": [
              "<Figure size 576x432 with 1 Axes>"
            ]
          },
          "metadata": {
            "needs_background": "light"
          }
        }
      ]
    },
    {
      "cell_type": "code",
      "source": [
        "df[df['merchant_rating'].isna()].isna().sum()"
      ],
      "metadata": {
        "colab": {
          "base_uri": "https://localhost:8080/"
        },
        "id": "OHD2gpDWUCsP",
        "outputId": "efc21412-e15c-44a1-d0fb-b14a1f92f36a"
      },
      "execution_count": null,
      "outputs": [
        {
          "output_type": "execute_result",
          "data": {
            "text/plain": [
              "title                                   2\n",
              "title_orig                             69\n",
              "discount_price                         69\n",
              "discount_price_currency                69\n",
              "retail_price                           69\n",
              "retail_price_currency                  69\n",
              "discount_price_in_original_currency    69\n",
              "nb_cart_orders_approx                  69\n",
              "rating                                 69\n",
              "rating_count                           69\n",
              "product_color                          69\n",
              "product_variation_size_id              69\n",
              "product_variation_inventory            69\n",
              "shipping_option_name                   69\n",
              "shipping_option_price                  69\n",
              "shipping_is_express                    69\n",
              "inventory_total                        69\n",
              "origin_country                         69\n",
              "merchant_title                         69\n",
              "merchant_name                          69\n",
              "merchant_info_subtitle                 69\n",
              "merchant_rating_count                  69\n",
              "merchant_rating                        69\n",
              "merchant_id                            69\n",
              "product_url                             0\n",
              "product_picture                        69\n",
              "product_id                              0\n",
              "dtype: int64"
            ]
          },
          "metadata": {},
          "execution_count": 17
        }
      ]
    },
    {
      "cell_type": "code",
      "source": [
        "df = df[~df['merchant_rating'].isna()]\n",
        "df.isna().sum()"
      ],
      "metadata": {
        "colab": {
          "base_uri": "https://localhost:8080/"
        },
        "id": "CQnf9FucUG68",
        "outputId": "ebd1b988-a4e0-4b01-d0d5-b5f88bcf0c06"
      },
      "execution_count": null,
      "outputs": [
        {
          "output_type": "execute_result",
          "data": {
            "text/plain": [
              "title                                   0\n",
              "title_orig                              0\n",
              "discount_price                          0\n",
              "discount_price_currency                 0\n",
              "retail_price                            0\n",
              "retail_price_currency                   0\n",
              "discount_price_in_original_currency     0\n",
              "nb_cart_orders_approx                   0\n",
              "rating                                  0\n",
              "rating_count                            0\n",
              "product_color                          63\n",
              "product_variation_size_id               8\n",
              "product_variation_inventory             0\n",
              "shipping_option_name                    0\n",
              "shipping_option_price                   0\n",
              "shipping_is_express                     0\n",
              "inventory_total                         0\n",
              "origin_country                          1\n",
              "merchant_title                          0\n",
              "merchant_name                           0\n",
              "merchant_info_subtitle                  2\n",
              "merchant_rating_count                   0\n",
              "merchant_rating                         0\n",
              "merchant_id                             0\n",
              "product_url                             0\n",
              "product_picture                         0\n",
              "product_id                              0\n",
              "dtype: int64"
            ]
          },
          "metadata": {},
          "execution_count": 32
        }
      ]
    },
    {
      "cell_type": "code",
      "source": [
        "df.fillna('Unknown',inplace=True)"
      ],
      "metadata": {
        "id": "H5fra1PPZMFN"
      },
      "execution_count": null,
      "outputs": []
    },
    {
      "cell_type": "code",
      "source": [
        "df.isna().sum()"
      ],
      "metadata": {
        "colab": {
          "base_uri": "https://localhost:8080/"
        },
        "id": "KMoXYQW8UMz1",
        "outputId": "117239f5-357c-47c8-f5d4-74934a257a36"
      },
      "execution_count": null,
      "outputs": [
        {
          "output_type": "execute_result",
          "data": {
            "text/plain": [
              "title                                  0\n",
              "title_orig                             0\n",
              "discount_price                         0\n",
              "discount_price_currency                0\n",
              "retail_price                           0\n",
              "retail_price_currency                  0\n",
              "discount_price_in_original_currency    0\n",
              "nb_cart_orders_approx                  0\n",
              "rating                                 0\n",
              "rating_count                           0\n",
              "product_color                          0\n",
              "product_variation_size_id              0\n",
              "product_variation_inventory            0\n",
              "shipping_option_name                   0\n",
              "shipping_option_price                  0\n",
              "shipping_is_express                    0\n",
              "inventory_total                        0\n",
              "origin_country                         0\n",
              "merchant_title                         0\n",
              "merchant_name                          0\n",
              "merchant_info_subtitle                 0\n",
              "merchant_rating_count                  0\n",
              "merchant_rating                        0\n",
              "merchant_id                            0\n",
              "product_url                            0\n",
              "product_picture                        0\n",
              "product_id                             0\n",
              "dtype: int64"
            ]
          },
          "metadata": {},
          "execution_count": 35
        }
      ]
    },
    {
      "cell_type": "markdown",
      "source": [
        "# Drop columns with 1 unique data"
      ],
      "metadata": {
        "id": "Z6k3Csgver3t"
      }
    },
    {
      "cell_type": "code",
      "source": [
        "ls = df.nunique()\n",
        "ls[ls==1]"
      ],
      "metadata": {
        "colab": {
          "base_uri": "https://localhost:8080/"
        },
        "id": "nkAXoR84Zso3",
        "outputId": "af5f3318-1ac0-4f81-c05c-882de72df1f2"
      },
      "execution_count": null,
      "outputs": [
        {
          "output_type": "execute_result",
          "data": {
            "text/plain": [
              "discount_price_currency    1\n",
              "retail_price_currency      1\n",
              "dtype: int64"
            ]
          },
          "metadata": {},
          "execution_count": 37
        }
      ]
    },
    {
      "cell_type": "code",
      "source": [
        "df.drop(labels = ['discount_price_currency', 'retail_price_currency'], axis=1, inplace=True)"
      ],
      "metadata": {
        "id": "Gikh3-A-Zyd3"
      },
      "execution_count": null,
      "outputs": []
    },
    {
      "cell_type": "markdown",
      "source": [
        "# Extract positive review percent of Merchant"
      ],
      "metadata": {
        "id": "dfHtJ_SLee6r"
      }
    },
    {
      "cell_type": "code",
      "source": [
        "df['merchant_info_subtitle'][0]"
      ],
      "metadata": {
        "colab": {
          "base_uri": "https://localhost:8080/",
          "height": 35
        },
        "id": "VlhHM6AtZ35P",
        "outputId": "a9489ee5-a0b0-4650-ff94-72919dbd90aa"
      },
      "execution_count": null,
      "outputs": [
        {
          "output_type": "execute_result",
          "data": {
            "application/vnd.google.colaboratory.intrinsic+json": {
              "type": "string"
            },
            "text/plain": [
              "'94 % avis positifs (74,181 notes)'"
            ]
          },
          "metadata": {},
          "execution_count": 40
        }
      ]
    },
    {
      "cell_type": "code",
      "source": [
        "import re"
      ],
      "metadata": {
        "id": "zVZ1WQHZHC4F"
      },
      "execution_count": null,
      "outputs": []
    },
    {
      "cell_type": "code",
      "source": [
        "def removes(df):\n",
        "  pattern =r'\\d{1,2} ?%'\n",
        "  match_list = re.findall(pattern,df['merchant_info_subtitle'])\n",
        "  if len(match_list)!=0 : # there's a match\n",
        "     return match_list[0].strip('[').strip(']').strip('%').strip()\n",
        "  else: return '-1'"
      ],
      "metadata": {
        "id": "nSWiFaMsGqrG"
      },
      "execution_count": null,
      "outputs": []
    },
    {
      "cell_type": "code",
      "source": [
        "df['merchant_info_subtitle'] = df.apply(removes,axis=1)"
      ],
      "metadata": {
        "id": "S18at8ThJ_qa"
      },
      "execution_count": null,
      "outputs": []
    },
    {
      "cell_type": "code",
      "source": [
        "df[['merchant_info_subtitle']]"
      ],
      "metadata": {
        "colab": {
          "base_uri": "https://localhost:8080/",
          "height": 637
        },
        "id": "9a8gjFirw9SL",
        "outputId": "80d6cd5f-08a7-45a0-e2d1-b35401d5eaf0"
      },
      "execution_count": null,
      "outputs": [
        {
          "output_type": "execute_result",
          "data": {
            "application/vnd.google.colaboratory.module+javascript": "\n      import \"https://ssl.gstatic.com/colaboratory/data_table/a6224c040fa35dcf/data_table.js\";\n\n      window.createDataTable({\n        data: [[{\n            'v': 0,\n            'f': \"0\",\n        },\n\"94\"],\n [{\n            'v': 1,\n            'f': \"1\",\n        },\n\"67\"],\n [{\n            'v': 2,\n            'f': \"2\",\n        },\n\"-1\"],\n [{\n            'v': 3,\n            'f': \"3\",\n        },\n\"-1\"],\n [{\n            'v': 4,\n            'f': \"4\",\n        },\n\"85\"],\n [{\n            'v': 5,\n            'f': \"5\",\n        },\n\"-1\"],\n [{\n            'v': 6,\n            'f': \"6\",\n        },\n\"90\"],\n [{\n            'v': 7,\n            'f': \"7\",\n        },\n\"85\"],\n [{\n            'v': 8,\n            'f': \"8\",\n        },\n\"85\"],\n [{\n            'v': 9,\n            'f': \"9\",\n        },\n\"-1\"],\n [{\n            'v': 10,\n            'f': \"10\",\n        },\n\"00\"],\n [{\n            'v': 11,\n            'f': \"11\",\n        },\n\"-1\"],\n [{\n            'v': 12,\n            'f': \"12\",\n        },\n\"85\"],\n [{\n            'v': 13,\n            'f': \"13\",\n        },\n\"84\"],\n [{\n            'v': 15,\n            'f': \"15\",\n        },\n\"87\"],\n [{\n            'v': 16,\n            'f': \"16\",\n        },\n\"-1\"],\n [{\n            'v': 17,\n            'f': \"17\",\n        },\n\"80\"],\n [{\n            'v': 18,\n            'f': \"18\",\n        },\n\"88\"],\n [{\n            'v': 19,\n            'f': \"19\",\n        },\n\"89\"],\n [{\n            'v': 20,\n            'f': \"20\",\n        },\n\"-1\"],\n [{\n            'v': 21,\n            'f': \"21\",\n        },\n\"95\"],\n [{\n            'v': 22,\n            'f': \"22\",\n        },\n\"88\"],\n [{\n            'v': 23,\n            'f': \"23\",\n        },\n\"88\"],\n [{\n            'v': 24,\n            'f': \"24\",\n        },\n\"90\"],\n [{\n            'v': 25,\n            'f': \"25\",\n        },\n\"82\"],\n [{\n            'v': 26,\n            'f': \"26\",\n        },\n\"90\"],\n [{\n            'v': 27,\n            'f': \"27\",\n        },\n\"82\"],\n [{\n            'v': 28,\n            'f': \"28\",\n        },\n\"95\"],\n [{\n            'v': 29,\n            'f': \"29\",\n        },\n\"86\"],\n [{\n            'v': 30,\n            'f': \"30\",\n        },\n\"90\"],\n [{\n            'v': 31,\n            'f': \"31\",\n        },\n\"-1\"],\n [{\n            'v': 32,\n            'f': \"32\",\n        },\n\"-1\"],\n [{\n            'v': 33,\n            'f': \"33\",\n        },\n\"86\"],\n [{\n            'v': 35,\n            'f': \"35\",\n        },\n\"92\"],\n [{\n            'v': 36,\n            'f': \"36\",\n        },\n\"85\"],\n [{\n            'v': 37,\n            'f': \"37\",\n        },\n\"87\"],\n [{\n            'v': 38,\n            'f': \"38\",\n        },\n\"-1\"],\n [{\n            'v': 39,\n            'f': \"39\",\n        },\n\"80\"],\n [{\n            'v': 40,\n            'f': \"40\",\n        },\n\"85\"],\n [{\n            'v': 41,\n            'f': \"41\",\n        },\n\"89\"],\n [{\n            'v': 42,\n            'f': \"42\",\n        },\n\"80\"],\n [{\n            'v': 43,\n            'f': \"43\",\n        },\n\"73\"],\n [{\n            'v': 44,\n            'f': \"44\",\n        },\n\"74\"],\n [{\n            'v': 45,\n            'f': \"45\",\n        },\n\"80\"],\n [{\n            'v': 46,\n            'f': \"46\",\n        },\n\"-1\"],\n [{\n            'v': 47,\n            'f': \"47\",\n        },\n\"81\"],\n [{\n            'v': 48,\n            'f': \"48\",\n        },\n\"80\"],\n [{\n            'v': 49,\n            'f': \"49\",\n        },\n\"80\"],\n [{\n            'v': 50,\n            'f': \"50\",\n        },\n\"80\"],\n [{\n            'v': 51,\n            'f': \"51\",\n        },\n\"86\"],\n [{\n            'v': 52,\n            'f': \"52\",\n        },\n\"89\"],\n [{\n            'v': 53,\n            'f': \"53\",\n        },\n\"89\"],\n [{\n            'v': 54,\n            'f': \"54\",\n        },\n\"96\"],\n [{\n            'v': 55,\n            'f': \"55\",\n        },\n\"-1\"],\n [{\n            'v': 56,\n            'f': \"56\",\n        },\n\"-1\"],\n [{\n            'v': 57,\n            'f': \"57\",\n        },\n\"-1\"],\n [{\n            'v': 58,\n            'f': \"58\",\n        },\n\"-1\"],\n [{\n            'v': 59,\n            'f': \"59\",\n        },\n\"89\"],\n [{\n            'v': 61,\n            'f': \"61\",\n        },\n\"-1\"],\n [{\n            'v': 63,\n            'f': \"63\",\n        },\n\"80\"],\n [{\n            'v': 64,\n            'f': \"64\",\n        },\n\"95\"],\n [{\n            'v': 65,\n            'f': \"65\",\n        },\n\"00\"],\n [{\n            'v': 66,\n            'f': \"66\",\n        },\n\"91\"],\n [{\n            'v': 67,\n            'f': \"67\",\n        },\n\"86\"],\n [{\n            'v': 68,\n            'f': \"68\",\n        },\n\"90\"],\n [{\n            'v': 69,\n            'f': \"69\",\n        },\n\"87\"],\n [{\n            'v': 70,\n            'f': \"70\",\n        },\n\"80\"],\n [{\n            'v': 71,\n            'f': \"71\",\n        },\n\"86\"],\n [{\n            'v': 72,\n            'f': \"72\",\n        },\n\"79\"],\n [{\n            'v': 73,\n            'f': \"73\",\n        },\n\"87\"],\n [{\n            'v': 74,\n            'f': \"74\",\n        },\n\"88\"],\n [{\n            'v': 75,\n            'f': \"75\",\n        },\n\"79\"],\n [{\n            'v': 76,\n            'f': \"76\",\n        },\n\"91\"],\n [{\n            'v': 77,\n            'f': \"77\",\n        },\n\"-1\"],\n [{\n            'v': 78,\n            'f': \"78\",\n        },\n\"83\"],\n [{\n            'v': 79,\n            'f': \"79\",\n        },\n\"85\"],\n [{\n            'v': 80,\n            'f': \"80\",\n        },\n\"-1\"],\n [{\n            'v': 81,\n            'f': \"81\",\n        },\n\"85\"],\n [{\n            'v': 82,\n            'f': \"82\",\n        },\n\"-1\"],\n [{\n            'v': 83,\n            'f': \"83\",\n        },\n\"82\"],\n [{\n            'v': 84,\n            'f': \"84\",\n        },\n\"84\"],\n [{\n            'v': 85,\n            'f': \"85\",\n        },\n\"88\"],\n [{\n            'v': 86,\n            'f': \"86\",\n        },\n\"85\"],\n [{\n            'v': 87,\n            'f': \"87\",\n        },\n\"87\"],\n [{\n            'v': 88,\n            'f': \"88\",\n        },\n\"80\"],\n [{\n            'v': 89,\n            'f': \"89\",\n        },\n\"85\"],\n [{\n            'v': 90,\n            'f': \"90\",\n        },\n\"88\"],\n [{\n            'v': 91,\n            'f': \"91\",\n        },\n\"81\"],\n [{\n            'v': 92,\n            'f': \"92\",\n        },\n\"80\"],\n [{\n            'v': 93,\n            'f': \"93\",\n        },\n\"89\"],\n [{\n            'v': 94,\n            'f': \"94\",\n        },\n\"88\"],\n [{\n            'v': 95,\n            'f': \"95\",\n        },\n\"82\"],\n [{\n            'v': 96,\n            'f': \"96\",\n        },\n\"81\"],\n [{\n            'v': 97,\n            'f': \"97\",\n        },\n\"88\"],\n [{\n            'v': 98,\n            'f': \"98\",\n        },\n\"92\"],\n [{\n            'v': 99,\n            'f': \"99\",\n        },\n\"95\"],\n [{\n            'v': 100,\n            'f': \"100\",\n        },\n\"88\"],\n [{\n            'v': 101,\n            'f': \"101\",\n        },\n\"-1\"],\n [{\n            'v': 102,\n            'f': \"102\",\n        },\n\"-1\"],\n [{\n            'v': 103,\n            'f': \"103\",\n        },\n\"95\"],\n [{\n            'v': 104,\n            'f': \"104\",\n        },\n\"-1\"],\n [{\n            'v': 105,\n            'f': \"105\",\n        },\n\"-1\"],\n [{\n            'v': 106,\n            'f': \"106\",\n        },\n\"87\"],\n [{\n            'v': 107,\n            'f': \"107\",\n        },\n\"83\"],\n [{\n            'v': 108,\n            'f': \"108\",\n        },\n\"-1\"],\n [{\n            'v': 109,\n            'f': \"109\",\n        },\n\"86\"],\n [{\n            'v': 110,\n            'f': \"110\",\n        },\n\"93\"],\n [{\n            'v': 111,\n            'f': \"111\",\n        },\n\"00\"],\n [{\n            'v': 112,\n            'f': \"112\",\n        },\n\"81\"],\n [{\n            'v': 113,\n            'f': \"113\",\n        },\n\"85\"],\n [{\n            'v': 114,\n            'f': \"114\",\n        },\n\"87\"],\n [{\n            'v': 115,\n            'f': \"115\",\n        },\n\"91\"],\n [{\n            'v': 116,\n            'f': \"116\",\n        },\n\"85\"],\n [{\n            'v': 117,\n            'f': \"117\",\n        },\n\"85\"],\n [{\n            'v': 118,\n            'f': \"118\",\n        },\n\"00\"],\n [{\n            'v': 119,\n            'f': \"119\",\n        },\n\"00\"],\n [{\n            'v': 120,\n            'f': \"120\",\n        },\n\"86\"],\n [{\n            'v': 121,\n            'f': \"121\",\n        },\n\"86\"],\n [{\n            'v': 122,\n            'f': \"122\",\n        },\n\"94\"],\n [{\n            'v': 123,\n            'f': \"123\",\n        },\n\"89\"],\n [{\n            'v': 124,\n            'f': \"124\",\n        },\n\"-1\"],\n [{\n            'v': 125,\n            'f': \"125\",\n        },\n\"87\"],\n [{\n            'v': 126,\n            'f': \"126\",\n        },\n\"93\"],\n [{\n            'v': 127,\n            'f': \"127\",\n        },\n\"89\"],\n [{\n            'v': 128,\n            'f': \"128\",\n        },\n\"80\"],\n [{\n            'v': 129,\n            'f': \"129\",\n        },\n\"-1\"],\n [{\n            'v': 130,\n            'f': \"130\",\n        },\n\"95\"],\n [{\n            'v': 131,\n            'f': \"131\",\n        },\n\"82\"],\n [{\n            'v': 132,\n            'f': \"132\",\n        },\n\"84\"],\n [{\n            'v': 133,\n            'f': \"133\",\n        },\n\"80\"],\n [{\n            'v': 134,\n            'f': \"134\",\n        },\n\"90\"],\n [{\n            'v': 135,\n            'f': \"135\",\n        },\n\"50\"],\n [{\n            'v': 136,\n            'f': \"136\",\n        },\n\"81\"],\n [{\n            'v': 137,\n            'f': \"137\",\n        },\n\"80\"],\n [{\n            'v': 138,\n            'f': \"138\",\n        },\n\"86\"],\n [{\n            'v': 139,\n            'f': \"139\",\n        },\n\"95\"],\n [{\n            'v': 140,\n            'f': \"140\",\n        },\n\"00\"],\n [{\n            'v': 141,\n            'f': \"141\",\n        },\n\"80\"],\n [{\n            'v': 142,\n            'f': \"142\",\n        },\n\"95\"],\n [{\n            'v': 143,\n            'f': \"143\",\n        },\n\"80\"],\n [{\n            'v': 144,\n            'f': \"144\",\n        },\n\"80\"],\n [{\n            'v': 145,\n            'f': \"145\",\n        },\n\"86\"],\n [{\n            'v': 146,\n            'f': \"146\",\n        },\n\"89\"],\n [{\n            'v': 147,\n            'f': \"147\",\n        },\n\"84\"],\n [{\n            'v': 148,\n            'f': \"148\",\n        },\n\"85\"],\n [{\n            'v': 149,\n            'f': \"149\",\n        },\n\"74\"],\n [{\n            'v': 150,\n            'f': \"150\",\n        },\n\"85\"],\n [{\n            'v': 151,\n            'f': \"151\",\n        },\n\"80\"],\n [{\n            'v': 152,\n            'f': \"152\",\n        },\n\"81\"],\n [{\n            'v': 153,\n            'f': \"153\",\n        },\n\"90\"],\n [{\n            'v': 154,\n            'f': \"154\",\n        },\n\"80\"],\n [{\n            'v': 155,\n            'f': \"155\",\n        },\n\"80\"],\n [{\n            'v': 156,\n            'f': \"156\",\n        },\n\"87\"],\n [{\n            'v': 157,\n            'f': \"157\",\n        },\n\"-1\"],\n [{\n            'v': 158,\n            'f': \"158\",\n        },\n\"88\"],\n [{\n            'v': 159,\n            'f': \"159\",\n        },\n\"-1\"],\n [{\n            'v': 160,\n            'f': \"160\",\n        },\n\"90\"],\n [{\n            'v': 162,\n            'f': \"162\",\n        },\n\"-1\"],\n [{\n            'v': 163,\n            'f': \"163\",\n        },\n\"82\"],\n [{\n            'v': 164,\n            'f': \"164\",\n        },\n\"92\"],\n [{\n            'v': 165,\n            'f': \"165\",\n        },\n\"90\"],\n [{\n            'v': 166,\n            'f': \"166\",\n        },\n\"89\"],\n [{\n            'v': 167,\n            'f': \"167\",\n        },\n\"95\"],\n [{\n            'v': 168,\n            'f': \"168\",\n        },\n\"84\"],\n [{\n            'v': 169,\n            'f': \"169\",\n        },\n\"-1\"],\n [{\n            'v': 170,\n            'f': \"170\",\n        },\n\"84\"],\n [{\n            'v': 171,\n            'f': \"171\",\n        },\n\"82\"],\n [{\n            'v': 172,\n            'f': \"172\",\n        },\n\"85\"],\n [{\n            'v': 173,\n            'f': \"173\",\n        },\n\"81\"],\n [{\n            'v': 174,\n            'f': \"174\",\n        },\n\"85\"],\n [{\n            'v': 175,\n            'f': \"175\",\n        },\n\"89\"],\n [{\n            'v': 176,\n            'f': \"176\",\n        },\n\"91\"],\n [{\n            'v': 177,\n            'f': \"177\",\n        },\n\"83\"],\n [{\n            'v': 178,\n            'f': \"178\",\n        },\n\"80\"],\n [{\n            'v': 179,\n            'f': \"179\",\n        },\n\"-1\"],\n [{\n            'v': 180,\n            'f': \"180\",\n        },\n\"94\"],\n [{\n            'v': 181,\n            'f': \"181\",\n        },\n\"72\"],\n [{\n            'v': 182,\n            'f': \"182\",\n        },\n\"85\"],\n [{\n            'v': 183,\n            'f': \"183\",\n        },\n\"92\"],\n [{\n            'v': 184,\n            'f': \"184\",\n        },\n\"00\"],\n [{\n            'v': 185,\n            'f': \"185\",\n        },\n\"89\"],\n [{\n            'v': 186,\n            'f': \"186\",\n        },\n\"80\"],\n [{\n            'v': 187,\n            'f': \"187\",\n        },\n\"95\"],\n [{\n            'v': 188,\n            'f': \"188\",\n        },\n\"88\"],\n [{\n            'v': 189,\n            'f': \"189\",\n        },\n\"85\"],\n [{\n            'v': 190,\n            'f': \"190\",\n        },\n\"84\"],\n [{\n            'v': 191,\n            'f': \"191\",\n        },\n\"90\"],\n [{\n            'v': 193,\n            'f': \"193\",\n        },\n\"92\"],\n [{\n            'v': 194,\n            'f': \"194\",\n        },\n\"80\"],\n [{\n            'v': 195,\n            'f': \"195\",\n        },\n\"84\"],\n [{\n            'v': 196,\n            'f': \"196\",\n        },\n\"82\"],\n [{\n            'v': 197,\n            'f': \"197\",\n        },\n\"-1\"],\n [{\n            'v': 198,\n            'f': \"198\",\n        },\n\"75\"],\n [{\n            'v': 199,\n            'f': \"199\",\n        },\n\"95\"],\n [{\n            'v': 200,\n            'f': \"200\",\n        },\n\"81\"],\n [{\n            'v': 201,\n            'f': \"201\",\n        },\n\"82\"],\n [{\n            'v': 203,\n            'f': \"203\",\n        },\n\"89\"],\n [{\n            'v': 204,\n            'f': \"204\",\n        },\n\"00\"],\n [{\n            'v': 205,\n            'f': \"205\",\n        },\n\"-1\"],\n [{\n            'v': 206,\n            'f': \"206\",\n        },\n\"00\"],\n [{\n            'v': 207,\n            'f': \"207\",\n        },\n\"80\"],\n [{\n            'v': 209,\n            'f': \"209\",\n        },\n\"80\"],\n [{\n            'v': 210,\n            'f': \"210\",\n        },\n\"80\"],\n [{\n            'v': 211,\n            'f': \"211\",\n        },\n\"88\"],\n [{\n            'v': 212,\n            'f': \"212\",\n        },\n\"95\"],\n [{\n            'v': 213,\n            'f': \"213\",\n        },\n\"76\"],\n [{\n            'v': 214,\n            'f': \"214\",\n        },\n\"-1\"],\n [{\n            'v': 215,\n            'f': \"215\",\n        },\n\"94\"],\n [{\n            'v': 216,\n            'f': \"216\",\n        },\n\"86\"],\n [{\n            'v': 218,\n            'f': \"218\",\n        },\n\"95\"],\n [{\n            'v': 220,\n            'f': \"220\",\n        },\n\"95\"],\n [{\n            'v': 221,\n            'f': \"221\",\n        },\n\"83\"],\n [{\n            'v': 222,\n            'f': \"222\",\n        },\n\"80\"],\n [{\n            'v': 223,\n            'f': \"223\",\n        },\n\"-1\"],\n [{\n            'v': 224,\n            'f': \"224\",\n        },\n\"81\"],\n [{\n            'v': 225,\n            'f': \"225\",\n        },\n\"79\"],\n [{\n            'v': 227,\n            'f': \"227\",\n        },\n\"-1\"],\n [{\n            'v': 228,\n            'f': \"228\",\n        },\n\"90\"],\n [{\n            'v': 229,\n            'f': \"229\",\n        },\n\"89\"],\n [{\n            'v': 230,\n            'f': \"230\",\n        },\n\"90\"],\n [{\n            'v': 231,\n            'f': \"231\",\n        },\n\"88\"],\n [{\n            'v': 232,\n            'f': \"232\",\n        },\n\"88\"],\n [{\n            'v': 233,\n            'f': \"233\",\n        },\n\"86\"],\n [{\n            'v': 234,\n            'f': \"234\",\n        },\n\"-1\"],\n [{\n            'v': 235,\n            'f': \"235\",\n        },\n\"00\"],\n [{\n            'v': 236,\n            'f': \"236\",\n        },\n\"87\"],\n [{\n            'v': 237,\n            'f': \"237\",\n        },\n\"-1\"],\n [{\n            'v': 238,\n            'f': \"238\",\n        },\n\"00\"],\n [{\n            'v': 239,\n            'f': \"239\",\n        },\n\"88\"],\n [{\n            'v': 240,\n            'f': \"240\",\n        },\n\"96\"],\n [{\n            'v': 241,\n            'f': \"241\",\n        },\n\"72\"],\n [{\n            'v': 242,\n            'f': \"242\",\n        },\n\"87\"],\n [{\n            'v': 243,\n            'f': \"243\",\n        },\n\"86\"],\n [{\n            'v': 244,\n            'f': \"244\",\n        },\n\"91\"],\n [{\n            'v': 245,\n            'f': \"245\",\n        },\n\"83\"],\n [{\n            'v': 246,\n            'f': \"246\",\n        },\n\"82\"],\n [{\n            'v': 247,\n            'f': \"247\",\n        },\n\"89\"],\n [{\n            'v': 248,\n            'f': \"248\",\n        },\n\"80\"],\n [{\n            'v': 249,\n            'f': \"249\",\n        },\n\"81\"],\n [{\n            'v': 250,\n            'f': \"250\",\n        },\n\"80\"],\n [{\n            'v': 251,\n            'f': \"251\",\n        },\n\"84\"],\n [{\n            'v': 252,\n            'f': \"252\",\n        },\n\"85\"],\n [{\n            'v': 253,\n            'f': \"253\",\n        },\n\"90\"],\n [{\n            'v': 254,\n            'f': \"254\",\n        },\n\"87\"],\n [{\n            'v': 255,\n            'f': \"255\",\n        },\n\"84\"],\n [{\n            'v': 256,\n            'f': \"256\",\n        },\n\"85\"],\n [{\n            'v': 258,\n            'f': \"258\",\n        },\n\"87\"],\n [{\n            'v': 259,\n            'f': \"259\",\n        },\n\"00\"],\n [{\n            'v': 260,\n            'f': \"260\",\n        },\n\"92\"],\n [{\n            'v': 261,\n            'f': \"261\",\n        },\n\"-1\"],\n [{\n            'v': 262,\n            'f': \"262\",\n        },\n\"89\"],\n [{\n            'v': 263,\n            'f': \"263\",\n        },\n\"88\"],\n [{\n            'v': 264,\n            'f': \"264\",\n        },\n\"82\"],\n [{\n            'v': 265,\n            'f': \"265\",\n        },\n\"88\"],\n [{\n            'v': 266,\n            'f': \"266\",\n        },\n\"90\"],\n [{\n            'v': 267,\n            'f': \"267\",\n        },\n\"87\"],\n [{\n            'v': 268,\n            'f': \"268\",\n        },\n\"-1\"],\n [{\n            'v': 269,\n            'f': \"269\",\n        },\n\"82\"],\n [{\n            'v': 270,\n            'f': \"270\",\n        },\n\"89\"],\n [{\n            'v': 271,\n            'f': \"271\",\n        },\n\"88\"],\n [{\n            'v': 272,\n            'f': \"272\",\n        },\n\"92\"],\n [{\n            'v': 273,\n            'f': \"273\",\n        },\n\"82\"],\n [{\n            'v': 274,\n            'f': \"274\",\n        },\n\"84\"],\n [{\n            'v': 275,\n            'f': \"275\",\n        },\n\"82\"],\n [{\n            'v': 276,\n            'f': \"276\",\n        },\n\"-1\"],\n [{\n            'v': 277,\n            'f': \"277\",\n        },\n\"79\"],\n [{\n            'v': 278,\n            'f': \"278\",\n        },\n\"84\"],\n [{\n            'v': 279,\n            'f': \"279\",\n        },\n\"79\"],\n [{\n            'v': 280,\n            'f': \"280\",\n        },\n\"86\"],\n [{\n            'v': 282,\n            'f': \"282\",\n        },\n\"83\"],\n [{\n            'v': 283,\n            'f': \"283\",\n        },\n\"-1\"],\n [{\n            'v': 284,\n            'f': \"284\",\n        },\n\"-1\"],\n [{\n            'v': 285,\n            'f': \"285\",\n        },\n\"80\"],\n [{\n            'v': 286,\n            'f': \"286\",\n        },\n\"-1\"],\n [{\n            'v': 287,\n            'f': \"287\",\n        },\n\"85\"],\n [{\n            'v': 288,\n            'f': \"288\",\n        },\n\"88\"],\n [{\n            'v': 289,\n            'f': \"289\",\n        },\n\"-1\"],\n [{\n            'v': 290,\n            'f': \"290\",\n        },\n\"81\"],\n [{\n            'v': 291,\n            'f': \"291\",\n        },\n\"82\"],\n [{\n            'v': 292,\n            'f': \"292\",\n        },\n\"80\"],\n [{\n            'v': 293,\n            'f': \"293\",\n        },\n\"80\"],\n [{\n            'v': 294,\n            'f': \"294\",\n        },\n\"89\"],\n [{\n            'v': 295,\n            'f': \"295\",\n        },\n\"87\"],\n [{\n            'v': 297,\n            'f': \"297\",\n        },\n\"82\"],\n [{\n            'v': 298,\n            'f': \"298\",\n        },\n\"88\"],\n [{\n            'v': 299,\n            'f': \"299\",\n        },\n\"-1\"],\n [{\n            'v': 300,\n            'f': \"300\",\n        },\n\"86\"],\n [{\n            'v': 301,\n            'f': \"301\",\n        },\n\"83\"],\n [{\n            'v': 302,\n            'f': \"302\",\n        },\n\"90\"],\n [{\n            'v': 303,\n            'f': \"303\",\n        },\n\"79\"],\n [{\n            'v': 306,\n            'f': \"306\",\n        },\n\"91\"],\n [{\n            'v': 307,\n            'f': \"307\",\n        },\n\"92\"],\n [{\n            'v': 308,\n            'f': \"308\",\n        },\n\"91\"],\n [{\n            'v': 309,\n            'f': \"309\",\n        },\n\"-1\"],\n [{\n            'v': 310,\n            'f': \"310\",\n        },\n\"80\"],\n [{\n            'v': 311,\n            'f': \"311\",\n        },\n\"-1\"],\n [{\n            'v': 312,\n            'f': \"312\",\n        },\n\"94\"],\n [{\n            'v': 313,\n            'f': \"313\",\n        },\n\"95\"],\n [{\n            'v': 314,\n            'f': \"314\",\n        },\n\"90\"],\n [{\n            'v': 315,\n            'f': \"315\",\n        },\n\"-1\"],\n [{\n            'v': 316,\n            'f': \"316\",\n        },\n\"-1\"],\n [{\n            'v': 318,\n            'f': \"318\",\n        },\n\"-1\"],\n [{\n            'v': 319,\n            'f': \"319\",\n        },\n\"85\"],\n [{\n            'v': 320,\n            'f': \"320\",\n        },\n\"87\"],\n [{\n            'v': 321,\n            'f': \"321\",\n        },\n\"-1\"],\n [{\n            'v': 323,\n            'f': \"323\",\n        },\n\"90\"],\n [{\n            'v': 324,\n            'f': \"324\",\n        },\n\"83\"],\n [{\n            'v': 325,\n            'f': \"325\",\n        },\n\"90\"],\n [{\n            'v': 326,\n            'f': \"326\",\n        },\n\"89\"],\n [{\n            'v': 327,\n            'f': \"327\",\n        },\n\"-1\"],\n [{\n            'v': 328,\n            'f': \"328\",\n        },\n\"-1\"],\n [{\n            'v': 329,\n            'f': \"329\",\n        },\n\"91\"],\n [{\n            'v': 330,\n            'f': \"330\",\n        },\n\"80\"],\n [{\n            'v': 331,\n            'f': \"331\",\n        },\n\"86\"],\n [{\n            'v': 332,\n            'f': \"332\",\n        },\n\"82\"],\n [{\n            'v': 333,\n            'f': \"333\",\n        },\n\"89\"],\n [{\n            'v': 334,\n            'f': \"334\",\n        },\n\"-1\"],\n [{\n            'v': 335,\n            'f': \"335\",\n        },\n\"88\"],\n [{\n            'v': 337,\n            'f': \"337\",\n        },\n\"86\"],\n [{\n            'v': 338,\n            'f': \"338\",\n        },\n\"89\"],\n [{\n            'v': 340,\n            'f': \"340\",\n        },\n\"82\"],\n [{\n            'v': 341,\n            'f': \"341\",\n        },\n\"-1\"],\n [{\n            'v': 342,\n            'f': \"342\",\n        },\n\"81\"],\n [{\n            'v': 343,\n            'f': \"343\",\n        },\n\"-1\"],\n [{\n            'v': 344,\n            'f': \"344\",\n        },\n\"81\"],\n [{\n            'v': 345,\n            'f': \"345\",\n        },\n\"-1\"],\n [{\n            'v': 346,\n            'f': \"346\",\n        },\n\"84\"],\n [{\n            'v': 347,\n            'f': \"347\",\n        },\n\"95\"],\n [{\n            'v': 348,\n            'f': \"348\",\n        },\n\"86\"],\n [{\n            'v': 349,\n            'f': \"349\",\n        },\n\"89\"],\n [{\n            'v': 350,\n            'f': \"350\",\n        },\n\"90\"],\n [{\n            'v': 351,\n            'f': \"351\",\n        },\n\"-1\"],\n [{\n            'v': 352,\n            'f': \"352\",\n        },\n\"80\"],\n [{\n            'v': 354,\n            'f': \"354\",\n        },\n\"-1\"],\n [{\n            'v': 355,\n            'f': \"355\",\n        },\n\"88\"],\n [{\n            'v': 356,\n            'f': \"356\",\n        },\n\"88\"],\n [{\n            'v': 357,\n            'f': \"357\",\n        },\n\"80\"],\n [{\n            'v': 359,\n            'f': \"359\",\n        },\n\"86\"],\n [{\n            'v': 360,\n            'f': \"360\",\n        },\n\"67\"],\n [{\n            'v': 361,\n            'f': \"361\",\n        },\n\"-1\"],\n [{\n            'v': 362,\n            'f': \"362\",\n        },\n\"87\"],\n [{\n            'v': 363,\n            'f': \"363\",\n        },\n\"87\"],\n [{\n            'v': 364,\n            'f': \"364\",\n        },\n\"-1\"],\n [{\n            'v': 365,\n            'f': \"365\",\n        },\n\"81\"],\n [{\n            'v': 366,\n            'f': \"366\",\n        },\n\"89\"],\n [{\n            'v': 367,\n            'f': \"367\",\n        },\n\"87\"],\n [{\n            'v': 368,\n            'f': \"368\",\n        },\n\"84\"],\n [{\n            'v': 369,\n            'f': \"369\",\n        },\n\"82\"],\n [{\n            'v': 370,\n            'f': \"370\",\n        },\n\"-1\"],\n [{\n            'v': 371,\n            'f': \"371\",\n        },\n\"-1\"],\n [{\n            'v': 372,\n            'f': \"372\",\n        },\n\"94\"],\n [{\n            'v': 373,\n            'f': \"373\",\n        },\n\"86\"],\n [{\n            'v': 375,\n            'f': \"375\",\n        },\n\"80\"],\n [{\n            'v': 376,\n            'f': \"376\",\n        },\n\"-1\"],\n [{\n            'v': 377,\n            'f': \"377\",\n        },\n\"88\"],\n [{\n            'v': 378,\n            'f': \"378\",\n        },\n\"88\"],\n [{\n            'v': 379,\n            'f': \"379\",\n        },\n\"87\"],\n [{\n            'v': 380,\n            'f': \"380\",\n        },\n\"90\"],\n [{\n            'v': 381,\n            'f': \"381\",\n        },\n\"93\"],\n [{\n            'v': 382,\n            'f': \"382\",\n        },\n\"81\"],\n [{\n            'v': 383,\n            'f': \"383\",\n        },\n\"-1\"],\n [{\n            'v': 385,\n            'f': \"385\",\n        },\n\"87\"],\n [{\n            'v': 386,\n            'f': \"386\",\n        },\n\"88\"],\n [{\n            'v': 387,\n            'f': \"387\",\n        },\n\"84\"],\n [{\n            'v': 388,\n            'f': \"388\",\n        },\n\"87\"],\n [{\n            'v': 389,\n            'f': \"389\",\n        },\n\"-1\"],\n [{\n            'v': 390,\n            'f': \"390\",\n        },\n\"-1\"],\n [{\n            'v': 391,\n            'f': \"391\",\n        },\n\"89\"],\n [{\n            'v': 392,\n            'f': \"392\",\n        },\n\"95\"],\n [{\n            'v': 393,\n            'f': \"393\",\n        },\n\"87\"],\n [{\n            'v': 394,\n            'f': \"394\",\n        },\n\"88\"],\n [{\n            'v': 395,\n            'f': \"395\",\n        },\n\"90\"],\n [{\n            'v': 396,\n            'f': \"396\",\n        },\n\"-1\"],\n [{\n            'v': 397,\n            'f': \"397\",\n        },\n\"00\"],\n [{\n            'v': 398,\n            'f': \"398\",\n        },\n\"-1\"],\n [{\n            'v': 399,\n            'f': \"399\",\n        },\n\"86\"],\n [{\n            'v': 400,\n            'f': \"400\",\n        },\n\"76\"],\n [{\n            'v': 401,\n            'f': \"401\",\n        },\n\"00\"],\n [{\n            'v': 402,\n            'f': \"402\",\n        },\n\"-1\"],\n [{\n            'v': 403,\n            'f': \"403\",\n        },\n\"-1\"],\n [{\n            'v': 404,\n            'f': \"404\",\n        },\n\"95\"],\n [{\n            'v': 405,\n            'f': \"405\",\n        },\n\"-1\"],\n [{\n            'v': 406,\n            'f': \"406\",\n        },\n\"95\"],\n [{\n            'v': 407,\n            'f': \"407\",\n        },\n\"-1\"],\n [{\n            'v': 408,\n            'f': \"408\",\n        },\n\"88\"],\n [{\n            'v': 410,\n            'f': \"410\",\n        },\n\"81\"],\n [{\n            'v': 412,\n            'f': \"412\",\n        },\n\"86\"],\n [{\n            'v': 414,\n            'f': \"414\",\n        },\n\"91\"],\n [{\n            'v': 415,\n            'f': \"415\",\n        },\n\"80\"],\n [{\n            'v': 416,\n            'f': \"416\",\n        },\n\"81\"],\n [{\n            'v': 417,\n            'f': \"417\",\n        },\n\"89\"],\n [{\n            'v': 418,\n            'f': \"418\",\n        },\n\"00\"],\n [{\n            'v': 419,\n            'f': \"419\",\n        },\n\"83\"],\n [{\n            'v': 420,\n            'f': \"420\",\n        },\n\"94\"],\n [{\n            'v': 422,\n            'f': \"422\",\n        },\n\"84\"],\n [{\n            'v': 423,\n            'f': \"423\",\n        },\n\"80\"],\n [{\n            'v': 424,\n            'f': \"424\",\n        },\n\"88\"],\n [{\n            'v': 425,\n            'f': \"425\",\n        },\n\"88\"],\n [{\n            'v': 426,\n            'f': \"426\",\n        },\n\"86\"],\n [{\n            'v': 427,\n            'f': \"427\",\n        },\n\"85\"],\n [{\n            'v': 428,\n            'f': \"428\",\n        },\n\"91\"],\n [{\n            'v': 429,\n            'f': \"429\",\n        },\n\"82\"],\n [{\n            'v': 430,\n            'f': \"430\",\n        },\n\"84\"],\n [{\n            'v': 431,\n            'f': \"431\",\n        },\n\"80\"],\n [{\n            'v': 432,\n            'f': \"432\",\n        },\n\"-1\"],\n [{\n            'v': 433,\n            'f': \"433\",\n        },\n\"89\"],\n [{\n            'v': 434,\n            'f': \"434\",\n        },\n\"74\"],\n [{\n            'v': 435,\n            'f': \"435\",\n        },\n\"-1\"],\n [{\n            'v': 436,\n            'f': \"436\",\n        },\n\"80\"],\n [{\n            'v': 437,\n            'f': \"437\",\n        },\n\"91\"],\n [{\n            'v': 438,\n            'f': \"438\",\n        },\n\"00\"],\n [{\n            'v': 439,\n            'f': \"439\",\n        },\n\"88\"],\n [{\n            'v': 440,\n            'f': \"440\",\n        },\n\"-1\"],\n [{\n            'v': 441,\n            'f': \"441\",\n        },\n\"90\"],\n [{\n            'v': 442,\n            'f': \"442\",\n        },\n\"86\"],\n [{\n            'v': 443,\n            'f': \"443\",\n        },\n\"80\"],\n [{\n            'v': 444,\n            'f': \"444\",\n        },\n\"-1\"],\n [{\n            'v': 445,\n            'f': \"445\",\n        },\n\"-1\"],\n [{\n            'v': 446,\n            'f': \"446\",\n        },\n\"-1\"],\n [{\n            'v': 447,\n            'f': \"447\",\n        },\n\"-1\"],\n [{\n            'v': 448,\n            'f': \"448\",\n        },\n\"00\"],\n [{\n            'v': 449,\n            'f': \"449\",\n        },\n\"-1\"],\n [{\n            'v': 450,\n            'f': \"450\",\n        },\n\"90\"],\n [{\n            'v': 451,\n            'f': \"451\",\n        },\n\"00\"],\n [{\n            'v': 452,\n            'f': \"452\",\n        },\n\"86\"],\n [{\n            'v': 453,\n            'f': \"453\",\n        },\n\"-1\"],\n [{\n            'v': 454,\n            'f': \"454\",\n        },\n\"81\"],\n [{\n            'v': 455,\n            'f': \"455\",\n        },\n\"-1\"],\n [{\n            'v': 456,\n            'f': \"456\",\n        },\n\"87\"],\n [{\n            'v': 457,\n            'f': \"457\",\n        },\n\"95\"],\n [{\n            'v': 458,\n            'f': \"458\",\n        },\n\"80\"],\n [{\n            'v': 459,\n            'f': \"459\",\n        },\n\"90\"],\n [{\n            'v': 460,\n            'f': \"460\",\n        },\n\"80\"],\n [{\n            'v': 461,\n            'f': \"461\",\n        },\n\"85\"],\n [{\n            'v': 462,\n            'f': \"462\",\n        },\n\"80\"],\n [{\n            'v': 463,\n            'f': \"463\",\n        },\n\"86\"],\n [{\n            'v': 464,\n            'f': \"464\",\n        },\n\"95\"],\n [{\n            'v': 466,\n            'f': \"466\",\n        },\n\"90\"],\n [{\n            'v': 467,\n            'f': \"467\",\n        },\n\"89\"],\n [{\n            'v': 468,\n            'f': \"468\",\n        },\n\"-1\"],\n [{\n            'v': 469,\n            'f': \"469\",\n        },\n\"80\"],\n [{\n            'v': 470,\n            'f': \"470\",\n        },\n\"-1\"],\n [{\n            'v': 471,\n            'f': \"471\",\n        },\n\"69\"],\n [{\n            'v': 472,\n            'f': \"472\",\n        },\n\"80\"],\n [{\n            'v': 473,\n            'f': \"473\",\n        },\n\"-1\"],\n [{\n            'v': 474,\n            'f': \"474\",\n        },\n\"-1\"],\n [{\n            'v': 475,\n            'f': \"475\",\n        },\n\"-1\"],\n [{\n            'v': 477,\n            'f': \"477\",\n        },\n\"88\"],\n [{\n            'v': 478,\n            'f': \"478\",\n        },\n\"91\"],\n [{\n            'v': 479,\n            'f': \"479\",\n        },\n\"92\"],\n [{\n            'v': 480,\n            'f': \"480\",\n        },\n\"89\"],\n [{\n            'v': 481,\n            'f': \"481\",\n        },\n\"-1\"],\n [{\n            'v': 482,\n            'f': \"482\",\n        },\n\"-1\"],\n [{\n            'v': 483,\n            'f': \"483\",\n        },\n\"90\"],\n [{\n            'v': 484,\n            'f': \"484\",\n        },\n\"94\"],\n [{\n            'v': 485,\n            'f': \"485\",\n        },\n\"85\"],\n [{\n            'v': 486,\n            'f': \"486\",\n        },\n\"79\"],\n [{\n            'v': 487,\n            'f': \"487\",\n        },\n\"74\"],\n [{\n            'v': 488,\n            'f': \"488\",\n        },\n\"86\"],\n [{\n            'v': 490,\n            'f': \"490\",\n        },\n\"80\"],\n [{\n            'v': 491,\n            'f': \"491\",\n        },\n\"-1\"],\n [{\n            'v': 492,\n            'f': \"492\",\n        },\n\"-1\"],\n [{\n            'v': 493,\n            'f': \"493\",\n        },\n\"84\"],\n [{\n            'v': 494,\n            'f': \"494\",\n        },\n\"-1\"],\n [{\n            'v': 495,\n            'f': \"495\",\n        },\n\"84\"],\n [{\n            'v': 496,\n            'f': \"496\",\n        },\n\"-1\"],\n [{\n            'v': 497,\n            'f': \"497\",\n        },\n\"84\"],\n [{\n            'v': 498,\n            'f': \"498\",\n        },\n\"90\"],\n [{\n            'v': 499,\n            'f': \"499\",\n        },\n\"-1\"],\n [{\n            'v': 501,\n            'f': \"501\",\n        },\n\"75\"],\n [{\n            'v': 503,\n            'f': \"503\",\n        },\n\"90\"],\n [{\n            'v': 504,\n            'f': \"504\",\n        },\n\"86\"],\n [{\n            'v': 505,\n            'f': \"505\",\n        },\n\"95\"],\n [{\n            'v': 506,\n            'f': \"506\",\n        },\n\"95\"],\n [{\n            'v': 508,\n            'f': \"508\",\n        },\n\"-1\"],\n [{\n            'v': 510,\n            'f': \"510\",\n        },\n\"95\"],\n [{\n            'v': 511,\n            'f': \"511\",\n        },\n\"88\"],\n [{\n            'v': 512,\n            'f': \"512\",\n        },\n\"-1\"],\n [{\n            'v': 513,\n            'f': \"513\",\n        },\n\"95\"],\n [{\n            'v': 515,\n            'f': \"515\",\n        },\n\"94\"],\n [{\n            'v': 516,\n            'f': \"516\",\n        },\n\"87\"],\n [{\n            'v': 517,\n            'f': \"517\",\n        },\n\"00\"],\n [{\n            'v': 518,\n            'f': \"518\",\n        },\n\"94\"],\n [{\n            'v': 519,\n            'f': \"519\",\n        },\n\"80\"],\n [{\n            'v': 521,\n            'f': \"521\",\n        },\n\"-1\"],\n [{\n            'v': 522,\n            'f': \"522\",\n        },\n\"81\"],\n [{\n            'v': 523,\n            'f': \"523\",\n        },\n\"91\"],\n [{\n            'v': 524,\n            'f': \"524\",\n        },\n\"90\"],\n [{\n            'v': 525,\n            'f': \"525\",\n        },\n\"86\"],\n [{\n            'v': 526,\n            'f': \"526\",\n        },\n\"91\"],\n [{\n            'v': 527,\n            'f': \"527\",\n        },\n\"88\"],\n [{\n            'v': 528,\n            'f': \"528\",\n        },\n\"00\"],\n [{\n            'v': 529,\n            'f': \"529\",\n        },\n\"-1\"],\n [{\n            'v': 530,\n            'f': \"530\",\n        },\n\"-1\"],\n [{\n            'v': 531,\n            'f': \"531\",\n        },\n\"84\"],\n [{\n            'v': 532,\n            'f': \"532\",\n        },\n\"92\"],\n [{\n            'v': 533,\n            'f': \"533\",\n        },\n\"89\"],\n [{\n            'v': 534,\n            'f': \"534\",\n        },\n\"80\"],\n [{\n            'v': 535,\n            'f': \"535\",\n        },\n\"86\"],\n [{\n            'v': 536,\n            'f': \"536\",\n        },\n\"82\"],\n [{\n            'v': 537,\n            'f': \"537\",\n        },\n\"86\"],\n [{\n            'v': 538,\n            'f': \"538\",\n        },\n\"86\"],\n [{\n            'v': 539,\n            'f': \"539\",\n        },\n\"92\"],\n [{\n            'v': 540,\n            'f': \"540\",\n        },\n\"87\"],\n [{\n            'v': 541,\n            'f': \"541\",\n        },\n\"83\"],\n [{\n            'v': 542,\n            'f': \"542\",\n        },\n\"-1\"],\n [{\n            'v': 543,\n            'f': \"543\",\n        },\n\"89\"],\n [{\n            'v': 544,\n            'f': \"544\",\n        },\n\"87\"],\n [{\n            'v': 545,\n            'f': \"545\",\n        },\n\"91\"],\n [{\n            'v': 546,\n            'f': \"546\",\n        },\n\"80\"],\n [{\n            'v': 547,\n            'f': \"547\",\n        },\n\"-1\"],\n [{\n            'v': 548,\n            'f': \"548\",\n        },\n\"87\"],\n [{\n            'v': 549,\n            'f': \"549\",\n        },\n\"80\"],\n [{\n            'v': 550,\n            'f': \"550\",\n        },\n\"82\"],\n [{\n            'v': 551,\n            'f': \"551\",\n        },\n\"88\"],\n [{\n            'v': 552,\n            'f': \"552\",\n        },\n\"83\"],\n [{\n            'v': 553,\n            'f': \"553\",\n        },\n\"82\"],\n [{\n            'v': 554,\n            'f': \"554\",\n        },\n\"00\"],\n [{\n            'v': 555,\n            'f': \"555\",\n        },\n\"92\"],\n [{\n            'v': 556,\n            'f': \"556\",\n        },\n\"82\"],\n [{\n            'v': 557,\n            'f': \"557\",\n        },\n\"-1\"],\n [{\n            'v': 558,\n            'f': \"558\",\n        },\n\"92\"],\n [{\n            'v': 559,\n            'f': \"559\",\n        },\n\"90\"],\n [{\n            'v': 560,\n            'f': \"560\",\n        },\n\"-1\"],\n [{\n            'v': 562,\n            'f': \"562\",\n        },\n\"85\"],\n [{\n            'v': 563,\n            'f': \"563\",\n        },\n\"85\"],\n [{\n            'v': 564,\n            'f': \"564\",\n        },\n\"95\"],\n [{\n            'v': 565,\n            'f': \"565\",\n        },\n\"-1\"],\n [{\n            'v': 566,\n            'f': \"566\",\n        },\n\"91\"],\n [{\n            'v': 567,\n            'f': \"567\",\n        },\n\"91\"],\n [{\n            'v': 568,\n            'f': \"568\",\n        },\n\"87\"],\n [{\n            'v': 569,\n            'f': \"569\",\n        },\n\"95\"],\n [{\n            'v': 570,\n            'f': \"570\",\n        },\n\"90\"],\n [{\n            'v': 572,\n            'f': \"572\",\n        },\n\"90\"],\n [{\n            'v': 573,\n            'f': \"573\",\n        },\n\"80\"],\n [{\n            'v': 574,\n            'f': \"574\",\n        },\n\"-1\"],\n [{\n            'v': 575,\n            'f': \"575\",\n        },\n\"96\"],\n [{\n            'v': 576,\n            'f': \"576\",\n        },\n\"85\"],\n [{\n            'v': 577,\n            'f': \"577\",\n        },\n\"00\"],\n [{\n            'v': 578,\n            'f': \"578\",\n        },\n\"93\"],\n [{\n            'v': 579,\n            'f': \"579\",\n        },\n\"89\"],\n [{\n            'v': 580,\n            'f': \"580\",\n        },\n\"85\"],\n [{\n            'v': 582,\n            'f': \"582\",\n        },\n\"81\"],\n [{\n            'v': 583,\n            'f': \"583\",\n        },\n\"79\"],\n [{\n            'v': 584,\n            'f': \"584\",\n        },\n\"90\"],\n [{\n            'v': 585,\n            'f': \"585\",\n        },\n\"78\"],\n [{\n            'v': 586,\n            'f': \"586\",\n        },\n\"81\"],\n [{\n            'v': 587,\n            'f': \"587\",\n        },\n\"-1\"],\n [{\n            'v': 588,\n            'f': \"588\",\n        },\n\"83\"],\n [{\n            'v': 589,\n            'f': \"589\",\n        },\n\"95\"],\n [{\n            'v': 590,\n            'f': \"590\",\n        },\n\"89\"],\n [{\n            'v': 591,\n            'f': \"591\",\n        },\n\"80\"],\n [{\n            'v': 592,\n            'f': \"592\",\n        },\n\"88\"],\n [{\n            'v': 594,\n            'f': \"594\",\n        },\n\"80\"],\n [{\n            'v': 595,\n            'f': \"595\",\n        },\n\"-1\"],\n [{\n            'v': 596,\n            'f': \"596\",\n        },\n\"76\"],\n [{\n            'v': 597,\n            'f': \"597\",\n        },\n\"85\"],\n [{\n            'v': 598,\n            'f': \"598\",\n        },\n\"87\"],\n [{\n            'v': 600,\n            'f': \"600\",\n        },\n\"85\"],\n [{\n            'v': 601,\n            'f': \"601\",\n        },\n\"90\"],\n [{\n            'v': 602,\n            'f': \"602\",\n        },\n\"-1\"],\n [{\n            'v': 603,\n            'f': \"603\",\n        },\n\"92\"],\n [{\n            'v': 604,\n            'f': \"604\",\n        },\n\"80\"],\n [{\n            'v': 605,\n            'f': \"605\",\n        },\n\"86\"],\n [{\n            'v': 606,\n            'f': \"606\",\n        },\n\"95\"],\n [{\n            'v': 608,\n            'f': \"608\",\n        },\n\"-1\"],\n [{\n            'v': 609,\n            'f': \"609\",\n        },\n\"89\"],\n [{\n            'v': 610,\n            'f': \"610\",\n        },\n\"88\"],\n [{\n            'v': 611,\n            'f': \"611\",\n        },\n\"82\"],\n [{\n            'v': 612,\n            'f': \"612\",\n        },\n\"95\"],\n [{\n            'v': 613,\n            'f': \"613\",\n        },\n\"84\"],\n [{\n            'v': 614,\n            'f': \"614\",\n        },\n\"95\"],\n [{\n            'v': 615,\n            'f': \"615\",\n        },\n\"88\"],\n [{\n            'v': 616,\n            'f': \"616\",\n        },\n\"82\"],\n [{\n            'v': 617,\n            'f': \"617\",\n        },\n\"80\"],\n [{\n            'v': 618,\n            'f': \"618\",\n        },\n\"82\"],\n [{\n            'v': 619,\n            'f': \"619\",\n        },\n\"-1\"],\n [{\n            'v': 620,\n            'f': \"620\",\n        },\n\"-1\"],\n [{\n            'v': 621,\n            'f': \"621\",\n        },\n\"90\"],\n [{\n            'v': 622,\n            'f': \"622\",\n        },\n\"85\"],\n [{\n            'v': 623,\n            'f': \"623\",\n        },\n\"-1\"],\n [{\n            'v': 624,\n            'f': \"624\",\n        },\n\"80\"],\n [{\n            'v': 625,\n            'f': \"625\",\n        },\n\"86\"],\n [{\n            'v': 626,\n            'f': \"626\",\n        },\n\"85\"],\n [{\n            'v': 627,\n            'f': \"627\",\n        },\n\"81\"],\n [{\n            'v': 628,\n            'f': \"628\",\n        },\n\"80\"],\n [{\n            'v': 629,\n            'f': \"629\",\n        },\n\"86\"],\n [{\n            'v': 630,\n            'f': \"630\",\n        },\n\"58\"],\n [{\n            'v': 631,\n            'f': \"631\",\n        },\n\"89\"],\n [{\n            'v': 632,\n            'f': \"632\",\n        },\n\"85\"],\n [{\n            'v': 634,\n            'f': \"634\",\n        },\n\"-1\"],\n [{\n            'v': 635,\n            'f': \"635\",\n        },\n\"84\"],\n [{\n            'v': 636,\n            'f': \"636\",\n        },\n\"95\"],\n [{\n            'v': 637,\n            'f': \"637\",\n        },\n\"90\"],\n [{\n            'v': 638,\n            'f': \"638\",\n        },\n\"95\"],\n [{\n            'v': 639,\n            'f': \"639\",\n        },\n\"88\"],\n [{\n            'v': 640,\n            'f': \"640\",\n        },\n\"85\"],\n [{\n            'v': 641,\n            'f': \"641\",\n        },\n\"90\"],\n [{\n            'v': 642,\n            'f': \"642\",\n        },\n\"90\"],\n [{\n            'v': 643,\n            'f': \"643\",\n        },\n\"88\"],\n [{\n            'v': 644,\n            'f': \"644\",\n        },\n\"-1\"],\n [{\n            'v': 645,\n            'f': \"645\",\n        },\n\"92\"],\n [{\n            'v': 646,\n            'f': \"646\",\n        },\n\"-1\"],\n [{\n            'v': 648,\n            'f': \"648\",\n        },\n\"91\"],\n [{\n            'v': 650,\n            'f': \"650\",\n        },\n\"-1\"],\n [{\n            'v': 651,\n            'f': \"651\",\n        },\n\"-1\"],\n [{\n            'v': 652,\n            'f': \"652\",\n        },\n\"95\"],\n [{\n            'v': 653,\n            'f': \"653\",\n        },\n\"82\"],\n [{\n            'v': 654,\n            'f': \"654\",\n        },\n\"81\"],\n [{\n            'v': 655,\n            'f': \"655\",\n        },\n\"92\"],\n [{\n            'v': 656,\n            'f': \"656\",\n        },\n\"95\"],\n [{\n            'v': 657,\n            'f': \"657\",\n        },\n\"89\"],\n [{\n            'v': 658,\n            'f': \"658\",\n        },\n\"84\"],\n [{\n            'v': 659,\n            'f': \"659\",\n        },\n\"-1\"],\n [{\n            'v': 660,\n            'f': \"660\",\n        },\n\"-1\"],\n [{\n            'v': 661,\n            'f': \"661\",\n        },\n\"-1\"],\n [{\n            'v': 662,\n            'f': \"662\",\n        },\n\"80\"],\n [{\n            'v': 663,\n            'f': \"663\",\n        },\n\"86\"],\n [{\n            'v': 664,\n            'f': \"664\",\n        },\n\"84\"],\n [{\n            'v': 665,\n            'f': \"665\",\n        },\n\"80\"],\n [{\n            'v': 666,\n            'f': \"666\",\n        },\n\"80\"],\n [{\n            'v': 667,\n            'f': \"667\",\n        },\n\"79\"],\n [{\n            'v': 668,\n            'f': \"668\",\n        },\n\"83\"],\n [{\n            'v': 669,\n            'f': \"669\",\n        },\n\"81\"],\n [{\n            'v': 670,\n            'f': \"670\",\n        },\n\"-1\"],\n [{\n            'v': 671,\n            'f': \"671\",\n        },\n\"-1\"],\n [{\n            'v': 672,\n            'f': \"672\",\n        },\n\"84\"],\n [{\n            'v': 674,\n            'f': \"674\",\n        },\n\"95\"],\n [{\n            'v': 675,\n            'f': \"675\",\n        },\n\"92\"],\n [{\n            'v': 676,\n            'f': \"676\",\n        },\n\"71\"],\n [{\n            'v': 677,\n            'f': \"677\",\n        },\n\"87\"],\n [{\n            'v': 678,\n            'f': \"678\",\n        },\n\"91\"],\n [{\n            'v': 679,\n            'f': \"679\",\n        },\n\"82\"],\n [{\n            'v': 681,\n            'f': \"681\",\n        },\n\"86\"],\n [{\n            'v': 682,\n            'f': \"682\",\n        },\n\"86\"],\n [{\n            'v': 683,\n            'f': \"683\",\n        },\n\"87\"],\n [{\n            'v': 684,\n            'f': \"684\",\n        },\n\"89\"],\n [{\n            'v': 685,\n            'f': \"685\",\n        },\n\"91\"],\n [{\n            'v': 686,\n            'f': \"686\",\n        },\n\"86\"],\n [{\n            'v': 687,\n            'f': \"687\",\n        },\n\"95\"],\n [{\n            'v': 688,\n            'f': \"688\",\n        },\n\"84\"],\n [{\n            'v': 689,\n            'f': \"689\",\n        },\n\"84\"],\n [{\n            'v': 690,\n            'f': \"690\",\n        },\n\"89\"],\n [{\n            'v': 691,\n            'f': \"691\",\n        },\n\"90\"],\n [{\n            'v': 692,\n            'f': \"692\",\n        },\n\"-1\"],\n [{\n            'v': 693,\n            'f': \"693\",\n        },\n\"84\"],\n [{\n            'v': 694,\n            'f': \"694\",\n        },\n\"-1\"],\n [{\n            'v': 695,\n            'f': \"695\",\n        },\n\"87\"],\n [{\n            'v': 696,\n            'f': \"696\",\n        },\n\"94\"],\n [{\n            'v': 697,\n            'f': \"697\",\n        },\n\"85\"],\n [{\n            'v': 699,\n            'f': \"699\",\n        },\n\"87\"],\n [{\n            'v': 701,\n            'f': \"701\",\n        },\n\"91\"],\n [{\n            'v': 702,\n            'f': \"702\",\n        },\n\"-1\"],\n [{\n            'v': 703,\n            'f': \"703\",\n        },\n\"69\"],\n [{\n            'v': 704,\n            'f': \"704\",\n        },\n\"87\"],\n [{\n            'v': 705,\n            'f': \"705\",\n        },\n\"-1\"],\n [{\n            'v': 706,\n            'f': \"706\",\n        },\n\"92\"],\n [{\n            'v': 707,\n            'f': \"707\",\n        },\n\"88\"],\n [{\n            'v': 708,\n            'f': \"708\",\n        },\n\"80\"],\n [{\n            'v': 709,\n            'f': \"709\",\n        },\n\"-1\"],\n [{\n            'v': 710,\n            'f': \"710\",\n        },\n\"86\"],\n [{\n            'v': 711,\n            'f': \"711\",\n        },\n\"87\"],\n [{\n            'v': 712,\n            'f': \"712\",\n        },\n\"86\"],\n [{\n            'v': 713,\n            'f': \"713\",\n        },\n\"95\"],\n [{\n            'v': 714,\n            'f': \"714\",\n        },\n\"83\"],\n [{\n            'v': 715,\n            'f': \"715\",\n        },\n\"-1\"],\n [{\n            'v': 717,\n            'f': \"717\",\n        },\n\"81\"],\n [{\n            'v': 718,\n            'f': \"718\",\n        },\n\"90\"],\n [{\n            'v': 719,\n            'f': \"719\",\n        },\n\"80\"],\n [{\n            'v': 721,\n            'f': \"721\",\n        },\n\"90\"],\n [{\n            'v': 722,\n            'f': \"722\",\n        },\n\"82\"],\n [{\n            'v': 723,\n            'f': \"723\",\n        },\n\"89\"],\n [{\n            'v': 724,\n            'f': \"724\",\n        },\n\"71\"],\n [{\n            'v': 725,\n            'f': \"725\",\n        },\n\"82\"],\n [{\n            'v': 726,\n            'f': \"726\",\n        },\n\"89\"],\n [{\n            'v': 727,\n            'f': \"727\",\n        },\n\"-1\"],\n [{\n            'v': 728,\n            'f': \"728\",\n        },\n\"90\"],\n [{\n            'v': 729,\n            'f': \"729\",\n        },\n\"95\"],\n [{\n            'v': 730,\n            'f': \"730\",\n        },\n\"91\"],\n [{\n            'v': 731,\n            'f': \"731\",\n        },\n\"90\"],\n [{\n            'v': 732,\n            'f': \"732\",\n        },\n\"-1\"],\n [{\n            'v': 733,\n            'f': \"733\",\n        },\n\"82\"],\n [{\n            'v': 734,\n            'f': \"734\",\n        },\n\"95\"],\n [{\n            'v': 735,\n            'f': \"735\",\n        },\n\"86\"],\n [{\n            'v': 736,\n            'f': \"736\",\n        },\n\"85\"],\n [{\n            'v': 737,\n            'f': \"737\",\n        },\n\"95\"],\n [{\n            'v': 738,\n            'f': \"738\",\n        },\n\"87\"],\n [{\n            'v': 739,\n            'f': \"739\",\n        },\n\"94\"],\n [{\n            'v': 740,\n            'f': \"740\",\n        },\n\"94\"],\n [{\n            'v': 741,\n            'f': \"741\",\n        },\n\"-1\"],\n [{\n            'v': 742,\n            'f': \"742\",\n        },\n\"84\"],\n [{\n            'v': 743,\n            'f': \"743\",\n        },\n\"-1\"],\n [{\n            'v': 744,\n            'f': \"744\",\n        },\n\"92\"],\n [{\n            'v': 746,\n            'f': \"746\",\n        },\n\"89\"],\n [{\n            'v': 747,\n            'f': \"747\",\n        },\n\"92\"],\n [{\n            'v': 748,\n            'f': \"748\",\n        },\n\"83\"],\n [{\n            'v': 749,\n            'f': \"749\",\n        },\n\"84\"],\n [{\n            'v': 750,\n            'f': \"750\",\n        },\n\"-1\"],\n [{\n            'v': 751,\n            'f': \"751\",\n        },\n\"80\"],\n [{\n            'v': 752,\n            'f': \"752\",\n        },\n\"80\"],\n [{\n            'v': 753,\n            'f': \"753\",\n        },\n\"-1\"],\n [{\n            'v': 754,\n            'f': \"754\",\n        },\n\"87\"],\n [{\n            'v': 755,\n            'f': \"755\",\n        },\n\"-1\"],\n [{\n            'v': 756,\n            'f': \"756\",\n        },\n\"-1\"],\n [{\n            'v': 757,\n            'f': \"757\",\n        },\n\"-1\"],\n [{\n            'v': 758,\n            'f': \"758\",\n        },\n\"-1\"],\n [{\n            'v': 759,\n            'f': \"759\",\n        },\n\"85\"],\n [{\n            'v': 760,\n            'f': \"760\",\n        },\n\"86\"],\n [{\n            'v': 761,\n            'f': \"761\",\n        },\n\"87\"],\n [{\n            'v': 762,\n            'f': \"762\",\n        },\n\"00\"],\n [{\n            'v': 763,\n            'f': \"763\",\n        },\n\"-1\"],\n [{\n            'v': 764,\n            'f': \"764\",\n        },\n\"-1\"],\n [{\n            'v': 765,\n            'f': \"765\",\n        },\n\"-1\"],\n [{\n            'v': 766,\n            'f': \"766\",\n        },\n\"85\"],\n [{\n            'v': 767,\n            'f': \"767\",\n        },\n\"92\"],\n [{\n            'v': 768,\n            'f': \"768\",\n        },\n\"80\"],\n [{\n            'v': 769,\n            'f': \"769\",\n        },\n\"84\"],\n [{\n            'v': 770,\n            'f': \"770\",\n        },\n\"84\"],\n [{\n            'v': 771,\n            'f': \"771\",\n        },\n\"81\"],\n [{\n            'v': 772,\n            'f': \"772\",\n        },\n\"-1\"],\n [{\n            'v': 773,\n            'f': \"773\",\n        },\n\"-1\"],\n [{\n            'v': 774,\n            'f': \"774\",\n        },\n\"89\"],\n [{\n            'v': 775,\n            'f': \"775\",\n        },\n\"-1\"],\n [{\n            'v': 776,\n            'f': \"776\",\n        },\n\"86\"],\n [{\n            'v': 777,\n            'f': \"777\",\n        },\n\"86\"],\n [{\n            'v': 778,\n            'f': \"778\",\n        },\n\"82\"],\n [{\n            'v': 779,\n            'f': \"779\",\n        },\n\"87\"],\n [{\n            'v': 780,\n            'f': \"780\",\n        },\n\"81\"],\n [{\n            'v': 781,\n            'f': \"781\",\n        },\n\"84\"],\n [{\n            'v': 782,\n            'f': \"782\",\n        },\n\"-1\"],\n [{\n            'v': 783,\n            'f': \"783\",\n        },\n\"87\"],\n [{\n            'v': 784,\n            'f': \"784\",\n        },\n\"80\"],\n [{\n            'v': 785,\n            'f': \"785\",\n        },\n\"88\"],\n [{\n            'v': 787,\n            'f': \"787\",\n        },\n\"91\"],\n [{\n            'v': 788,\n            'f': \"788\",\n        },\n\"-1\"],\n [{\n            'v': 789,\n            'f': \"789\",\n        },\n\"84\"],\n [{\n            'v': 790,\n            'f': \"790\",\n        },\n\"94\"],\n [{\n            'v': 792,\n            'f': \"792\",\n        },\n\"80\"],\n [{\n            'v': 793,\n            'f': \"793\",\n        },\n\"83\"],\n [{\n            'v': 794,\n            'f': \"794\",\n        },\n\"73\"],\n [{\n            'v': 795,\n            'f': \"795\",\n        },\n\"88\"],\n [{\n            'v': 796,\n            'f': \"796\",\n        },\n\"80\"],\n [{\n            'v': 797,\n            'f': \"797\",\n        },\n\"80\"],\n [{\n            'v': 798,\n            'f': \"798\",\n        },\n\"89\"],\n [{\n            'v': 800,\n            'f': \"800\",\n        },\n\"80\"],\n [{\n            'v': 801,\n            'f': \"801\",\n        },\n\"88\"],\n [{\n            'v': 802,\n            'f': \"802\",\n        },\n\"-1\"],\n [{\n            'v': 803,\n            'f': \"803\",\n        },\n\"90\"],\n [{\n            'v': 804,\n            'f': \"804\",\n        },\n\"89\"],\n [{\n            'v': 805,\n            'f': \"805\",\n        },\n\"89\"],\n [{\n            'v': 806,\n            'f': \"806\",\n        },\n\"-1\"],\n [{\n            'v': 807,\n            'f': \"807\",\n        },\n\"82\"],\n [{\n            'v': 808,\n            'f': \"808\",\n        },\n\"83\"],\n [{\n            'v': 809,\n            'f': \"809\",\n        },\n\"81\"],\n [{\n            'v': 810,\n            'f': \"810\",\n        },\n\"89\"],\n [{\n            'v': 811,\n            'f': \"811\",\n        },\n\"84\"],\n [{\n            'v': 812,\n            'f': \"812\",\n        },\n\"86\"],\n [{\n            'v': 813,\n            'f': \"813\",\n        },\n\"-1\"],\n [{\n            'v': 814,\n            'f': \"814\",\n        },\n\"-1\"],\n [{\n            'v': 815,\n            'f': \"815\",\n        },\n\"80\"],\n [{\n            'v': 816,\n            'f': \"816\",\n        },\n\"-1\"],\n [{\n            'v': 817,\n            'f': \"817\",\n        },\n\"84\"],\n [{\n            'v': 818,\n            'f': \"818\",\n        },\n\"-1\"],\n [{\n            'v': 819,\n            'f': \"819\",\n        },\n\"00\"],\n [{\n            'v': 820,\n            'f': \"820\",\n        },\n\"92\"],\n [{\n            'v': 821,\n            'f': \"821\",\n        },\n\"87\"],\n [{\n            'v': 822,\n            'f': \"822\",\n        },\n\"95\"],\n [{\n            'v': 823,\n            'f': \"823\",\n        },\n\"-1\"],\n [{\n            'v': 825,\n            'f': \"825\",\n        },\n\"82\"],\n [{\n            'v': 826,\n            'f': \"826\",\n        },\n\"-1\"],\n [{\n            'v': 827,\n            'f': \"827\",\n        },\n\"88\"],\n [{\n            'v': 828,\n            'f': \"828\",\n        },\n\"80\"],\n [{\n            'v': 830,\n            'f': \"830\",\n        },\n\"89\"],\n [{\n            'v': 831,\n            'f': \"831\",\n        },\n\"92\"],\n [{\n            'v': 832,\n            'f': \"832\",\n        },\n\"95\"],\n [{\n            'v': 833,\n            'f': \"833\",\n        },\n\"87\"],\n [{\n            'v': 834,\n            'f': \"834\",\n        },\n\"-1\"],\n [{\n            'v': 835,\n            'f': \"835\",\n        },\n\"-1\"],\n [{\n            'v': 836,\n            'f': \"836\",\n        },\n\"86\"],\n [{\n            'v': 837,\n            'f': \"837\",\n        },\n\"88\"],\n [{\n            'v': 838,\n            'f': \"838\",\n        },\n\"87\"],\n [{\n            'v': 839,\n            'f': \"839\",\n        },\n\"78\"],\n [{\n            'v': 840,\n            'f': \"840\",\n        },\n\"80\"],\n [{\n            'v': 841,\n            'f': \"841\",\n        },\n\"88\"],\n [{\n            'v': 842,\n            'f': \"842\",\n        },\n\"91\"],\n [{\n            'v': 843,\n            'f': \"843\",\n        },\n\"92\"],\n [{\n            'v': 845,\n            'f': \"845\",\n        },\n\"90\"],\n [{\n            'v': 846,\n            'f': \"846\",\n        },\n\"93\"],\n [{\n            'v': 847,\n            'f': \"847\",\n        },\n\"67\"],\n [{\n            'v': 848,\n            'f': \"848\",\n        },\n\"90\"],\n [{\n            'v': 849,\n            'f': \"849\",\n        },\n\"82\"],\n [{\n            'v': 850,\n            'f': \"850\",\n        },\n\"-1\"],\n [{\n            'v': 851,\n            'f': \"851\",\n        },\n\"67\"],\n [{\n            'v': 852,\n            'f': \"852\",\n        },\n\"-1\"],\n [{\n            'v': 853,\n            'f': \"853\",\n        },\n\"-1\"],\n [{\n            'v': 854,\n            'f': \"854\",\n        },\n\"-1\"],\n [{\n            'v': 855,\n            'f': \"855\",\n        },\n\"88\"],\n [{\n            'v': 856,\n            'f': \"856\",\n        },\n\"00\"],\n [{\n            'v': 857,\n            'f': \"857\",\n        },\n\"87\"],\n [{\n            'v': 858,\n            'f': \"858\",\n        },\n\"92\"],\n [{\n            'v': 859,\n            'f': \"859\",\n        },\n\"88\"],\n [{\n            'v': 860,\n            'f': \"860\",\n        },\n\"87\"],\n [{\n            'v': 861,\n            'f': \"861\",\n        },\n\"81\"],\n [{\n            'v': 862,\n            'f': \"862\",\n        },\n\"84\"],\n [{\n            'v': 863,\n            'f': \"863\",\n        },\n\"88\"],\n [{\n            'v': 864,\n            'f': \"864\",\n        },\n\"-1\"],\n [{\n            'v': 865,\n            'f': \"865\",\n        },\n\"81\"],\n [{\n            'v': 866,\n            'f': \"866\",\n        },\n\"92\"],\n [{\n            'v': 868,\n            'f': \"868\",\n        },\n\"80\"],\n [{\n            'v': 869,\n            'f': \"869\",\n        },\n\"-1\"],\n [{\n            'v': 870,\n            'f': \"870\",\n        },\n\"-1\"],\n [{\n            'v': 871,\n            'f': \"871\",\n        },\n\"86\"],\n [{\n            'v': 872,\n            'f': \"872\",\n        },\n\"-1\"],\n [{\n            'v': 874,\n            'f': \"874\",\n        },\n\"00\"],\n [{\n            'v': 875,\n            'f': \"875\",\n        },\n\"79\"],\n [{\n            'v': 876,\n            'f': \"876\",\n        },\n\"90\"],\n [{\n            'v': 877,\n            'f': \"877\",\n        },\n\"88\"],\n [{\n            'v': 878,\n            'f': \"878\",\n        },\n\"71\"],\n [{\n            'v': 880,\n            'f': \"880\",\n        },\n\"67\"],\n [{\n            'v': 881,\n            'f': \"881\",\n        },\n\"77\"],\n [{\n            'v': 882,\n            'f': \"882\",\n        },\n\"-1\"],\n [{\n            'v': 883,\n            'f': \"883\",\n        },\n\"95\"],\n [{\n            'v': 884,\n            'f': \"884\",\n        },\n\"00\"],\n [{\n            'v': 885,\n            'f': \"885\",\n        },\n\"92\"],\n [{\n            'v': 886,\n            'f': \"886\",\n        },\n\"86\"],\n [{\n            'v': 887,\n            'f': \"887\",\n        },\n\"95\"],\n [{\n            'v': 888,\n            'f': \"888\",\n        },\n\"-1\"],\n [{\n            'v': 889,\n            'f': \"889\",\n        },\n\"-1\"],\n [{\n            'v': 890,\n            'f': \"890\",\n        },\n\"83\"],\n [{\n            'v': 891,\n            'f': \"891\",\n        },\n\"92\"],\n [{\n            'v': 892,\n            'f': \"892\",\n        },\n\"-1\"],\n [{\n            'v': 893,\n            'f': \"893\",\n        },\n\"90\"],\n [{\n            'v': 894,\n            'f': \"894\",\n        },\n\"85\"],\n [{\n            'v': 895,\n            'f': \"895\",\n        },\n\"88\"],\n [{\n            'v': 896,\n            'f': \"896\",\n        },\n\"-1\"],\n [{\n            'v': 897,\n            'f': \"897\",\n        },\n\"90\"],\n [{\n            'v': 898,\n            'f': \"898\",\n        },\n\"-1\"],\n [{\n            'v': 899,\n            'f': \"899\",\n        },\n\"86\"],\n [{\n            'v': 900,\n            'f': \"900\",\n        },\n\"87\"],\n [{\n            'v': 901,\n            'f': \"901\",\n        },\n\"90\"],\n [{\n            'v': 902,\n            'f': \"902\",\n        },\n\"91\"],\n [{\n            'v': 903,\n            'f': \"903\",\n        },\n\"88\"],\n [{\n            'v': 904,\n            'f': \"904\",\n        },\n\"83\"],\n [{\n            'v': 905,\n            'f': \"905\",\n        },\n\"-1\"],\n [{\n            'v': 906,\n            'f': \"906\",\n        },\n\"81\"],\n [{\n            'v': 907,\n            'f': \"907\",\n        },\n\"-1\"],\n [{\n            'v': 908,\n            'f': \"908\",\n        },\n\"81\"],\n [{\n            'v': 909,\n            'f': \"909\",\n        },\n\"-1\"],\n [{\n            'v': 910,\n            'f': \"910\",\n        },\n\"-1\"],\n [{\n            'v': 911,\n            'f': \"911\",\n        },\n\"79\"],\n [{\n            'v': 912,\n            'f': \"912\",\n        },\n\"84\"],\n [{\n            'v': 913,\n            'f': \"913\",\n        },\n\"88\"],\n [{\n            'v': 914,\n            'f': \"914\",\n        },\n\"-1\"],\n [{\n            'v': 915,\n            'f': \"915\",\n        },\n\"88\"],\n [{\n            'v': 916,\n            'f': \"916\",\n        },\n\"00\"],\n [{\n            'v': 917,\n            'f': \"917\",\n        },\n\"-1\"],\n [{\n            'v': 918,\n            'f': \"918\",\n        },\n\"87\"],\n [{\n            'v': 919,\n            'f': \"919\",\n        },\n\"-1\"],\n [{\n            'v': 920,\n            'f': \"920\",\n        },\n\"-1\"],\n [{\n            'v': 921,\n            'f': \"921\",\n        },\n\"82\"],\n [{\n            'v': 922,\n            'f': \"922\",\n        },\n\"87\"],\n [{\n            'v': 923,\n            'f': \"923\",\n        },\n\"85\"],\n [{\n            'v': 924,\n            'f': \"924\",\n        },\n\"00\"],\n [{\n            'v': 926,\n            'f': \"926\",\n        },\n\"84\"],\n [{\n            'v': 927,\n            'f': \"927\",\n        },\n\"92\"],\n [{\n            'v': 928,\n            'f': \"928\",\n        },\n\"86\"],\n [{\n            'v': 929,\n            'f': \"929\",\n        },\n\"83\"],\n [{\n            'v': 930,\n            'f': \"930\",\n        },\n\"85\"],\n [{\n            'v': 931,\n            'f': \"931\",\n        },\n\"81\"],\n [{\n            'v': 933,\n            'f': \"933\",\n        },\n\"76\"],\n [{\n            'v': 934,\n            'f': \"934\",\n        },\n\"80\"],\n [{\n            'v': 935,\n            'f': \"935\",\n        },\n\"-1\"],\n [{\n            'v': 936,\n            'f': \"936\",\n        },\n\"81\"],\n [{\n            'v': 937,\n            'f': \"937\",\n        },\n\"-1\"],\n [{\n            'v': 938,\n            'f': \"938\",\n        },\n\"81\"],\n [{\n            'v': 939,\n            'f': \"939\",\n        },\n\"86\"],\n [{\n            'v': 940,\n            'f': \"940\",\n        },\n\"91\"],\n [{\n            'v': 941,\n            'f': \"941\",\n        },\n\"91\"],\n [{\n            'v': 942,\n            'f': \"942\",\n        },\n\"88\"],\n [{\n            'v': 943,\n            'f': \"943\",\n        },\n\"84\"],\n [{\n            'v': 944,\n            'f': \"944\",\n        },\n\"80\"],\n [{\n            'v': 945,\n            'f': \"945\",\n        },\n\"-1\"],\n [{\n            'v': 946,\n            'f': \"946\",\n        },\n\"84\"],\n [{\n            'v': 947,\n            'f': \"947\",\n        },\n\"81\"],\n [{\n            'v': 948,\n            'f': \"948\",\n        },\n\"81\"],\n [{\n            'v': 949,\n            'f': \"949\",\n        },\n\"87\"],\n [{\n            'v': 951,\n            'f': \"951\",\n        },\n\"85\"],\n [{\n            'v': 952,\n            'f': \"952\",\n        },\n\"80\"],\n [{\n            'v': 953,\n            'f': \"953\",\n        },\n\"67\"],\n [{\n            'v': 954,\n            'f': \"954\",\n        },\n\"85\"],\n [{\n            'v': 955,\n            'f': \"955\",\n        },\n\"86\"],\n [{\n            'v': 957,\n            'f': \"957\",\n        },\n\"85\"],\n [{\n            'v': 958,\n            'f': \"958\",\n        },\n\"-1\"],\n [{\n            'v': 959,\n            'f': \"959\",\n        },\n\"84\"],\n [{\n            'v': 960,\n            'f': \"960\",\n        },\n\"88\"],\n [{\n            'v': 961,\n            'f': \"961\",\n        },\n\"85\"],\n [{\n            'v': 962,\n            'f': \"962\",\n        },\n\"80\"],\n [{\n            'v': 963,\n            'f': \"963\",\n        },\n\"82\"],\n [{\n            'v': 964,\n            'f': \"964\",\n        },\n\"85\"],\n [{\n            'v': 967,\n            'f': \"967\",\n        },\n\"80\"],\n [{\n            'v': 969,\n            'f': \"969\",\n        },\n\"-1\"]],\n        columns: [[\"number\", \"index\"], [\"string\", \"merchant_info_subtitle\"]],\n        columnOptions: [{\"width\": \"1px\", \"className\": \"index_column\"}],\n        rowsPerPage: 25,\n        helpUrl: \"https://colab.research.google.com/notebooks/data_table.ipynb\",\n        suppressOutputScrolling: true,\n        minimumWidth: undefined,\n      });\n    ",
            "text/html": [
              "\n",
              "  <div id=\"df-54a4810d-b8e8-4eb9-bed7-846b9b0e99d5\">\n",
              "    <div class=\"colab-df-container\">\n",
              "      <div>\n",
              "<style scoped>\n",
              "    .dataframe tbody tr th:only-of-type {\n",
              "        vertical-align: middle;\n",
              "    }\n",
              "\n",
              "    .dataframe tbody tr th {\n",
              "        vertical-align: top;\n",
              "    }\n",
              "\n",
              "    .dataframe thead th {\n",
              "        text-align: right;\n",
              "    }\n",
              "</style>\n",
              "<table border=\"1\" class=\"dataframe\">\n",
              "  <thead>\n",
              "    <tr style=\"text-align: right;\">\n",
              "      <th></th>\n",
              "      <th>merchant_info_subtitle</th>\n",
              "    </tr>\n",
              "  </thead>\n",
              "  <tbody>\n",
              "    <tr>\n",
              "      <th>0</th>\n",
              "      <td>94</td>\n",
              "    </tr>\n",
              "    <tr>\n",
              "      <th>1</th>\n",
              "      <td>67</td>\n",
              "    </tr>\n",
              "    <tr>\n",
              "      <th>2</th>\n",
              "      <td>-1</td>\n",
              "    </tr>\n",
              "    <tr>\n",
              "      <th>3</th>\n",
              "      <td>-1</td>\n",
              "    </tr>\n",
              "    <tr>\n",
              "      <th>4</th>\n",
              "      <td>85</td>\n",
              "    </tr>\n",
              "    <tr>\n",
              "      <th>...</th>\n",
              "      <td>...</td>\n",
              "    </tr>\n",
              "    <tr>\n",
              "      <th>962</th>\n",
              "      <td>80</td>\n",
              "    </tr>\n",
              "    <tr>\n",
              "      <th>963</th>\n",
              "      <td>82</td>\n",
              "    </tr>\n",
              "    <tr>\n",
              "      <th>964</th>\n",
              "      <td>85</td>\n",
              "    </tr>\n",
              "    <tr>\n",
              "      <th>967</th>\n",
              "      <td>80</td>\n",
              "    </tr>\n",
              "    <tr>\n",
              "      <th>969</th>\n",
              "      <td>-1</td>\n",
              "    </tr>\n",
              "  </tbody>\n",
              "</table>\n",
              "<p>901 rows × 1 columns</p>\n",
              "</div>\n",
              "      <button class=\"colab-df-convert\" onclick=\"convertToInteractive('df-54a4810d-b8e8-4eb9-bed7-846b9b0e99d5')\"\n",
              "              title=\"Convert this dataframe to an interactive table.\"\n",
              "              style=\"display:none;\">\n",
              "        \n",
              "  <svg xmlns=\"http://www.w3.org/2000/svg\" height=\"24px\"viewBox=\"0 0 24 24\"\n",
              "       width=\"24px\">\n",
              "    <path d=\"M0 0h24v24H0V0z\" fill=\"none\"/>\n",
              "    <path d=\"M18.56 5.44l.94 2.06.94-2.06 2.06-.94-2.06-.94-.94-2.06-.94 2.06-2.06.94zm-11 1L8.5 8.5l.94-2.06 2.06-.94-2.06-.94L8.5 2.5l-.94 2.06-2.06.94zm10 10l.94 2.06.94-2.06 2.06-.94-2.06-.94-.94-2.06-.94 2.06-2.06.94z\"/><path d=\"M17.41 7.96l-1.37-1.37c-.4-.4-.92-.59-1.43-.59-.52 0-1.04.2-1.43.59L10.3 9.45l-7.72 7.72c-.78.78-.78 2.05 0 2.83L4 21.41c.39.39.9.59 1.41.59.51 0 1.02-.2 1.41-.59l7.78-7.78 2.81-2.81c.8-.78.8-2.07 0-2.86zM5.41 20L4 18.59l7.72-7.72 1.47 1.35L5.41 20z\"/>\n",
              "  </svg>\n",
              "      </button>\n",
              "      \n",
              "  <style>\n",
              "    .colab-df-container {\n",
              "      display:flex;\n",
              "      flex-wrap:wrap;\n",
              "      gap: 12px;\n",
              "    }\n",
              "\n",
              "    .colab-df-convert {\n",
              "      background-color: #E8F0FE;\n",
              "      border: none;\n",
              "      border-radius: 50%;\n",
              "      cursor: pointer;\n",
              "      display: none;\n",
              "      fill: #1967D2;\n",
              "      height: 32px;\n",
              "      padding: 0 0 0 0;\n",
              "      width: 32px;\n",
              "    }\n",
              "\n",
              "    .colab-df-convert:hover {\n",
              "      background-color: #E2EBFA;\n",
              "      box-shadow: 0px 1px 2px rgba(60, 64, 67, 0.3), 0px 1px 3px 1px rgba(60, 64, 67, 0.15);\n",
              "      fill: #174EA6;\n",
              "    }\n",
              "\n",
              "    [theme=dark] .colab-df-convert {\n",
              "      background-color: #3B4455;\n",
              "      fill: #D2E3FC;\n",
              "    }\n",
              "\n",
              "    [theme=dark] .colab-df-convert:hover {\n",
              "      background-color: #434B5C;\n",
              "      box-shadow: 0px 1px 3px 1px rgba(0, 0, 0, 0.15);\n",
              "      filter: drop-shadow(0px 1px 2px rgba(0, 0, 0, 0.3));\n",
              "      fill: #FFFFFF;\n",
              "    }\n",
              "  </style>\n",
              "\n",
              "      <script>\n",
              "        const buttonEl =\n",
              "          document.querySelector('#df-54a4810d-b8e8-4eb9-bed7-846b9b0e99d5 button.colab-df-convert');\n",
              "        buttonEl.style.display =\n",
              "          google.colab.kernel.accessAllowed ? 'block' : 'none';\n",
              "\n",
              "        async function convertToInteractive(key) {\n",
              "          const element = document.querySelector('#df-54a4810d-b8e8-4eb9-bed7-846b9b0e99d5');\n",
              "          const dataTable =\n",
              "            await google.colab.kernel.invokeFunction('convertToInteractive',\n",
              "                                                     [key], {});\n",
              "          if (!dataTable) return;\n",
              "\n",
              "          const docLinkHtml = 'Like what you see? Visit the ' +\n",
              "            '<a target=\"_blank\" href=https://colab.research.google.com/notebooks/data_table.ipynb>data table notebook</a>'\n",
              "            + ' to learn more about interactive tables.';\n",
              "          element.innerHTML = '';\n",
              "          dataTable['output_type'] = 'display_data';\n",
              "          await google.colab.output.renderOutput(dataTable, element);\n",
              "          const docLink = document.createElement('div');\n",
              "          docLink.innerHTML = docLinkHtml;\n",
              "          element.appendChild(docLink);\n",
              "        }\n",
              "      </script>\n",
              "    </div>\n",
              "  </div>\n",
              "  "
            ],
            "text/plain": [
              "    merchant_info_subtitle\n",
              "0                       94\n",
              "1                       67\n",
              "2                       -1\n",
              "3                       -1\n",
              "4                       85\n",
              "..                     ...\n",
              "962                     80\n",
              "963                     82\n",
              "964                     85\n",
              "967                     80\n",
              "969                     -1\n",
              "\n",
              "[901 rows x 1 columns]"
            ]
          },
          "metadata": {},
          "execution_count": 44
        }
      ]
    },
    {
      "cell_type": "code",
      "source": [
        "df.rename(columns={'merchant_info_subtitle':'merchant_positive_percent'},inplace=True)"
      ],
      "metadata": {
        "id": "gWMY2Baq-5zf"
      },
      "execution_count": null,
      "outputs": []
    },
    {
      "cell_type": "code",
      "source": [
        "df['merchant_positive_percent'] = df['merchant_positive_percent'].astype('float')"
      ],
      "metadata": {
        "id": "BH23I5u_9hrD"
      },
      "execution_count": null,
      "outputs": []
    },
    {
      "cell_type": "code",
      "source": [
        "df.columns[df.isna().sum()<0]"
      ],
      "metadata": {
        "colab": {
          "base_uri": "https://localhost:8080/"
        },
        "id": "y1G8L8Xn8lQt",
        "outputId": "b51fb7c6-bd90-4e91-fc81-41b4d7246c32"
      },
      "execution_count": null,
      "outputs": [
        {
          "output_type": "execute_result",
          "data": {
            "text/plain": [
              "Index([], dtype='object')"
            ]
          },
          "metadata": {},
          "execution_count": 47
        }
      ]
    },
    {
      "cell_type": "markdown",
      "source": [
        "# reform ID"
      ],
      "metadata": {
        "id": "2wZD-ezTeVKW"
      }
    },
    {
      "cell_type": "code",
      "source": [
        "from sklearn.preprocessing import LabelEncoder\n",
        "le = LabelEncoder()"
      ],
      "metadata": {
        "id": "ecYKl7LFUMYC"
      },
      "execution_count": null,
      "outputs": []
    },
    {
      "cell_type": "code",
      "source": [
        "df['merchant_id'] = le.fit_transform(df['merchant_id'])"
      ],
      "metadata": {
        "id": "4KeYvhfcUGmx"
      },
      "execution_count": null,
      "outputs": []
    },
    {
      "cell_type": "code",
      "source": [
        "df['product_id'] = le.fit_transform(df['product_id'])"
      ],
      "metadata": {
        "id": "quqrLyU1UHXS"
      },
      "execution_count": null,
      "outputs": []
    },
    {
      "cell_type": "markdown",
      "source": [
        "# Outliers Removing"
      ],
      "metadata": {
        "id": "9XqB3uMQeMa9"
      }
    },
    {
      "cell_type": "code",
      "source": [
        "px.scatter(df, x='discount_price', y='rating',marginal_x='box', title='discount Price vs rating')"
      ],
      "metadata": {
        "colab": {
          "base_uri": "https://localhost:8080/",
          "height": 542
        },
        "id": "8qa-iQZfa8ZK",
        "outputId": "40439cca-d3e8-479c-b192-9fd720b09b7e"
      },
      "execution_count": null,
      "outputs": [
        {
          "output_type": "display_data",
          "data": {
            "text/html": [
              "<html>\n",
              "<head><meta charset=\"utf-8\" /></head>\n",
              "<body>\n",
              "    <div>\n",
              "            <script src=\"https://cdnjs.cloudflare.com/ajax/libs/mathjax/2.7.5/MathJax.js?config=TeX-AMS-MML_SVG\"></script><script type=\"text/javascript\">if (window.MathJax) {MathJax.Hub.Config({SVG: {font: \"STIX-Web\"}});}</script>\n",
              "                <script type=\"text/javascript\">window.PlotlyConfig = {MathJaxConfig: 'local'};</script>\n",
              "        <script src=\"https://cdn.plot.ly/plotly-latest.min.js\"></script>    \n",
              "            <div id=\"d32e5339-069e-4a1e-9d3c-a99ea7268343\" class=\"plotly-graph-div\" style=\"height:525px; width:100%;\"></div>\n",
              "            <script type=\"text/javascript\">\n",
              "                \n",
              "                    window.PLOTLYENV=window.PLOTLYENV || {};\n",
              "                    \n",
              "                if (document.getElementById(\"d32e5339-069e-4a1e-9d3c-a99ea7268343\")) {\n",
              "                    Plotly.newPlot(\n",
              "                        'd32e5339-069e-4a1e-9d3c-a99ea7268343',\n",
              "                        [{\"hoverlabel\": {\"namelength\": 0}, \"hovertemplate\": \"discount_price=%{x}<br>rating=%{y}\", \"legendgroup\": \"\", \"marker\": {\"color\": \"#636efa\", \"symbol\": \"circle\"}, \"mode\": \"markers\", \"name\": \"\", \"showlegend\": false, \"type\": \"scatter\", \"x\": [3.11, 42.0, 4.79, 5.0, 4.69, 3.12, 22.0, 4.13, 3.15, 3.16, 15.0, 11.0, 4.8, 2.35, 3.86, 4.66, 24.0, 5.0, 10.0, 7.0, 50.0, 16.0, 4.78, 3.88, 5.0, 4.75, 5.0, 24.0, 8.0, 4.73, 28.0, 3.04, 5.0, 20.0, 1.53, 10.0, 15.0, 41.0, 10.0, 10.0, 19.0, 4.75, 4.74, 20.0, 14.0, 28.0, 23.0, 21.0, 39.0, 3.0, 12.0, 6.0, 21.0, 7.0, 33.0, 7.0, 81.0, 11.0, 14.0, 15.0, 23.0, 4.74, 7.0, 5.0, 10.0, 5.0, 12.0, 3.08, 4.0, 10.0, 13.0, 7.0, 10.0, 25.0, 7.0, 4.0, 10.0, 10.0, 10.0, 4.71, 8.0, 4.67, 17.0, 3.09, 24.0, 10.0, 10.0, 10.0, 23.0, 7.0, 10.0, 3.89, 19.0, 3.85, 11.0, 25.0, 6.0, 4.84, 7.0, 30.0, 7.0, 3.03, 5.0, 10.0, 14.0, 6.0, 3.14, 38.0, 4.0, 7.0, 1.46, 11.0, 3.89, 12.0, 29.0, 13.0, 6.0, 10.0, 33.0, 12.0, 13.0, 10.0, 7.0, 11.0, 5.0, 8.0, 25.0, 4.72, 5.0, 14.0, 13.0, 80.0, 15.0, 25.0, 4.79, 22.0, 15.0, 15.0, 30.0, 47.0, 15.0, 7.0, 8.0, 5.0, 4.8, 7.0, 4.7, 26.0, 3.15, 7.0, 12.0, 42.0, 4.73, 3.0, 7.0, 6.0, 10.0, 17.0, 6.0, 4.8, 3.07, 8.0, 30.0, 4.69, 4.75, 4.74, 10.0, 5.0, 25.0, 8.0, 5.0, 4.83, 3.02, 28.0, 3.94, 28.0, 5.0, 10.0, 19.0, 15.0, 5.0, 55.0, 21.0, 13.0, 8.0, 10.0, 7.0, 25.0, 2.19, 3.97, 5.0, 4.84, 5.0, 32.0, 6.0, 6.0, 2.34, 13.0, 6.0, 26.0, 25.0, 10.0, 8.0, 10.0, 41.0, 11.0, 6.0, 7.0, 5.0, 38.0, 28.0, 4.02, 25.0, 3.86, 26.0, 7.0, 4.76, 4.71, 11.0, 5.0, 4.71, 7.0, 6.0, 29.0, 29.0, 4.75, 14.0, 58.0, 6.0, 12.0, 15.0, 10.0, 7.0, 10.0, 7.0, 10.0, 4.69, 16.0, 17.0, 21.0, 10.0, 4.84, 7.0, 5.0, 5.0, 6.0, 4.84, 15.0, 10.0, 25.0, 5.0, 10.0, 16.0, 10.0, 13.0, 5.0, 8.0, 5.0, 5.0, 6.0, 14.0, 4.77, 5.0, 4.79, 4.81, 14.0, 5.0, 11.0, 14.0, 4.8, 6.0, 4.72, 21.0, 10.0, 7.0, 7.0, 6.0, 17.0, 7.0, 25.0, 34.0, 7.0, 4.0, 6.0, 4.69, 7.0, 4.83, 10.0, 10.0, 3.88, 19.0, 14.0, 13.0, 7.0, 29.0, 24.0, 29.0, 37.0, 10.0, 7.0, 2.19, 8.0, 10.0, 7.0, 20.0, 15.0, 14.0, 28.0, 8.0, 17.0, 8.0, 7.0, 16.0, 7.0, 3.04, 7.0, 7.0, 10.0, 10.0, 5.0, 14.0, 14.0, 23.0, 5.0, 19.0, 5.0, 7.0, 34.0, 7.0, 10.0, 22.0, 10.0, 32.0, 10.0, 8.0, 10.0, 19.0, 10.0, 43.0, 5.0, 3.96, 12.0, 10.0, 34.0, 8.0, 5.0, 4.76, 8.0, 28.0, 10.0, 0.0, 10.0, 23.0, 5.0, 6.0, 11.0, 3.14, 10.0, 78.0, 3.04, 4.0, 5.0, 3.84, 7.0, 12.0, 10.0, 11.0, 11.0, 25.0, 3.0, 6.0, 8.0, 11.0, 12.0, 4.13, 6.0, 5.0, 203.0, 10.0, 7.0, 7.0, 4.73, 42.0, 16.0, 8.0, 48.0, 5.0, 10.0, 21.0, 15.0, 10.0, 15.0, 10.0, 15.0, 12.0, 7.0, 12.0, 8.0, 1.39, 5.0, 6.0, 2.24, 12.0, 50.0, 2.29, 11.0, 10.0, 3.89, 33.0, 6.0, 10.0, 4.68, 11.0, 12.0, 5.0, 34.0, 10.0, 8.0, 20.0, 12.0, 15.0, 19.0, 5.0, 15.0, 13.0, 4.72, 7.0, 3.0, 6.0, 31.0, 29.0, 10.0, 46.0, 7.0, 28.0, 11.0, 25.0, 11.0, 10.0, 6.0, 16.0, 4.66, 20.0, 25.0, 3.84, 11.0, 15.0, 5.0, 15.0, 12.0, 11.0, 14.0, 13.0, 6.0, 8.0, 5.0, 2.19, 11.0, 3.14, 16.0, 10.0, 12.0, 6.0, 15.0, 8.0, 29.0, 8.0, 10.0, 25.0, 4.76, 12.0, 6.0, 29.0, 29.0, 5.0, 32.0, 7.0, 17.0, 38.0, 24.0, 5.0, 3.89, 25.0, 21.0, 3.99, 35.0, 4.78, 22.0, 7.0, 14.0, 3.89, 15.0, 5.0, 12.0, 15.0, 19.0, 7.0, 10.0, 4.0, 10.0, 5.0, 5.0, 28.0, 11.0, 4.0, 7.0, 6.0, 5.0, 3.02, 15.0, 4.73, 7.0, 15.0, 7.0, 7.0, 7.0, 7.0, 15.0, 25.0, 4.79, 10.0, 26.0, 10.0, 5.0, 6.0, 4.82, 32.0, 10.0, 10.0, 3.89, 7.0, 32.0, 10.0, 14.0, 24.0, 14.0, 32.0, 5.0, 15.0, 7.0, 12.0, 12.0, 26.0, 2.0, 6.0, 15.0, 4.77, 14.0, 4.84, 43.0, 11.0, 17.0, 4.83, 35.0, 11.0, 10.0, 2.27, 10.0, 6.0, 10.0, 5.0, 8.0, 22.0, 10.0, 31.0, 10.0, 4.67, 5.0, 2.24, 32.0, 14.0, 30.0, 8.0, 3.04, 28.0, 4.69, 6.0, 6.0, 4.74, 5.0, 11.0, 16.0, 8.0, 22.0, 15.0, 29.0, 4.0, 15.0, 7.0, 11.0, 4.74, 5.0, 32.0, 22.0, 31.0, 10.0, 6.0, 6.0, 10.0, 5.0, 19.0, 10.0, 24.0, 4.76, 4.82, 14.0, 24.0, 4.67, 38.0, 3.94, 33.0, 7.0, 6.0, 37.0, 20.0, 8.0, 28.0, 10.0, 10.0, 12.0, 15.0, 4.74, 7.0, 38.0, 5.0, 8.0, 4.69, 33.0, 7.0, 3.97, 7.0, 10.0, 3.95, 4.71, 4.76, 8.0, 12.0, 3.14, 3.92, 44.0, 4.72, 10.0, 3.88, 2.0, 17.0, 4.84, 7.0, 3.97, 28.0, 10.0, 7.0, 6.0, 14.0, 69.0, 6.0, 10.0, 26.0, 6.0, 21.0, 4.74, 10.0, 13.0, 7.0, 32.0, 10.0, 7.0, 23.0, 10.0, 37.0, 22.0, 4.82, 10.0, 4.75, 3.14, 11.0, 7.0, 22.0, 42.0, 11.0, 16.0, 10.0, 7.0, 10.0, 5.0, 12.0, 34.0, 5.0, 24.0, 14.0, 6.0, 4.74, 4.0, 3.07, 5.0, 17.0, 3.97, 6.0, 3.19, 21.0, 34.0, 10.0, 7.0, 10.0, 12.0, 6.0, 4.13, 5.0, 8.0, 5.0, 15.0, 4.0, 7.0, 34.0, 8.0, 23.0, 10.0, 10.0, 3.92, 11.0, 11.0, 16.0, 8.0, 5.0, 4.79, 8.0, 13.0, 8.0, 4.78, 7.0, 4.67, 10.0, 15.0, 4.79, 7.0, 3.0, 4.79, 7.0, 33.0, 4.0, 3.3, 7.0, 11.0, 23.0, 12.0, 15.0, 16.0, 4.0, 12.0, 6.0, 8.0, 52.0, 7.0, 10.0, 4.0, 4.71, 8.0, 7.0, 8.0, 4.83, 5.0, 19.0, 15.0, 5.0, 8.0, 7.0, 5.0, 32.0, 7.0, 5.0, 5.0, 7.0, 16.0, 7.0, 29.0, 23.0, 4.84, 5.0, 6.0, 7.0, 2.29, 5.0, 12.0, 2.19, 7.0, 12.0, 12.0, 7.0, 8.0, 15.0, 22.0, 10.0, 2.34, 28.0, 4.82, 12.0, 2.19, 11.0, 20.0, 3.1, 28.0, 6.0, 6.0, 34.0, 6.0, 13.0, 8.0, 14.0, 10.0, 21.0, 10.0, 10.0, 4.7, 7.0, 15.0, 10.0, 22.0, 8.0, 5.0, 27.0, 10.0, 3.11, 42.0, 15.0, 4.73, 10.0, 43.0, 10.0, 4.73, 10.0, 10.0, 5.0, 11.0, 4.0, 7.0, 5.0, 7.0, 4.8, 5.0, 4.13, 7.0, 3.84, 12.0, 6.0, 3.04, 19.0, 14.0, 8.0, 7.0, 11.0, 2.0, 3.89, 7.0, 8.0, 10.0, 15.0, 10.0, 8.0, 10.0, 6.0, 4.74, 4.67, 11.0, 15.0, 5.0, 6.0, 6.0, 5.0, 5.0, 10.0, 17.0, 29.0, 11.0, 25.0, 3.0, 7.0, 10.0, 7.0, 4.74, 8.0, 10.0, 22.0, 3.94, 10.0, 4.0, 15.0, 7.0, 6.0, 24.0, 35.0, 7.0, 2.0, 6.0, 6.0, 6.0, 10.0, 8.0, 19.0, 8.0, 3.97, 23.0, 5.0], \"xaxis\": \"x\", \"y\": [4.020408163265306, 5.0, 3.571428571428572, 3.906273062730628, 3.505494505494505, 3.94125159642401, 5.0, 3.5451339915373765, 3.92734375, 4.0, 5.0, 3.793939393939394, 3.475, 4.480392156862745, 3.9192200557103054, 3.733333333333333, 5.0, 3.850649350649351, 3.7294117647058815, 4.024857954545454, 5.0, 4.068493150684931, 4.115384615384615, 4.833333333333333, 3.824843610366399, 3.7307692307692313, 3.7788461538461537, 5.0, 3.0927835051546397, 3.5042016806722684, 5.0, 3.678571428571429, 4.2896174863387975, 5.0, 3.7450980392156863, 4.375, 2.8717948717948723, 5.0, 4.171428571428572, 4.258103241296518, 5.0, 3.3973941368078178, 3.8333333333333335, 5.0, 4.257997936016512, 5.0, 5.0, 5.0, 5.0, 3.8255892255892254, 3.7718120805369133, 3.90709219858156, 4.636363636363637, 3.675862068965517, 5.0, 4.3, 5.0, 3.962962962962963, 3.9336492890995265, 5.0, 5.0, 5.0, 5.0, 3.4203144921376967, 4.071428571428571, 3.9032258064516134, 5.0, 3.502189781021898, 3.458333333333333, 4.235023041474655, 4.027027027027027, 3.220532319391635, 3.345454545454545, 5.0, 3.615384615384616, 3.87292817679558, 3.45, 3.8571428571428568, 4.428571428571429, 4.285714285714286, 3.8, 3.4285714285714284, 3.835714285714286, 4.0, 5.0, 4.10419235511714, 3.2, 4.0, 5.0, 3.9397590361445785, 3.935655362053162, 4.066666666666666, 5.0, 4.221238938053096, 3.5436363636363635, 5.0, 3.76545842217484, 3.1929824561403515, 4.492063492063492, 5.0, 3.1751824817518246, 3.907471548738248, 3.571428571428572, 3.4547244094488185, 3.9678180052711887, 3.7647058823529416, 4.284982935153583, 5.0, 5.0, 3.517735334242837, 3.8770491803278686, 4.466666666666667, 2.8823529411764706, 4.036939313984169, 5.0, 5.0, 3.66023166023166, 3.9621451104100944, 5.0, 4.182203389830509, 3.333333333333333, 3.69811320754717, 3.7540983606557377, 4.25, 3.736842105263158, 4.213333333333333, 5.0, 3.5234042553191487, 3.8758865248226946, 5.0, 2.9090909090909087, 5.0, 5.0, 5.0, 4.1332872928176805, 5.0, 5.0, 5.0, 5.0, 5.0, 5.0, 4.067415730337078, 3.948717948717949, 4.3296703296703285, 4.012875536480688, 5.0, 3.6666666666666665, 5.0, 4.285714285714286, 3.4307924528301887, 5.0, 5.0, 4.2554945054945055, 4.3617021276595755, 3.736272708716065, 3.882352941176471, 4.157667386609072, 5.0, 3.888888888888889, 3.4, 4.476923076923077, 4.294871794871796, 5.0, 3.475, 3.7350427350427347, 4.666666666666667, 4.333333333333333, 5.0, 5.0, 4.0943021639865, 4.152173913043479, 3.8105263157894735, 3.1717391304347826, 5.0, 3.807486631016043, 5.0, 3.1666666666666665, 4.0, 5.0, 5.0, 5.0, 5.0, 5.0, 3.6590909090909087, 4.0320987654320986, 4.386363636363637, 4.277777777777779, 5.0, 3.598930481283422, 4.196428571428571, 3.9915789473684216, 4.227722772277228, 3.4130434782608696, 5.0, 3.2956521739130435, 3.88588912886969, 3.863387978142077, 4.5, 4.057142857142857, 5.0, 5.0, 5.0, 3.5403508771929824, 3.6932707355242567, 5.0, 3.881918819188192, 4.263814616755793, 4.471698113207547, 4.160919540229885, 5.0, 5.0, 3.326359832635984, 5.0, 3.8571428571428568, 5.0, 3.2019900497512435, 4.320441988950276, 3.3245614035087723, 3.8808933002481387, 5.0, 4.212484497726333, 4.166666666666667, 3.6396103896103895, 5.0, 5.0, 4.25, 3.2259887005649714, 1.0, 4.0, 4.666666666666667, 3.7058823529411766, 3.6456692913385833, 3.787234042553192, 4.1315605318404485, 3.966666666666667, 3.4, 4.339981006647673, 5.0, 5.0, 5.0, 4.294117647058823, 4.246376811594203, 3.8846153846153846, 3.9377049180327863, 4.291913214990139, 3.9551020408163264, 4.0507042253521135, 5.0, 4.265084075173096, 5.0, 4.533333333333333, 4.168150346191888, 4.417536534446763, 3.388059701492537, 4.5, 3.894308943089431, 3.5551305724083355, 5.0, 4.091249065071056, 3.319672131147541, 4.1788935658448585, 4.083333333333333, 3.261904761904762, 3.5, 5.0, 3.8306188925081432, 4.512195121951219, 3.4311926605504586, 4.517241379310344, 3.441558441558441, 4.130434782608695, 3.9573170731707314, 5.0, 3.879939209726444, 3.63646408839779, 3.6666666666666665, 4.2033834302545126, 5.0, 3.706645898234684, 5.0, 5.0, 4.111111111111111, 3.9428571428571435, 3.417489421720733, 3.111111111111111, 3.82312925170068, 4.333333333333333, 4.132295719844358, 3.91025641025641, 5.0, 4.407079646017699, 5.0, 4.209585702680747, 3.4433150899139955, 5.0, 5.0, 5.0, 5.0, 4.454545454545454, 4.306859205776173, 3.727272727272727, 3.862660944206009, 3.4571428571428573, 4.339100346020762, 4.4, 5.0, 3.9236947791164662, 5.0, 3.7307692307692313, 4.178571428571429, 3.3448275862068964, 4.0730046948356815, 5.0, 3.440366972477064, 5.0, 4.14642126789366, 3.806666666666666, 4.090497737556562, 3.779727095516569, 4.001178010471203, 3.5, 3.25, 5.0, 4.4, 5.0, 3.3076923076923075, 4.098765432098766, 5.0, 3.872340425531915, 4.143405889884764, 5.0, 5.0, 5.0, 3.6105932203389832, 3.897280966767372, 4.255813953488372, 5.0, 4.5, 5.0, 3.9090909090909087, 3.8309859154929575, 3.7803468208092488, 4.05, 5.0, 4.633333333333334, 5.0, 3.5244755244755246, 3.2991472689559806, 5.0, 3.301136363636364, 3.2222222222222223, 3.944567627494457, 5.0, 4.467532467532466, 4.383469843633656, 3.5232974910394264, 3.766187050359712, 4.10838445807771, 5.0, 5.0, 3.601104209799862, 4.5, 3.8821839080459766, 4.342857142857143, 3.8, 4.252309879175551, 3.695652173913044, 3.9256198347107434, 5.0, 4.352941176470588, 3.821958456973294, 2.5, 3.362068965517241, 4.0, 4.209302325581397, 4.24907063197026, 3.625, 5.0, 4.287841191066997, 3.798657718120805, 4.133333333333334, 4.182608695652174, 5.0, 4.033582089552239, 3.7967625899280577, 5.0, 3.9663299663299663, 3.4889020771513355, 5.0, 5.0, 4.014792899408284, 5.0, 4.285714285714286, 4.15, 4.0813953488372094, 5.0, 4.150462962962963, 3.994597514856834, 3.9722222222222223, 3.875, 4.258064516129032, 3.0406976744186047, 4.142857142857143, 5.0, 3.4090909090909087, 4.275862068965517, 3.941176470588236, 3.5305164319248825, 5.0, 3.864406779661017, 4.1875, 3.78343949044586, 3.7248576850094883, 4.099346405228759, 3.6856884057971016, 5.0, 5.0, 3.227735368956743, 5.0, 3.87032334518368, 5.0, 3.9861591695501732, 3.6666666666666665, 5.0, 4.1, 4.090909090909091, 3.575212866603595, 4.076923076923077, 3.573617021276596, 5.0, 5.0, 4.395161290322581, 5.0, 3.4, 5.0, 3.4642857142857144, 5.0, 4.307692307692308, 4.025, 4.053050397877984, 5.0, 3.967741935483871, 5.0, 5.0, 3.3703703703703702, 3.502793296089385, 5.0, 4.137123745819398, 4.131578947368421, 4.174603174603175, 5.0, 5.0, 4.161052631578947, 3.1867469879518078, 3.85, 3.3377777777777777, 4.333333333333333, 3.0, 3.5849056603773586, 5.0, 5.0, 5.0, 4.223852638151732, 5.0, 3.9371980676328495, 5.0, 3.7347826086956517, 4.4851485148514865, 2.0, 5.0, 4.407847800237811, 4.318376068376068, 5.0, 5.0, 3.268845897264843, 5.0, 2.6666666666666665, 3.5601458080194415, 5.0, 5.0, 3.410488245931284, 5.0, 5.0, 5.0, 3.8703007518796992, 5.0, 4.089026915113871, 5.0, 4.0, 4.066563808684154, 4.465648854961832, 5.0, 3.5685131195335282, 3.4864864864864864, 3.784677419354839, 5.0, 3.8895631067961167, 3.3940886699507384, 4.3852140077821025, 4.019900497512437, 3.878787878787879, 4.148414985590779, 1.0, 3.8464730290456433, 3.2857142857142856, 3.615384615384616, 4.296296296296297, 3.754764930114358, 3.669461077844312, 5.0, 3.0, 4.116451016635859, 5.0, 3.4745762711864407, 4.0, 3.631578947368421, 3.9659090909090913, 5.0, 5.0, 3.950511382382052, 4.025974025974026, 5.0, 3.912234042553192, 3.987577639751553, 4.081081081081081, 3.736462093862816, 5.0, 4.022933011466506, 3.466666666666667, 3.8181818181818175, 3.7692307692307687, 5.0, 3.9090909090909087, 3.55, 5.0, 3.807881773399015, 4.333333333333333, 3.2669683257918547, 5.0, 4.062068965517241, 4.32, 4.777777777777779, 5.0, 3.7083333333333335, 4.204331450094163, 2.0, 3.2242152466367715, 4.225, 3.844444444444445, 5.0, 4.079770992366412, 3.0, 3.6043165467625897, 5.0, 3.585185185185185, 3.1515151515151514, 3.793333333333333, 3.9474885844748857, 4.17741935483871, 5.0, 3.430493273542601, 4.0, 5.0, 3.659111838739384, 5.0, 3.245614035087719, 4.0320232896652115, 3.636363636363636, 3.6974664679582716, 5.0, 3.931467181467181, 5.0, 3.724056603773585, 5.0, 5.0, 4.4173228346456686, 3.0, 4.666666666666667, 3.292134831460674, 4.167088607594937, 3.9649122807017534, 5.0, 3.600767754318618, 5.0, 3.5, 5.0, 3.66015625, 3.0, 4.220338983050849, 2.6923076923076925, 3.3496571988246817, 4.186046511627906, 5.0, 5.0, 5.0, 3.7183098591549295, 3.5887850467289715, 4.036195286195286, 4.235294117647058, 3.9230769230769234, 5.0, 4.195847362514028, 5.0, 3.859250851305335, 3.337931034482758, 4.038461538461538, 5.0, 2.8, 5.0, 4.614035087719298, 5.0, 3.9706307173808377, 3.5390641541393184, 5.0, 5.0, 3.7310012062726177, 5.0, 3.68, 3.5, 3.263803680981595, 5.0, 3.435897435897436, 3.3457142857142856, 5.0, 3.583333333333333, 5.0, 3.566265060240964, 5.0, 3.6, 2.8026315789473686, 4.023952095808383, 4.268041237113402, 4.454545454545454, 3.7222222222222223, 4.586206896551723, 3.773333333333333, 3.5974025974025974, 3.8394747988140616, 3.234042553191489, 5.0, 3.3985330073349638, 3.8461538461538463, 3.9556267154620315, 4.631849315068493, 3.415730337078652, 5.0, 4.46875, 4.5, 5.0, 4.2780748663101615, 3.7775726811259807, 4.086956521739131, 4.0074812967581055, 5.0, 5.0, 3.7647058823529416, 5.0, 4.4444444444444455, 5.0, 3.788443616029823, 3.7216666666666662, 4.5344827586206895, 4.0984455958549235, 5.0, 2.4285714285714284, 4.214285714285714, 3.4060670569451834, 4.141441441441441, 5.0, 5.0, 3.6239845261121855, 4.262833675564682, 5.0, 4.375, 4.136363636363637, 3.4177215189873418, 5.0, 5.0, 3.8391711889491864, 4.316666666666666, 4.142857142857143, 5.0, 4.385961610839292, 3.7593064144537407, 4.126282557221783, 5.0, 3.78121546961326, 5.0, 3.9814814814814814, 5.0, 3.4576271186440684, 4.25, 4.428571428571429, 3.2526315789473683, 5.0, 4.1610169491525415, 3.2985074626865667, 3.838893409275834, 5.0, 5.0, 4.005747126436781, 4.0, 4.015137614678899, 3.9264069264069263, 4.060344827586206, 3.4810126582278484, 3.788819875776397, 4.0, 5.0, 5.0, 4.027667984189724, 4.37037037037037, 5.0, 4.023255813953488, 5.0, 4.060185185185185, 5.0, 3.1904761904761907, 4.119863013698629, 4.11716621253406, 1.0, 4.405913978494624, 3.6984924623115583, 3.014084507042253, 4.1619766643788605, 3.1428571428571432, 3.2271366810774857, 5.0, 3.8357843137254894, 4.571428571428571, 4.384615384615385, 5.0, 4.166666666666667, 4.611111111111111, 3.969230769230769, 5.0, 4.2189440993788825, 5.0, 3.8351254480286743, 5.0, 3.7738515901060072, 3.6095444685466376, 5.0, 3.2894736842105265, 5.0, 5.0, 3.822575711226675, 4.107142857142857, 3.7222222222222223, 4.0, 5.0, 3.7, 5.0, 3.776470588235294, 4.611111111111111, 4.37037037037037, 4.303571428571429, 4.271676300578035, 3.580547112462006, 4.150145772594752, 5.0, 4.145695364238411, 3.305059523809524, 4.285714285714286, 4.545454545454546, 4.454545454545454, 5.0, 4.388888888888889, 3.5762711864406778, 3.3983957219251337, 4.450980392156863, 5.0, 3.6644674835061264, 5.0, 5.0, 2.9242424242424243, 3.767441860465116, 4.08411214953271, 3.7592592592592586, 3.6982248520710064, 4.016799292661362, 3.647058823529412, 5.0, 3.4143398827990348, 3.782608695652174, 5.0, 3.6666666666666665, 3.7266811279826464, 4.142857142857143, 5.0, 3.75, 3.75, 5.0, 3.362432269717038, 3.754617414248021, 4.6, 4.016042780748663, 5.0, 4.110468654899574, 5.0, 5.0, 3.8390427029563594, 5.0, 3.78125, 3.6823529411764704, 4.124413145539906, 4.0, 4.1761786600496285, 5.0, 4.214285714285714, 2.964930200885257, 3.8875968992248064, 3.5632183908045976, 5.0, 3.8333333333333335, 5.0, 3.903765690376569, 3.888888888888889, 5.0, 4.1395348837209305, 4.0, 5.0, 5.0, 3.687122736418511, 3.961108627626285, 5.0, 3.7811764705882354, 3.6595744680851054, 4.132943143812708, 4.0, 3.867924528301887, 4.318181818181818, 3.948275862068965, 4.119834710743802, 4.156695156695156, 3.844311377245509, 5.0, 4.24, 3.7533783783783785, 3.9722222222222223, 4.0, 3.787234042553192, 4.454545454545454, 4.071161048689139, 5.0, 3.764159702878366, 3.152091254752852, 3.8464228934817166, 2.125, 2.7857142857142856, 2.75, 3.2803030303030303, 3.0777903043968435, 3.7874396135265695, 5.0, 3.8710601719197713, 3.1244635193133052, 4.05674365554605, 4.013888888888889, 4.071428571428571, 4.666666666666667, 4.6, 5.0, 3.4552845528455283, 4.4, 3.888888888888889, 3.7586206896551726, 3.6305418719211824, 3.652853260869565, 3.5625, 5.0, 4.25, 5.0, 2.333333333333333, 3.4, 4.2631578947368425, 3.920670391061453, 4.205882352941177, 4.293948126801153, 4.833333333333333, 5.0, 4.333333333333333, 3.4411764705882355, 3.6657223796034, 5.0, 3.6346396965865986, 4.05, 5.0, 5.0, 3.7038461538461536, 3.1975308641975313, 3.609375, 4.3747514910536776, 3.614545454545455, 3.941176470588236, 3.729096989966555, 5.0, 3.808510638297872, 3.6710144927536232, 5.0, 4.137404580152672], \"yaxis\": \"y\"}, {\"alignmentgroup\": \"True\", \"hoverlabel\": {\"namelength\": 0}, \"hovertemplate\": \"discount_price=%{x}\", \"legendgroup\": \"\", \"marker\": {\"color\": \"#636efa\", \"symbol\": \"circle\"}, \"name\": \"\", \"notched\": true, \"offsetgroup\": \"\", \"showlegend\": false, \"type\": \"box\", \"x\": [3.11, 42.0, 4.79, 5.0, 4.69, 3.12, 22.0, 4.13, 3.15, 3.16, 15.0, 11.0, 4.8, 2.35, 3.86, 4.66, 24.0, 5.0, 10.0, 7.0, 50.0, 16.0, 4.78, 3.88, 5.0, 4.75, 5.0, 24.0, 8.0, 4.73, 28.0, 3.04, 5.0, 20.0, 1.53, 10.0, 15.0, 41.0, 10.0, 10.0, 19.0, 4.75, 4.74, 20.0, 14.0, 28.0, 23.0, 21.0, 39.0, 3.0, 12.0, 6.0, 21.0, 7.0, 33.0, 7.0, 81.0, 11.0, 14.0, 15.0, 23.0, 4.74, 7.0, 5.0, 10.0, 5.0, 12.0, 3.08, 4.0, 10.0, 13.0, 7.0, 10.0, 25.0, 7.0, 4.0, 10.0, 10.0, 10.0, 4.71, 8.0, 4.67, 17.0, 3.09, 24.0, 10.0, 10.0, 10.0, 23.0, 7.0, 10.0, 3.89, 19.0, 3.85, 11.0, 25.0, 6.0, 4.84, 7.0, 30.0, 7.0, 3.03, 5.0, 10.0, 14.0, 6.0, 3.14, 38.0, 4.0, 7.0, 1.46, 11.0, 3.89, 12.0, 29.0, 13.0, 6.0, 10.0, 33.0, 12.0, 13.0, 10.0, 7.0, 11.0, 5.0, 8.0, 25.0, 4.72, 5.0, 14.0, 13.0, 80.0, 15.0, 25.0, 4.79, 22.0, 15.0, 15.0, 30.0, 47.0, 15.0, 7.0, 8.0, 5.0, 4.8, 7.0, 4.7, 26.0, 3.15, 7.0, 12.0, 42.0, 4.73, 3.0, 7.0, 6.0, 10.0, 17.0, 6.0, 4.8, 3.07, 8.0, 30.0, 4.69, 4.75, 4.74, 10.0, 5.0, 25.0, 8.0, 5.0, 4.83, 3.02, 28.0, 3.94, 28.0, 5.0, 10.0, 19.0, 15.0, 5.0, 55.0, 21.0, 13.0, 8.0, 10.0, 7.0, 25.0, 2.19, 3.97, 5.0, 4.84, 5.0, 32.0, 6.0, 6.0, 2.34, 13.0, 6.0, 26.0, 25.0, 10.0, 8.0, 10.0, 41.0, 11.0, 6.0, 7.0, 5.0, 38.0, 28.0, 4.02, 25.0, 3.86, 26.0, 7.0, 4.76, 4.71, 11.0, 5.0, 4.71, 7.0, 6.0, 29.0, 29.0, 4.75, 14.0, 58.0, 6.0, 12.0, 15.0, 10.0, 7.0, 10.0, 7.0, 10.0, 4.69, 16.0, 17.0, 21.0, 10.0, 4.84, 7.0, 5.0, 5.0, 6.0, 4.84, 15.0, 10.0, 25.0, 5.0, 10.0, 16.0, 10.0, 13.0, 5.0, 8.0, 5.0, 5.0, 6.0, 14.0, 4.77, 5.0, 4.79, 4.81, 14.0, 5.0, 11.0, 14.0, 4.8, 6.0, 4.72, 21.0, 10.0, 7.0, 7.0, 6.0, 17.0, 7.0, 25.0, 34.0, 7.0, 4.0, 6.0, 4.69, 7.0, 4.83, 10.0, 10.0, 3.88, 19.0, 14.0, 13.0, 7.0, 29.0, 24.0, 29.0, 37.0, 10.0, 7.0, 2.19, 8.0, 10.0, 7.0, 20.0, 15.0, 14.0, 28.0, 8.0, 17.0, 8.0, 7.0, 16.0, 7.0, 3.04, 7.0, 7.0, 10.0, 10.0, 5.0, 14.0, 14.0, 23.0, 5.0, 19.0, 5.0, 7.0, 34.0, 7.0, 10.0, 22.0, 10.0, 32.0, 10.0, 8.0, 10.0, 19.0, 10.0, 43.0, 5.0, 3.96, 12.0, 10.0, 34.0, 8.0, 5.0, 4.76, 8.0, 28.0, 10.0, 0.0, 10.0, 23.0, 5.0, 6.0, 11.0, 3.14, 10.0, 78.0, 3.04, 4.0, 5.0, 3.84, 7.0, 12.0, 10.0, 11.0, 11.0, 25.0, 3.0, 6.0, 8.0, 11.0, 12.0, 4.13, 6.0, 5.0, 203.0, 10.0, 7.0, 7.0, 4.73, 42.0, 16.0, 8.0, 48.0, 5.0, 10.0, 21.0, 15.0, 10.0, 15.0, 10.0, 15.0, 12.0, 7.0, 12.0, 8.0, 1.39, 5.0, 6.0, 2.24, 12.0, 50.0, 2.29, 11.0, 10.0, 3.89, 33.0, 6.0, 10.0, 4.68, 11.0, 12.0, 5.0, 34.0, 10.0, 8.0, 20.0, 12.0, 15.0, 19.0, 5.0, 15.0, 13.0, 4.72, 7.0, 3.0, 6.0, 31.0, 29.0, 10.0, 46.0, 7.0, 28.0, 11.0, 25.0, 11.0, 10.0, 6.0, 16.0, 4.66, 20.0, 25.0, 3.84, 11.0, 15.0, 5.0, 15.0, 12.0, 11.0, 14.0, 13.0, 6.0, 8.0, 5.0, 2.19, 11.0, 3.14, 16.0, 10.0, 12.0, 6.0, 15.0, 8.0, 29.0, 8.0, 10.0, 25.0, 4.76, 12.0, 6.0, 29.0, 29.0, 5.0, 32.0, 7.0, 17.0, 38.0, 24.0, 5.0, 3.89, 25.0, 21.0, 3.99, 35.0, 4.78, 22.0, 7.0, 14.0, 3.89, 15.0, 5.0, 12.0, 15.0, 19.0, 7.0, 10.0, 4.0, 10.0, 5.0, 5.0, 28.0, 11.0, 4.0, 7.0, 6.0, 5.0, 3.02, 15.0, 4.73, 7.0, 15.0, 7.0, 7.0, 7.0, 7.0, 15.0, 25.0, 4.79, 10.0, 26.0, 10.0, 5.0, 6.0, 4.82, 32.0, 10.0, 10.0, 3.89, 7.0, 32.0, 10.0, 14.0, 24.0, 14.0, 32.0, 5.0, 15.0, 7.0, 12.0, 12.0, 26.0, 2.0, 6.0, 15.0, 4.77, 14.0, 4.84, 43.0, 11.0, 17.0, 4.83, 35.0, 11.0, 10.0, 2.27, 10.0, 6.0, 10.0, 5.0, 8.0, 22.0, 10.0, 31.0, 10.0, 4.67, 5.0, 2.24, 32.0, 14.0, 30.0, 8.0, 3.04, 28.0, 4.69, 6.0, 6.0, 4.74, 5.0, 11.0, 16.0, 8.0, 22.0, 15.0, 29.0, 4.0, 15.0, 7.0, 11.0, 4.74, 5.0, 32.0, 22.0, 31.0, 10.0, 6.0, 6.0, 10.0, 5.0, 19.0, 10.0, 24.0, 4.76, 4.82, 14.0, 24.0, 4.67, 38.0, 3.94, 33.0, 7.0, 6.0, 37.0, 20.0, 8.0, 28.0, 10.0, 10.0, 12.0, 15.0, 4.74, 7.0, 38.0, 5.0, 8.0, 4.69, 33.0, 7.0, 3.97, 7.0, 10.0, 3.95, 4.71, 4.76, 8.0, 12.0, 3.14, 3.92, 44.0, 4.72, 10.0, 3.88, 2.0, 17.0, 4.84, 7.0, 3.97, 28.0, 10.0, 7.0, 6.0, 14.0, 69.0, 6.0, 10.0, 26.0, 6.0, 21.0, 4.74, 10.0, 13.0, 7.0, 32.0, 10.0, 7.0, 23.0, 10.0, 37.0, 22.0, 4.82, 10.0, 4.75, 3.14, 11.0, 7.0, 22.0, 42.0, 11.0, 16.0, 10.0, 7.0, 10.0, 5.0, 12.0, 34.0, 5.0, 24.0, 14.0, 6.0, 4.74, 4.0, 3.07, 5.0, 17.0, 3.97, 6.0, 3.19, 21.0, 34.0, 10.0, 7.0, 10.0, 12.0, 6.0, 4.13, 5.0, 8.0, 5.0, 15.0, 4.0, 7.0, 34.0, 8.0, 23.0, 10.0, 10.0, 3.92, 11.0, 11.0, 16.0, 8.0, 5.0, 4.79, 8.0, 13.0, 8.0, 4.78, 7.0, 4.67, 10.0, 15.0, 4.79, 7.0, 3.0, 4.79, 7.0, 33.0, 4.0, 3.3, 7.0, 11.0, 23.0, 12.0, 15.0, 16.0, 4.0, 12.0, 6.0, 8.0, 52.0, 7.0, 10.0, 4.0, 4.71, 8.0, 7.0, 8.0, 4.83, 5.0, 19.0, 15.0, 5.0, 8.0, 7.0, 5.0, 32.0, 7.0, 5.0, 5.0, 7.0, 16.0, 7.0, 29.0, 23.0, 4.84, 5.0, 6.0, 7.0, 2.29, 5.0, 12.0, 2.19, 7.0, 12.0, 12.0, 7.0, 8.0, 15.0, 22.0, 10.0, 2.34, 28.0, 4.82, 12.0, 2.19, 11.0, 20.0, 3.1, 28.0, 6.0, 6.0, 34.0, 6.0, 13.0, 8.0, 14.0, 10.0, 21.0, 10.0, 10.0, 4.7, 7.0, 15.0, 10.0, 22.0, 8.0, 5.0, 27.0, 10.0, 3.11, 42.0, 15.0, 4.73, 10.0, 43.0, 10.0, 4.73, 10.0, 10.0, 5.0, 11.0, 4.0, 7.0, 5.0, 7.0, 4.8, 5.0, 4.13, 7.0, 3.84, 12.0, 6.0, 3.04, 19.0, 14.0, 8.0, 7.0, 11.0, 2.0, 3.89, 7.0, 8.0, 10.0, 15.0, 10.0, 8.0, 10.0, 6.0, 4.74, 4.67, 11.0, 15.0, 5.0, 6.0, 6.0, 5.0, 5.0, 10.0, 17.0, 29.0, 11.0, 25.0, 3.0, 7.0, 10.0, 7.0, 4.74, 8.0, 10.0, 22.0, 3.94, 10.0, 4.0, 15.0, 7.0, 6.0, 24.0, 35.0, 7.0, 2.0, 6.0, 6.0, 6.0, 10.0, 8.0, 19.0, 8.0, 3.97, 23.0, 5.0], \"xaxis\": \"x2\", \"yaxis\": \"y2\"}],\n",
              "                        {\"legend\": {\"tracegroupgap\": 0}, \"template\": {\"data\": {\"bar\": [{\"error_x\": {\"color\": \"#2a3f5f\"}, \"error_y\": {\"color\": \"#2a3f5f\"}, \"marker\": {\"line\": {\"color\": \"#E5ECF6\", \"width\": 0.5}}, \"type\": \"bar\"}], \"barpolar\": [{\"marker\": {\"line\": {\"color\": \"#E5ECF6\", \"width\": 0.5}}, \"type\": \"barpolar\"}], \"carpet\": [{\"aaxis\": {\"endlinecolor\": \"#2a3f5f\", \"gridcolor\": \"white\", \"linecolor\": \"white\", \"minorgridcolor\": \"white\", \"startlinecolor\": \"#2a3f5f\"}, \"baxis\": {\"endlinecolor\": \"#2a3f5f\", \"gridcolor\": \"white\", \"linecolor\": \"white\", \"minorgridcolor\": \"white\", \"startlinecolor\": \"#2a3f5f\"}, \"type\": \"carpet\"}], \"choropleth\": [{\"colorbar\": {\"outlinewidth\": 0, \"ticks\": \"\"}, \"type\": \"choropleth\"}], \"contour\": [{\"colorbar\": {\"outlinewidth\": 0, \"ticks\": \"\"}, \"colorscale\": [[0.0, \"#0d0887\"], [0.1111111111111111, \"#46039f\"], [0.2222222222222222, \"#7201a8\"], [0.3333333333333333, \"#9c179e\"], [0.4444444444444444, \"#bd3786\"], [0.5555555555555556, \"#d8576b\"], [0.6666666666666666, \"#ed7953\"], [0.7777777777777778, \"#fb9f3a\"], [0.8888888888888888, \"#fdca26\"], [1.0, \"#f0f921\"]], \"type\": \"contour\"}], \"contourcarpet\": [{\"colorbar\": {\"outlinewidth\": 0, \"ticks\": \"\"}, \"type\": \"contourcarpet\"}], \"heatmap\": [{\"colorbar\": {\"outlinewidth\": 0, \"ticks\": \"\"}, \"colorscale\": [[0.0, \"#0d0887\"], [0.1111111111111111, \"#46039f\"], [0.2222222222222222, \"#7201a8\"], [0.3333333333333333, \"#9c179e\"], [0.4444444444444444, \"#bd3786\"], [0.5555555555555556, \"#d8576b\"], [0.6666666666666666, \"#ed7953\"], [0.7777777777777778, \"#fb9f3a\"], [0.8888888888888888, \"#fdca26\"], [1.0, \"#f0f921\"]], \"type\": \"heatmap\"}], \"heatmapgl\": [{\"colorbar\": {\"outlinewidth\": 0, \"ticks\": \"\"}, \"colorscale\": [[0.0, \"#0d0887\"], [0.1111111111111111, \"#46039f\"], [0.2222222222222222, \"#7201a8\"], [0.3333333333333333, \"#9c179e\"], [0.4444444444444444, \"#bd3786\"], [0.5555555555555556, \"#d8576b\"], [0.6666666666666666, \"#ed7953\"], [0.7777777777777778, \"#fb9f3a\"], [0.8888888888888888, \"#fdca26\"], [1.0, \"#f0f921\"]], \"type\": \"heatmapgl\"}], \"histogram\": [{\"marker\": {\"colorbar\": {\"outlinewidth\": 0, \"ticks\": \"\"}}, \"type\": \"histogram\"}], \"histogram2d\": [{\"colorbar\": {\"outlinewidth\": 0, \"ticks\": \"\"}, \"colorscale\": [[0.0, \"#0d0887\"], [0.1111111111111111, \"#46039f\"], [0.2222222222222222, \"#7201a8\"], [0.3333333333333333, \"#9c179e\"], [0.4444444444444444, \"#bd3786\"], [0.5555555555555556, \"#d8576b\"], [0.6666666666666666, \"#ed7953\"], [0.7777777777777778, \"#fb9f3a\"], [0.8888888888888888, \"#fdca26\"], [1.0, \"#f0f921\"]], \"type\": \"histogram2d\"}], \"histogram2dcontour\": [{\"colorbar\": {\"outlinewidth\": 0, \"ticks\": \"\"}, \"colorscale\": [[0.0, \"#0d0887\"], [0.1111111111111111, \"#46039f\"], [0.2222222222222222, \"#7201a8\"], [0.3333333333333333, \"#9c179e\"], [0.4444444444444444, \"#bd3786\"], [0.5555555555555556, \"#d8576b\"], [0.6666666666666666, \"#ed7953\"], [0.7777777777777778, \"#fb9f3a\"], [0.8888888888888888, \"#fdca26\"], [1.0, \"#f0f921\"]], \"type\": \"histogram2dcontour\"}], \"mesh3d\": [{\"colorbar\": {\"outlinewidth\": 0, \"ticks\": \"\"}, \"type\": \"mesh3d\"}], \"parcoords\": [{\"line\": {\"colorbar\": {\"outlinewidth\": 0, \"ticks\": \"\"}}, \"type\": \"parcoords\"}], \"pie\": [{\"automargin\": true, \"type\": \"pie\"}], \"scatter\": [{\"marker\": {\"colorbar\": {\"outlinewidth\": 0, \"ticks\": \"\"}}, \"type\": \"scatter\"}], \"scatter3d\": [{\"line\": {\"colorbar\": {\"outlinewidth\": 0, \"ticks\": \"\"}}, \"marker\": {\"colorbar\": {\"outlinewidth\": 0, \"ticks\": \"\"}}, \"type\": \"scatter3d\"}], \"scattercarpet\": [{\"marker\": {\"colorbar\": {\"outlinewidth\": 0, \"ticks\": \"\"}}, \"type\": \"scattercarpet\"}], \"scattergeo\": [{\"marker\": {\"colorbar\": {\"outlinewidth\": 0, \"ticks\": \"\"}}, \"type\": \"scattergeo\"}], \"scattergl\": [{\"marker\": {\"colorbar\": {\"outlinewidth\": 0, \"ticks\": \"\"}}, \"type\": \"scattergl\"}], \"scattermapbox\": [{\"marker\": {\"colorbar\": {\"outlinewidth\": 0, \"ticks\": \"\"}}, \"type\": \"scattermapbox\"}], \"scatterpolar\": [{\"marker\": {\"colorbar\": {\"outlinewidth\": 0, \"ticks\": \"\"}}, \"type\": \"scatterpolar\"}], \"scatterpolargl\": [{\"marker\": {\"colorbar\": {\"outlinewidth\": 0, \"ticks\": \"\"}}, \"type\": \"scatterpolargl\"}], \"scatterternary\": [{\"marker\": {\"colorbar\": {\"outlinewidth\": 0, \"ticks\": \"\"}}, \"type\": \"scatterternary\"}], \"surface\": [{\"colorbar\": {\"outlinewidth\": 0, \"ticks\": \"\"}, \"colorscale\": [[0.0, \"#0d0887\"], [0.1111111111111111, \"#46039f\"], [0.2222222222222222, \"#7201a8\"], [0.3333333333333333, \"#9c179e\"], [0.4444444444444444, \"#bd3786\"], [0.5555555555555556, \"#d8576b\"], [0.6666666666666666, \"#ed7953\"], [0.7777777777777778, \"#fb9f3a\"], [0.8888888888888888, \"#fdca26\"], [1.0, \"#f0f921\"]], \"type\": \"surface\"}], \"table\": [{\"cells\": {\"fill\": {\"color\": \"#EBF0F8\"}, \"line\": {\"color\": \"white\"}}, \"header\": {\"fill\": {\"color\": \"#C8D4E3\"}, \"line\": {\"color\": \"white\"}}, \"type\": \"table\"}]}, \"layout\": {\"annotationdefaults\": {\"arrowcolor\": \"#2a3f5f\", \"arrowhead\": 0, \"arrowwidth\": 1}, \"coloraxis\": {\"colorbar\": {\"outlinewidth\": 0, \"ticks\": \"\"}}, \"colorscale\": {\"diverging\": [[0, \"#8e0152\"], [0.1, \"#c51b7d\"], [0.2, \"#de77ae\"], [0.3, \"#f1b6da\"], [0.4, \"#fde0ef\"], [0.5, \"#f7f7f7\"], [0.6, \"#e6f5d0\"], [0.7, \"#b8e186\"], [0.8, \"#7fbc41\"], [0.9, \"#4d9221\"], [1, \"#276419\"]], \"sequential\": [[0.0, \"#0d0887\"], [0.1111111111111111, \"#46039f\"], [0.2222222222222222, \"#7201a8\"], [0.3333333333333333, \"#9c179e\"], [0.4444444444444444, \"#bd3786\"], [0.5555555555555556, \"#d8576b\"], [0.6666666666666666, \"#ed7953\"], [0.7777777777777778, \"#fb9f3a\"], [0.8888888888888888, \"#fdca26\"], [1.0, \"#f0f921\"]], \"sequentialminus\": [[0.0, \"#0d0887\"], [0.1111111111111111, \"#46039f\"], [0.2222222222222222, \"#7201a8\"], [0.3333333333333333, \"#9c179e\"], [0.4444444444444444, \"#bd3786\"], [0.5555555555555556, \"#d8576b\"], [0.6666666666666666, \"#ed7953\"], [0.7777777777777778, \"#fb9f3a\"], [0.8888888888888888, \"#fdca26\"], [1.0, \"#f0f921\"]]}, \"colorway\": [\"#636efa\", \"#EF553B\", \"#00cc96\", \"#ab63fa\", \"#FFA15A\", \"#19d3f3\", \"#FF6692\", \"#B6E880\", \"#FF97FF\", \"#FECB52\"], \"font\": {\"color\": \"#2a3f5f\"}, \"geo\": {\"bgcolor\": \"white\", \"lakecolor\": \"white\", \"landcolor\": \"#E5ECF6\", \"showlakes\": true, \"showland\": true, \"subunitcolor\": \"white\"}, \"hoverlabel\": {\"align\": \"left\"}, \"hovermode\": \"closest\", \"mapbox\": {\"style\": \"light\"}, \"paper_bgcolor\": \"white\", \"plot_bgcolor\": \"#E5ECF6\", \"polar\": {\"angularaxis\": {\"gridcolor\": \"white\", \"linecolor\": \"white\", \"ticks\": \"\"}, \"bgcolor\": \"#E5ECF6\", \"radialaxis\": {\"gridcolor\": \"white\", \"linecolor\": \"white\", \"ticks\": \"\"}}, \"scene\": {\"xaxis\": {\"backgroundcolor\": \"#E5ECF6\", \"gridcolor\": \"white\", \"gridwidth\": 2, \"linecolor\": \"white\", \"showbackground\": true, \"ticks\": \"\", \"zerolinecolor\": \"white\"}, \"yaxis\": {\"backgroundcolor\": \"#E5ECF6\", \"gridcolor\": \"white\", \"gridwidth\": 2, \"linecolor\": \"white\", \"showbackground\": true, \"ticks\": \"\", \"zerolinecolor\": \"white\"}, \"zaxis\": {\"backgroundcolor\": \"#E5ECF6\", \"gridcolor\": \"white\", \"gridwidth\": 2, \"linecolor\": \"white\", \"showbackground\": true, \"ticks\": \"\", \"zerolinecolor\": \"white\"}}, \"shapedefaults\": {\"line\": {\"color\": \"#2a3f5f\"}}, \"ternary\": {\"aaxis\": {\"gridcolor\": \"white\", \"linecolor\": \"white\", \"ticks\": \"\"}, \"baxis\": {\"gridcolor\": \"white\", \"linecolor\": \"white\", \"ticks\": \"\"}, \"bgcolor\": \"#E5ECF6\", \"caxis\": {\"gridcolor\": \"white\", \"linecolor\": \"white\", \"ticks\": \"\"}}, \"title\": {\"x\": 0.05}, \"xaxis\": {\"automargin\": true, \"gridcolor\": \"white\", \"linecolor\": \"white\", \"ticks\": \"\", \"title\": {\"standoff\": 15}, \"zerolinecolor\": \"white\", \"zerolinewidth\": 2}, \"yaxis\": {\"automargin\": true, \"gridcolor\": \"white\", \"linecolor\": \"white\", \"ticks\": \"\", \"title\": {\"standoff\": 15}, \"zerolinecolor\": \"white\", \"zerolinewidth\": 2}}}, \"title\": {\"text\": \"discount Price vs rating\"}, \"xaxis\": {\"anchor\": \"y\", \"domain\": [0.0, 1.0], \"title\": {\"text\": \"discount_price\"}}, \"xaxis2\": {\"anchor\": \"y2\", \"domain\": [0.0, 1.0], \"matches\": \"x\", \"showgrid\": true, \"showticklabels\": false}, \"yaxis\": {\"anchor\": \"x\", \"domain\": [0.0, 0.8316], \"title\": {\"text\": \"rating\"}}, \"yaxis2\": {\"anchor\": \"x2\", \"domain\": [0.8416, 1.0], \"matches\": \"y2\", \"showgrid\": false, \"showline\": false, \"showticklabels\": false, \"ticks\": \"\"}},\n",
              "                        {\"responsive\": true}\n",
              "                    ).then(function(){\n",
              "                            \n",
              "var gd = document.getElementById('d32e5339-069e-4a1e-9d3c-a99ea7268343');\n",
              "var x = new MutationObserver(function (mutations, observer) {{\n",
              "        var display = window.getComputedStyle(gd).display;\n",
              "        if (!display || display === 'none') {{\n",
              "            console.log([gd, 'removed!']);\n",
              "            Plotly.purge(gd);\n",
              "            observer.disconnect();\n",
              "        }}\n",
              "}});\n",
              "\n",
              "// Listen for the removal of the full notebook cells\n",
              "var notebookContainer = gd.closest('#notebook-container');\n",
              "if (notebookContainer) {{\n",
              "    x.observe(notebookContainer, {childList: true});\n",
              "}}\n",
              "\n",
              "// Listen for the clearing of the current output cell\n",
              "var outputEl = gd.closest('.output');\n",
              "if (outputEl) {{\n",
              "    x.observe(outputEl, {childList: true});\n",
              "}}\n",
              "\n",
              "                        })\n",
              "                };\n",
              "                \n",
              "            </script>\n",
              "        </div>\n",
              "</body>\n",
              "</html>"
            ]
          },
          "metadata": {}
        }
      ]
    },
    {
      "cell_type": "code",
      "source": [
        "df[df['discount_price'] == df['discount_price'].max()]"
      ],
      "metadata": {
        "colab": {
          "base_uri": "https://localhost:8080/",
          "height": 301
        },
        "id": "zY0P3fKFbv-a",
        "outputId": "c5b2afa2-f509-4fd6-8536-be8cd0b6d69e"
      },
      "execution_count": null,
      "outputs": [
        {
          "output_type": "stream",
          "name": "stdout",
          "text": [
            "Warning: Total number of columns (25) exceeds max_columns (20). Falling back to pandas display.\n"
          ]
        },
        {
          "output_type": "execute_result",
          "data": {
            "text/html": [
              "\n",
              "  <div id=\"df-0b06e434-be59-4fa4-bbe9-c796530f2d98\">\n",
              "    <div class=\"colab-df-container\">\n",
              "      <div>\n",
              "<style scoped>\n",
              "    .dataframe tbody tr th:only-of-type {\n",
              "        vertical-align: middle;\n",
              "    }\n",
              "\n",
              "    .dataframe tbody tr th {\n",
              "        vertical-align: top;\n",
              "    }\n",
              "\n",
              "    .dataframe thead th {\n",
              "        text-align: right;\n",
              "    }\n",
              "</style>\n",
              "<table border=\"1\" class=\"dataframe\">\n",
              "  <thead>\n",
              "    <tr style=\"text-align: right;\">\n",
              "      <th></th>\n",
              "      <th>title</th>\n",
              "      <th>title_orig</th>\n",
              "      <th>discount_price</th>\n",
              "      <th>retail_price</th>\n",
              "      <th>discount_price_in_original_currency</th>\n",
              "      <th>nb_cart_orders_approx</th>\n",
              "      <th>rating</th>\n",
              "      <th>rating_count</th>\n",
              "      <th>product_color</th>\n",
              "      <th>product_variation_size_id</th>\n",
              "      <th>product_variation_inventory</th>\n",
              "      <th>shipping_option_name</th>\n",
              "      <th>shipping_option_price</th>\n",
              "      <th>shipping_is_express</th>\n",
              "      <th>inventory_total</th>\n",
              "      <th>origin_country</th>\n",
              "      <th>merchant_title</th>\n",
              "      <th>merchant_name</th>\n",
              "      <th>merchant_positive_percent</th>\n",
              "      <th>merchant_rating_count</th>\n",
              "      <th>merchant_rating</th>\n",
              "      <th>merchant_id</th>\n",
              "      <th>product_url</th>\n",
              "      <th>product_picture</th>\n",
              "      <th>product_id</th>\n",
              "    </tr>\n",
              "  </thead>\n",
              "  <tbody>\n",
              "    <tr>\n",
              "      <th>401</th>\n",
              "      <td>Icaris Modern One Piece Pew All-in-One Piece F...</td>\n",
              "      <td>Icaris Modern One Piece Pew All-in-One Piece F...</td>\n",
              "      <td>203.0</td>\n",
              "      <td>203.0</td>\n",
              "      <td>245.0</td>\n",
              "      <td>0.0</td>\n",
              "      <td>5.0</td>\n",
              "      <td>0.0</td>\n",
              "      <td>beige</td>\n",
              "      <td>l</td>\n",
              "      <td>50.0</td>\n",
              "      <td>Livraison standard</td>\n",
              "      <td>12.0</td>\n",
              "      <td>False</td>\n",
              "      <td>50.0</td>\n",
              "      <td>KR</td>\n",
              "      <td>Stay_Gorgeous Korea</td>\n",
              "      <td>stay_gorgeouskorea</td>\n",
              "      <td>0.0</td>\n",
              "      <td>5.0</td>\n",
              "      <td>4.8</td>\n",
              "      <td>558</td>\n",
              "      <td>https://www.wish.com/c/5fe6dde6e40496580df6be36</td>\n",
              "      <td>https://canary.contestimg.wish.com/api/webimag...</td>\n",
              "      <td>593</td>\n",
              "    </tr>\n",
              "  </tbody>\n",
              "</table>\n",
              "</div>\n",
              "      <button class=\"colab-df-convert\" onclick=\"convertToInteractive('df-0b06e434-be59-4fa4-bbe9-c796530f2d98')\"\n",
              "              title=\"Convert this dataframe to an interactive table.\"\n",
              "              style=\"display:none;\">\n",
              "        \n",
              "  <svg xmlns=\"http://www.w3.org/2000/svg\" height=\"24px\"viewBox=\"0 0 24 24\"\n",
              "       width=\"24px\">\n",
              "    <path d=\"M0 0h24v24H0V0z\" fill=\"none\"/>\n",
              "    <path d=\"M18.56 5.44l.94 2.06.94-2.06 2.06-.94-2.06-.94-.94-2.06-.94 2.06-2.06.94zm-11 1L8.5 8.5l.94-2.06 2.06-.94-2.06-.94L8.5 2.5l-.94 2.06-2.06.94zm10 10l.94 2.06.94-2.06 2.06-.94-2.06-.94-.94-2.06-.94 2.06-2.06.94z\"/><path d=\"M17.41 7.96l-1.37-1.37c-.4-.4-.92-.59-1.43-.59-.52 0-1.04.2-1.43.59L10.3 9.45l-7.72 7.72c-.78.78-.78 2.05 0 2.83L4 21.41c.39.39.9.59 1.41.59.51 0 1.02-.2 1.41-.59l7.78-7.78 2.81-2.81c.8-.78.8-2.07 0-2.86zM5.41 20L4 18.59l7.72-7.72 1.47 1.35L5.41 20z\"/>\n",
              "  </svg>\n",
              "      </button>\n",
              "      \n",
              "  <style>\n",
              "    .colab-df-container {\n",
              "      display:flex;\n",
              "      flex-wrap:wrap;\n",
              "      gap: 12px;\n",
              "    }\n",
              "\n",
              "    .colab-df-convert {\n",
              "      background-color: #E8F0FE;\n",
              "      border: none;\n",
              "      border-radius: 50%;\n",
              "      cursor: pointer;\n",
              "      display: none;\n",
              "      fill: #1967D2;\n",
              "      height: 32px;\n",
              "      padding: 0 0 0 0;\n",
              "      width: 32px;\n",
              "    }\n",
              "\n",
              "    .colab-df-convert:hover {\n",
              "      background-color: #E2EBFA;\n",
              "      box-shadow: 0px 1px 2px rgba(60, 64, 67, 0.3), 0px 1px 3px 1px rgba(60, 64, 67, 0.15);\n",
              "      fill: #174EA6;\n",
              "    }\n",
              "\n",
              "    [theme=dark] .colab-df-convert {\n",
              "      background-color: #3B4455;\n",
              "      fill: #D2E3FC;\n",
              "    }\n",
              "\n",
              "    [theme=dark] .colab-df-convert:hover {\n",
              "      background-color: #434B5C;\n",
              "      box-shadow: 0px 1px 3px 1px rgba(0, 0, 0, 0.15);\n",
              "      filter: drop-shadow(0px 1px 2px rgba(0, 0, 0, 0.3));\n",
              "      fill: #FFFFFF;\n",
              "    }\n",
              "  </style>\n",
              "\n",
              "      <script>\n",
              "        const buttonEl =\n",
              "          document.querySelector('#df-0b06e434-be59-4fa4-bbe9-c796530f2d98 button.colab-df-convert');\n",
              "        buttonEl.style.display =\n",
              "          google.colab.kernel.accessAllowed ? 'block' : 'none';\n",
              "\n",
              "        async function convertToInteractive(key) {\n",
              "          const element = document.querySelector('#df-0b06e434-be59-4fa4-bbe9-c796530f2d98');\n",
              "          const dataTable =\n",
              "            await google.colab.kernel.invokeFunction('convertToInteractive',\n",
              "                                                     [key], {});\n",
              "          if (!dataTable) return;\n",
              "\n",
              "          const docLinkHtml = 'Like what you see? Visit the ' +\n",
              "            '<a target=\"_blank\" href=https://colab.research.google.com/notebooks/data_table.ipynb>data table notebook</a>'\n",
              "            + ' to learn more about interactive tables.';\n",
              "          element.innerHTML = '';\n",
              "          dataTable['output_type'] = 'display_data';\n",
              "          await google.colab.output.renderOutput(dataTable, element);\n",
              "          const docLink = document.createElement('div');\n",
              "          docLink.innerHTML = docLinkHtml;\n",
              "          element.appendChild(docLink);\n",
              "        }\n",
              "      </script>\n",
              "    </div>\n",
              "  </div>\n",
              "  "
            ],
            "text/plain": [
              "                                                 title  ... product_id\n",
              "401  Icaris Modern One Piece Pew All-in-One Piece F...  ...        593\n",
              "\n",
              "[1 rows x 25 columns]"
            ]
          },
          "metadata": {},
          "execution_count": 56
        }
      ]
    },
    {
      "cell_type": "code",
      "source": [
        "df.drop(index=401,axis=0,inplace=True)"
      ],
      "metadata": {
        "id": "j69-vrIQb0xl"
      },
      "execution_count": null,
      "outputs": []
    },
    {
      "cell_type": "code",
      "source": [
        "px.scatter(df, x='discount_price', y='rating',marginal_x='box', title='discount Price vs rating')"
      ],
      "metadata": {
        "colab": {
          "base_uri": "https://localhost:8080/",
          "height": 542
        },
        "id": "6IjZJs0bb6oO",
        "outputId": "50401648-ad03-40bb-a230-7ce823f442b9"
      },
      "execution_count": null,
      "outputs": [
        {
          "output_type": "display_data",
          "data": {
            "text/html": [
              "<html>\n",
              "<head><meta charset=\"utf-8\" /></head>\n",
              "<body>\n",
              "    <div>\n",
              "            <script src=\"https://cdnjs.cloudflare.com/ajax/libs/mathjax/2.7.5/MathJax.js?config=TeX-AMS-MML_SVG\"></script><script type=\"text/javascript\">if (window.MathJax) {MathJax.Hub.Config({SVG: {font: \"STIX-Web\"}});}</script>\n",
              "                <script type=\"text/javascript\">window.PlotlyConfig = {MathJaxConfig: 'local'};</script>\n",
              "        <script src=\"https://cdn.plot.ly/plotly-latest.min.js\"></script>    \n",
              "            <div id=\"c7b015c7-1d46-4525-957b-8916fd7156d7\" class=\"plotly-graph-div\" style=\"height:525px; width:100%;\"></div>\n",
              "            <script type=\"text/javascript\">\n",
              "                \n",
              "                    window.PLOTLYENV=window.PLOTLYENV || {};\n",
              "                    \n",
              "                if (document.getElementById(\"c7b015c7-1d46-4525-957b-8916fd7156d7\")) {\n",
              "                    Plotly.newPlot(\n",
              "                        'c7b015c7-1d46-4525-957b-8916fd7156d7',\n",
              "                        [{\"hoverlabel\": {\"namelength\": 0}, \"hovertemplate\": \"discount_price=%{x}<br>rating=%{y}\", \"legendgroup\": \"\", \"marker\": {\"color\": \"#636efa\", \"symbol\": \"circle\"}, \"mode\": \"markers\", \"name\": \"\", \"showlegend\": false, \"type\": \"scatter\", \"x\": [3.11, 42.0, 4.79, 5.0, 4.69, 3.12, 22.0, 4.13, 3.15, 3.16, 15.0, 11.0, 4.8, 2.35, 3.86, 4.66, 24.0, 5.0, 10.0, 7.0, 50.0, 16.0, 4.78, 3.88, 5.0, 4.75, 5.0, 24.0, 8.0, 4.73, 28.0, 3.04, 5.0, 20.0, 1.53, 10.0, 15.0, 41.0, 10.0, 10.0, 19.0, 4.75, 4.74, 20.0, 14.0, 28.0, 23.0, 21.0, 39.0, 3.0, 12.0, 6.0, 21.0, 7.0, 33.0, 7.0, 81.0, 11.0, 14.0, 15.0, 23.0, 4.74, 7.0, 5.0, 10.0, 5.0, 12.0, 3.08, 4.0, 10.0, 13.0, 7.0, 10.0, 25.0, 7.0, 4.0, 10.0, 10.0, 10.0, 4.71, 8.0, 4.67, 17.0, 3.09, 24.0, 10.0, 10.0, 10.0, 23.0, 7.0, 10.0, 3.89, 19.0, 3.85, 11.0, 25.0, 6.0, 4.84, 7.0, 30.0, 7.0, 3.03, 5.0, 10.0, 14.0, 6.0, 3.14, 38.0, 4.0, 7.0, 1.46, 11.0, 3.89, 12.0, 29.0, 13.0, 6.0, 10.0, 33.0, 12.0, 13.0, 10.0, 7.0, 11.0, 5.0, 8.0, 25.0, 4.72, 5.0, 14.0, 13.0, 80.0, 15.0, 25.0, 4.79, 22.0, 15.0, 15.0, 30.0, 47.0, 15.0, 7.0, 8.0, 5.0, 4.8, 7.0, 4.7, 26.0, 3.15, 7.0, 12.0, 42.0, 4.73, 3.0, 7.0, 6.0, 10.0, 17.0, 6.0, 4.8, 3.07, 8.0, 30.0, 4.69, 4.75, 4.74, 10.0, 5.0, 25.0, 8.0, 5.0, 4.83, 3.02, 28.0, 3.94, 28.0, 5.0, 10.0, 19.0, 15.0, 5.0, 55.0, 21.0, 13.0, 8.0, 10.0, 7.0, 25.0, 2.19, 3.97, 5.0, 4.84, 5.0, 32.0, 6.0, 6.0, 2.34, 13.0, 6.0, 26.0, 25.0, 10.0, 8.0, 10.0, 41.0, 11.0, 6.0, 7.0, 5.0, 38.0, 28.0, 4.02, 25.0, 3.86, 26.0, 7.0, 4.76, 4.71, 11.0, 5.0, 4.71, 7.0, 6.0, 29.0, 29.0, 4.75, 14.0, 58.0, 6.0, 12.0, 15.0, 10.0, 7.0, 10.0, 7.0, 10.0, 4.69, 16.0, 17.0, 21.0, 10.0, 4.84, 7.0, 5.0, 5.0, 6.0, 4.84, 15.0, 10.0, 25.0, 5.0, 10.0, 16.0, 10.0, 13.0, 5.0, 8.0, 5.0, 5.0, 6.0, 14.0, 4.77, 5.0, 4.79, 4.81, 14.0, 5.0, 11.0, 14.0, 4.8, 6.0, 4.72, 21.0, 10.0, 7.0, 7.0, 6.0, 17.0, 7.0, 25.0, 34.0, 7.0, 4.0, 6.0, 4.69, 7.0, 4.83, 10.0, 10.0, 3.88, 19.0, 14.0, 13.0, 7.0, 29.0, 24.0, 29.0, 37.0, 10.0, 7.0, 2.19, 8.0, 10.0, 7.0, 20.0, 15.0, 14.0, 28.0, 8.0, 17.0, 8.0, 7.0, 16.0, 7.0, 3.04, 7.0, 7.0, 10.0, 10.0, 5.0, 14.0, 14.0, 23.0, 5.0, 19.0, 5.0, 7.0, 34.0, 7.0, 10.0, 22.0, 10.0, 32.0, 10.0, 8.0, 10.0, 19.0, 10.0, 43.0, 5.0, 3.96, 12.0, 10.0, 34.0, 8.0, 5.0, 4.76, 8.0, 28.0, 10.0, 0.0, 10.0, 23.0, 5.0, 6.0, 11.0, 3.14, 10.0, 78.0, 3.04, 4.0, 5.0, 3.84, 7.0, 12.0, 10.0, 11.0, 11.0, 25.0, 3.0, 6.0, 8.0, 11.0, 12.0, 4.13, 6.0, 5.0, 10.0, 7.0, 7.0, 4.73, 42.0, 16.0, 8.0, 48.0, 5.0, 10.0, 21.0, 15.0, 10.0, 15.0, 10.0, 15.0, 12.0, 7.0, 12.0, 8.0, 1.39, 5.0, 6.0, 2.24, 12.0, 50.0, 2.29, 11.0, 10.0, 3.89, 33.0, 6.0, 10.0, 4.68, 11.0, 12.0, 5.0, 34.0, 10.0, 8.0, 20.0, 12.0, 15.0, 19.0, 5.0, 15.0, 13.0, 4.72, 7.0, 3.0, 6.0, 31.0, 29.0, 10.0, 46.0, 7.0, 28.0, 11.0, 25.0, 11.0, 10.0, 6.0, 16.0, 4.66, 20.0, 25.0, 3.84, 11.0, 15.0, 5.0, 15.0, 12.0, 11.0, 14.0, 13.0, 6.0, 8.0, 5.0, 2.19, 11.0, 3.14, 16.0, 10.0, 12.0, 6.0, 15.0, 8.0, 29.0, 8.0, 10.0, 25.0, 4.76, 12.0, 6.0, 29.0, 29.0, 5.0, 32.0, 7.0, 17.0, 38.0, 24.0, 5.0, 3.89, 25.0, 21.0, 3.99, 35.0, 4.78, 22.0, 7.0, 14.0, 3.89, 15.0, 5.0, 12.0, 15.0, 19.0, 7.0, 10.0, 4.0, 10.0, 5.0, 5.0, 28.0, 11.0, 4.0, 7.0, 6.0, 5.0, 3.02, 15.0, 4.73, 7.0, 15.0, 7.0, 7.0, 7.0, 7.0, 15.0, 25.0, 4.79, 10.0, 26.0, 10.0, 5.0, 6.0, 4.82, 32.0, 10.0, 10.0, 3.89, 7.0, 32.0, 10.0, 14.0, 24.0, 14.0, 32.0, 5.0, 15.0, 7.0, 12.0, 12.0, 26.0, 2.0, 6.0, 15.0, 4.77, 14.0, 4.84, 43.0, 11.0, 17.0, 4.83, 35.0, 11.0, 10.0, 2.27, 10.0, 6.0, 10.0, 5.0, 8.0, 22.0, 10.0, 31.0, 10.0, 4.67, 5.0, 2.24, 32.0, 14.0, 30.0, 8.0, 3.04, 28.0, 4.69, 6.0, 6.0, 4.74, 5.0, 11.0, 16.0, 8.0, 22.0, 15.0, 29.0, 4.0, 15.0, 7.0, 11.0, 4.74, 5.0, 32.0, 22.0, 31.0, 10.0, 6.0, 6.0, 10.0, 5.0, 19.0, 10.0, 24.0, 4.76, 4.82, 14.0, 24.0, 4.67, 38.0, 3.94, 33.0, 7.0, 6.0, 37.0, 20.0, 8.0, 28.0, 10.0, 10.0, 12.0, 15.0, 4.74, 7.0, 38.0, 5.0, 8.0, 4.69, 33.0, 7.0, 3.97, 7.0, 10.0, 3.95, 4.71, 4.76, 8.0, 12.0, 3.14, 3.92, 44.0, 4.72, 10.0, 3.88, 2.0, 17.0, 4.84, 7.0, 3.97, 28.0, 10.0, 7.0, 6.0, 14.0, 69.0, 6.0, 10.0, 26.0, 6.0, 21.0, 4.74, 10.0, 13.0, 7.0, 32.0, 10.0, 7.0, 23.0, 10.0, 37.0, 22.0, 4.82, 10.0, 4.75, 3.14, 11.0, 7.0, 22.0, 42.0, 11.0, 16.0, 10.0, 7.0, 10.0, 5.0, 12.0, 34.0, 5.0, 24.0, 14.0, 6.0, 4.74, 4.0, 3.07, 5.0, 17.0, 3.97, 6.0, 3.19, 21.0, 34.0, 10.0, 7.0, 10.0, 12.0, 6.0, 4.13, 5.0, 8.0, 5.0, 15.0, 4.0, 7.0, 34.0, 8.0, 23.0, 10.0, 10.0, 3.92, 11.0, 11.0, 16.0, 8.0, 5.0, 4.79, 8.0, 13.0, 8.0, 4.78, 7.0, 4.67, 10.0, 15.0, 4.79, 7.0, 3.0, 4.79, 7.0, 33.0, 4.0, 3.3, 7.0, 11.0, 23.0, 12.0, 15.0, 16.0, 4.0, 12.0, 6.0, 8.0, 52.0, 7.0, 10.0, 4.0, 4.71, 8.0, 7.0, 8.0, 4.83, 5.0, 19.0, 15.0, 5.0, 8.0, 7.0, 5.0, 32.0, 7.0, 5.0, 5.0, 7.0, 16.0, 7.0, 29.0, 23.0, 4.84, 5.0, 6.0, 7.0, 2.29, 5.0, 12.0, 2.19, 7.0, 12.0, 12.0, 7.0, 8.0, 15.0, 22.0, 10.0, 2.34, 28.0, 4.82, 12.0, 2.19, 11.0, 20.0, 3.1, 28.0, 6.0, 6.0, 34.0, 6.0, 13.0, 8.0, 14.0, 10.0, 21.0, 10.0, 10.0, 4.7, 7.0, 15.0, 10.0, 22.0, 8.0, 5.0, 27.0, 10.0, 3.11, 42.0, 15.0, 4.73, 10.0, 43.0, 10.0, 4.73, 10.0, 10.0, 5.0, 11.0, 4.0, 7.0, 5.0, 7.0, 4.8, 5.0, 4.13, 7.0, 3.84, 12.0, 6.0, 3.04, 19.0, 14.0, 8.0, 7.0, 11.0, 2.0, 3.89, 7.0, 8.0, 10.0, 15.0, 10.0, 8.0, 10.0, 6.0, 4.74, 4.67, 11.0, 15.0, 5.0, 6.0, 6.0, 5.0, 5.0, 10.0, 17.0, 29.0, 11.0, 25.0, 3.0, 7.0, 10.0, 7.0, 4.74, 8.0, 10.0, 22.0, 3.94, 10.0, 4.0, 15.0, 7.0, 6.0, 24.0, 35.0, 7.0, 2.0, 6.0, 6.0, 6.0, 10.0, 8.0, 19.0, 8.0, 3.97, 23.0, 5.0], \"xaxis\": \"x\", \"y\": [4.020408163265306, 5.0, 3.571428571428572, 3.906273062730628, 3.505494505494505, 3.94125159642401, 5.0, 3.5451339915373765, 3.92734375, 4.0, 5.0, 3.793939393939394, 3.475, 4.480392156862745, 3.9192200557103054, 3.733333333333333, 5.0, 3.850649350649351, 3.7294117647058815, 4.024857954545454, 5.0, 4.068493150684931, 4.115384615384615, 4.833333333333333, 3.824843610366399, 3.7307692307692313, 3.7788461538461537, 5.0, 3.0927835051546397, 3.5042016806722684, 5.0, 3.678571428571429, 4.2896174863387975, 5.0, 3.7450980392156863, 4.375, 2.8717948717948723, 5.0, 4.171428571428572, 4.258103241296518, 5.0, 3.3973941368078178, 3.8333333333333335, 5.0, 4.257997936016512, 5.0, 5.0, 5.0, 5.0, 3.8255892255892254, 3.7718120805369133, 3.90709219858156, 4.636363636363637, 3.675862068965517, 5.0, 4.3, 5.0, 3.962962962962963, 3.9336492890995265, 5.0, 5.0, 5.0, 5.0, 3.4203144921376967, 4.071428571428571, 3.9032258064516134, 5.0, 3.502189781021898, 3.458333333333333, 4.235023041474655, 4.027027027027027, 3.220532319391635, 3.345454545454545, 5.0, 3.615384615384616, 3.87292817679558, 3.45, 3.8571428571428568, 4.428571428571429, 4.285714285714286, 3.8, 3.4285714285714284, 3.835714285714286, 4.0, 5.0, 4.10419235511714, 3.2, 4.0, 5.0, 3.9397590361445785, 3.935655362053162, 4.066666666666666, 5.0, 4.221238938053096, 3.5436363636363635, 5.0, 3.76545842217484, 3.1929824561403515, 4.492063492063492, 5.0, 3.1751824817518246, 3.907471548738248, 3.571428571428572, 3.4547244094488185, 3.9678180052711887, 3.7647058823529416, 4.284982935153583, 5.0, 5.0, 3.517735334242837, 3.8770491803278686, 4.466666666666667, 2.8823529411764706, 4.036939313984169, 5.0, 5.0, 3.66023166023166, 3.9621451104100944, 5.0, 4.182203389830509, 3.333333333333333, 3.69811320754717, 3.7540983606557377, 4.25, 3.736842105263158, 4.213333333333333, 5.0, 3.5234042553191487, 3.8758865248226946, 5.0, 2.9090909090909087, 5.0, 5.0, 5.0, 4.1332872928176805, 5.0, 5.0, 5.0, 5.0, 5.0, 5.0, 4.067415730337078, 3.948717948717949, 4.3296703296703285, 4.012875536480688, 5.0, 3.6666666666666665, 5.0, 4.285714285714286, 3.4307924528301887, 5.0, 5.0, 4.2554945054945055, 4.3617021276595755, 3.736272708716065, 3.882352941176471, 4.157667386609072, 5.0, 3.888888888888889, 3.4, 4.476923076923077, 4.294871794871796, 5.0, 3.475, 3.7350427350427347, 4.666666666666667, 4.333333333333333, 5.0, 5.0, 4.0943021639865, 4.152173913043479, 3.8105263157894735, 3.1717391304347826, 5.0, 3.807486631016043, 5.0, 3.1666666666666665, 4.0, 5.0, 5.0, 5.0, 5.0, 5.0, 3.6590909090909087, 4.0320987654320986, 4.386363636363637, 4.277777777777779, 5.0, 3.598930481283422, 4.196428571428571, 3.9915789473684216, 4.227722772277228, 3.4130434782608696, 5.0, 3.2956521739130435, 3.88588912886969, 3.863387978142077, 4.5, 4.057142857142857, 5.0, 5.0, 5.0, 3.5403508771929824, 3.6932707355242567, 5.0, 3.881918819188192, 4.263814616755793, 4.471698113207547, 4.160919540229885, 5.0, 5.0, 3.326359832635984, 5.0, 3.8571428571428568, 5.0, 3.2019900497512435, 4.320441988950276, 3.3245614035087723, 3.8808933002481387, 5.0, 4.212484497726333, 4.166666666666667, 3.6396103896103895, 5.0, 5.0, 4.25, 3.2259887005649714, 1.0, 4.0, 4.666666666666667, 3.7058823529411766, 3.6456692913385833, 3.787234042553192, 4.1315605318404485, 3.966666666666667, 3.4, 4.339981006647673, 5.0, 5.0, 5.0, 4.294117647058823, 4.246376811594203, 3.8846153846153846, 3.9377049180327863, 4.291913214990139, 3.9551020408163264, 4.0507042253521135, 5.0, 4.265084075173096, 5.0, 4.533333333333333, 4.168150346191888, 4.417536534446763, 3.388059701492537, 4.5, 3.894308943089431, 3.5551305724083355, 5.0, 4.091249065071056, 3.319672131147541, 4.1788935658448585, 4.083333333333333, 3.261904761904762, 3.5, 5.0, 3.8306188925081432, 4.512195121951219, 3.4311926605504586, 4.517241379310344, 3.441558441558441, 4.130434782608695, 3.9573170731707314, 5.0, 3.879939209726444, 3.63646408839779, 3.6666666666666665, 4.2033834302545126, 5.0, 3.706645898234684, 5.0, 5.0, 4.111111111111111, 3.9428571428571435, 3.417489421720733, 3.111111111111111, 3.82312925170068, 4.333333333333333, 4.132295719844358, 3.91025641025641, 5.0, 4.407079646017699, 5.0, 4.209585702680747, 3.4433150899139955, 5.0, 5.0, 5.0, 5.0, 4.454545454545454, 4.306859205776173, 3.727272727272727, 3.862660944206009, 3.4571428571428573, 4.339100346020762, 4.4, 5.0, 3.9236947791164662, 5.0, 3.7307692307692313, 4.178571428571429, 3.3448275862068964, 4.0730046948356815, 5.0, 3.440366972477064, 5.0, 4.14642126789366, 3.806666666666666, 4.090497737556562, 3.779727095516569, 4.001178010471203, 3.5, 3.25, 5.0, 4.4, 5.0, 3.3076923076923075, 4.098765432098766, 5.0, 3.872340425531915, 4.143405889884764, 5.0, 5.0, 5.0, 3.6105932203389832, 3.897280966767372, 4.255813953488372, 5.0, 4.5, 5.0, 3.9090909090909087, 3.8309859154929575, 3.7803468208092488, 4.05, 5.0, 4.633333333333334, 5.0, 3.5244755244755246, 3.2991472689559806, 5.0, 3.301136363636364, 3.2222222222222223, 3.944567627494457, 5.0, 4.467532467532466, 4.383469843633656, 3.5232974910394264, 3.766187050359712, 4.10838445807771, 5.0, 5.0, 3.601104209799862, 4.5, 3.8821839080459766, 4.342857142857143, 3.8, 4.252309879175551, 3.695652173913044, 3.9256198347107434, 5.0, 4.352941176470588, 3.821958456973294, 2.5, 3.362068965517241, 4.0, 4.209302325581397, 4.24907063197026, 3.625, 4.287841191066997, 3.798657718120805, 4.133333333333334, 4.182608695652174, 5.0, 4.033582089552239, 3.7967625899280577, 5.0, 3.9663299663299663, 3.4889020771513355, 5.0, 5.0, 4.014792899408284, 5.0, 4.285714285714286, 4.15, 4.0813953488372094, 5.0, 4.150462962962963, 3.994597514856834, 3.9722222222222223, 3.875, 4.258064516129032, 3.0406976744186047, 4.142857142857143, 5.0, 3.4090909090909087, 4.275862068965517, 3.941176470588236, 3.5305164319248825, 5.0, 3.864406779661017, 4.1875, 3.78343949044586, 3.7248576850094883, 4.099346405228759, 3.6856884057971016, 5.0, 5.0, 3.227735368956743, 5.0, 3.87032334518368, 5.0, 3.9861591695501732, 3.6666666666666665, 5.0, 4.1, 4.090909090909091, 3.575212866603595, 4.076923076923077, 3.573617021276596, 5.0, 5.0, 4.395161290322581, 5.0, 3.4, 5.0, 3.4642857142857144, 5.0, 4.307692307692308, 4.025, 4.053050397877984, 5.0, 3.967741935483871, 5.0, 5.0, 3.3703703703703702, 3.502793296089385, 5.0, 4.137123745819398, 4.131578947368421, 4.174603174603175, 5.0, 5.0, 4.161052631578947, 3.1867469879518078, 3.85, 3.3377777777777777, 4.333333333333333, 3.0, 3.5849056603773586, 5.0, 5.0, 5.0, 4.223852638151732, 5.0, 3.9371980676328495, 5.0, 3.7347826086956517, 4.4851485148514865, 2.0, 5.0, 4.407847800237811, 4.318376068376068, 5.0, 5.0, 3.268845897264843, 5.0, 2.6666666666666665, 3.5601458080194415, 5.0, 5.0, 3.410488245931284, 5.0, 5.0, 5.0, 3.8703007518796992, 5.0, 4.089026915113871, 5.0, 4.0, 4.066563808684154, 4.465648854961832, 5.0, 3.5685131195335282, 3.4864864864864864, 3.784677419354839, 5.0, 3.8895631067961167, 3.3940886699507384, 4.3852140077821025, 4.019900497512437, 3.878787878787879, 4.148414985590779, 1.0, 3.8464730290456433, 3.2857142857142856, 3.615384615384616, 4.296296296296297, 3.754764930114358, 3.669461077844312, 5.0, 3.0, 4.116451016635859, 5.0, 3.4745762711864407, 4.0, 3.631578947368421, 3.9659090909090913, 5.0, 5.0, 3.950511382382052, 4.025974025974026, 5.0, 3.912234042553192, 3.987577639751553, 4.081081081081081, 3.736462093862816, 5.0, 4.022933011466506, 3.466666666666667, 3.8181818181818175, 3.7692307692307687, 5.0, 3.9090909090909087, 3.55, 5.0, 3.807881773399015, 4.333333333333333, 3.2669683257918547, 5.0, 4.062068965517241, 4.32, 4.777777777777779, 5.0, 3.7083333333333335, 4.204331450094163, 2.0, 3.2242152466367715, 4.225, 3.844444444444445, 5.0, 4.079770992366412, 3.0, 3.6043165467625897, 5.0, 3.585185185185185, 3.1515151515151514, 3.793333333333333, 3.9474885844748857, 4.17741935483871, 5.0, 3.430493273542601, 4.0, 5.0, 3.659111838739384, 5.0, 3.245614035087719, 4.0320232896652115, 3.636363636363636, 3.6974664679582716, 5.0, 3.931467181467181, 5.0, 3.724056603773585, 5.0, 5.0, 4.4173228346456686, 3.0, 4.666666666666667, 3.292134831460674, 4.167088607594937, 3.9649122807017534, 5.0, 3.600767754318618, 5.0, 3.5, 5.0, 3.66015625, 3.0, 4.220338983050849, 2.6923076923076925, 3.3496571988246817, 4.186046511627906, 5.0, 5.0, 5.0, 3.7183098591549295, 3.5887850467289715, 4.036195286195286, 4.235294117647058, 3.9230769230769234, 5.0, 4.195847362514028, 5.0, 3.859250851305335, 3.337931034482758, 4.038461538461538, 5.0, 2.8, 5.0, 4.614035087719298, 5.0, 3.9706307173808377, 3.5390641541393184, 5.0, 5.0, 3.7310012062726177, 5.0, 3.68, 3.5, 3.263803680981595, 5.0, 3.435897435897436, 3.3457142857142856, 5.0, 3.583333333333333, 5.0, 3.566265060240964, 5.0, 3.6, 2.8026315789473686, 4.023952095808383, 4.268041237113402, 4.454545454545454, 3.7222222222222223, 4.586206896551723, 3.773333333333333, 3.5974025974025974, 3.8394747988140616, 3.234042553191489, 5.0, 3.3985330073349638, 3.8461538461538463, 3.9556267154620315, 4.631849315068493, 3.415730337078652, 5.0, 4.46875, 4.5, 5.0, 4.2780748663101615, 3.7775726811259807, 4.086956521739131, 4.0074812967581055, 5.0, 5.0, 3.7647058823529416, 5.0, 4.4444444444444455, 5.0, 3.788443616029823, 3.7216666666666662, 4.5344827586206895, 4.0984455958549235, 5.0, 2.4285714285714284, 4.214285714285714, 3.4060670569451834, 4.141441441441441, 5.0, 5.0, 3.6239845261121855, 4.262833675564682, 5.0, 4.375, 4.136363636363637, 3.4177215189873418, 5.0, 5.0, 3.8391711889491864, 4.316666666666666, 4.142857142857143, 5.0, 4.385961610839292, 3.7593064144537407, 4.126282557221783, 5.0, 3.78121546961326, 5.0, 3.9814814814814814, 5.0, 3.4576271186440684, 4.25, 4.428571428571429, 3.2526315789473683, 5.0, 4.1610169491525415, 3.2985074626865667, 3.838893409275834, 5.0, 5.0, 4.005747126436781, 4.0, 4.015137614678899, 3.9264069264069263, 4.060344827586206, 3.4810126582278484, 3.788819875776397, 4.0, 5.0, 5.0, 4.027667984189724, 4.37037037037037, 5.0, 4.023255813953488, 5.0, 4.060185185185185, 5.0, 3.1904761904761907, 4.119863013698629, 4.11716621253406, 1.0, 4.405913978494624, 3.6984924623115583, 3.014084507042253, 4.1619766643788605, 3.1428571428571432, 3.2271366810774857, 5.0, 3.8357843137254894, 4.571428571428571, 4.384615384615385, 5.0, 4.166666666666667, 4.611111111111111, 3.969230769230769, 5.0, 4.2189440993788825, 5.0, 3.8351254480286743, 5.0, 3.7738515901060072, 3.6095444685466376, 5.0, 3.2894736842105265, 5.0, 5.0, 3.822575711226675, 4.107142857142857, 3.7222222222222223, 4.0, 5.0, 3.7, 5.0, 3.776470588235294, 4.611111111111111, 4.37037037037037, 4.303571428571429, 4.271676300578035, 3.580547112462006, 4.150145772594752, 5.0, 4.145695364238411, 3.305059523809524, 4.285714285714286, 4.545454545454546, 4.454545454545454, 5.0, 4.388888888888889, 3.5762711864406778, 3.3983957219251337, 4.450980392156863, 5.0, 3.6644674835061264, 5.0, 5.0, 2.9242424242424243, 3.767441860465116, 4.08411214953271, 3.7592592592592586, 3.6982248520710064, 4.016799292661362, 3.647058823529412, 5.0, 3.4143398827990348, 3.782608695652174, 5.0, 3.6666666666666665, 3.7266811279826464, 4.142857142857143, 5.0, 3.75, 3.75, 5.0, 3.362432269717038, 3.754617414248021, 4.6, 4.016042780748663, 5.0, 4.110468654899574, 5.0, 5.0, 3.8390427029563594, 5.0, 3.78125, 3.6823529411764704, 4.124413145539906, 4.0, 4.1761786600496285, 5.0, 4.214285714285714, 2.964930200885257, 3.8875968992248064, 3.5632183908045976, 5.0, 3.8333333333333335, 5.0, 3.903765690376569, 3.888888888888889, 5.0, 4.1395348837209305, 4.0, 5.0, 5.0, 3.687122736418511, 3.961108627626285, 5.0, 3.7811764705882354, 3.6595744680851054, 4.132943143812708, 4.0, 3.867924528301887, 4.318181818181818, 3.948275862068965, 4.119834710743802, 4.156695156695156, 3.844311377245509, 5.0, 4.24, 3.7533783783783785, 3.9722222222222223, 4.0, 3.787234042553192, 4.454545454545454, 4.071161048689139, 5.0, 3.764159702878366, 3.152091254752852, 3.8464228934817166, 2.125, 2.7857142857142856, 2.75, 3.2803030303030303, 3.0777903043968435, 3.7874396135265695, 5.0, 3.8710601719197713, 3.1244635193133052, 4.05674365554605, 4.013888888888889, 4.071428571428571, 4.666666666666667, 4.6, 5.0, 3.4552845528455283, 4.4, 3.888888888888889, 3.7586206896551726, 3.6305418719211824, 3.652853260869565, 3.5625, 5.0, 4.25, 5.0, 2.333333333333333, 3.4, 4.2631578947368425, 3.920670391061453, 4.205882352941177, 4.293948126801153, 4.833333333333333, 5.0, 4.333333333333333, 3.4411764705882355, 3.6657223796034, 5.0, 3.6346396965865986, 4.05, 5.0, 5.0, 3.7038461538461536, 3.1975308641975313, 3.609375, 4.3747514910536776, 3.614545454545455, 3.941176470588236, 3.729096989966555, 5.0, 3.808510638297872, 3.6710144927536232, 5.0, 4.137404580152672], \"yaxis\": \"y\"}, {\"alignmentgroup\": \"True\", \"hoverlabel\": {\"namelength\": 0}, \"hovertemplate\": \"discount_price=%{x}\", \"legendgroup\": \"\", \"marker\": {\"color\": \"#636efa\", \"symbol\": \"circle\"}, \"name\": \"\", \"notched\": true, \"offsetgroup\": \"\", \"showlegend\": false, \"type\": \"box\", \"x\": [3.11, 42.0, 4.79, 5.0, 4.69, 3.12, 22.0, 4.13, 3.15, 3.16, 15.0, 11.0, 4.8, 2.35, 3.86, 4.66, 24.0, 5.0, 10.0, 7.0, 50.0, 16.0, 4.78, 3.88, 5.0, 4.75, 5.0, 24.0, 8.0, 4.73, 28.0, 3.04, 5.0, 20.0, 1.53, 10.0, 15.0, 41.0, 10.0, 10.0, 19.0, 4.75, 4.74, 20.0, 14.0, 28.0, 23.0, 21.0, 39.0, 3.0, 12.0, 6.0, 21.0, 7.0, 33.0, 7.0, 81.0, 11.0, 14.0, 15.0, 23.0, 4.74, 7.0, 5.0, 10.0, 5.0, 12.0, 3.08, 4.0, 10.0, 13.0, 7.0, 10.0, 25.0, 7.0, 4.0, 10.0, 10.0, 10.0, 4.71, 8.0, 4.67, 17.0, 3.09, 24.0, 10.0, 10.0, 10.0, 23.0, 7.0, 10.0, 3.89, 19.0, 3.85, 11.0, 25.0, 6.0, 4.84, 7.0, 30.0, 7.0, 3.03, 5.0, 10.0, 14.0, 6.0, 3.14, 38.0, 4.0, 7.0, 1.46, 11.0, 3.89, 12.0, 29.0, 13.0, 6.0, 10.0, 33.0, 12.0, 13.0, 10.0, 7.0, 11.0, 5.0, 8.0, 25.0, 4.72, 5.0, 14.0, 13.0, 80.0, 15.0, 25.0, 4.79, 22.0, 15.0, 15.0, 30.0, 47.0, 15.0, 7.0, 8.0, 5.0, 4.8, 7.0, 4.7, 26.0, 3.15, 7.0, 12.0, 42.0, 4.73, 3.0, 7.0, 6.0, 10.0, 17.0, 6.0, 4.8, 3.07, 8.0, 30.0, 4.69, 4.75, 4.74, 10.0, 5.0, 25.0, 8.0, 5.0, 4.83, 3.02, 28.0, 3.94, 28.0, 5.0, 10.0, 19.0, 15.0, 5.0, 55.0, 21.0, 13.0, 8.0, 10.0, 7.0, 25.0, 2.19, 3.97, 5.0, 4.84, 5.0, 32.0, 6.0, 6.0, 2.34, 13.0, 6.0, 26.0, 25.0, 10.0, 8.0, 10.0, 41.0, 11.0, 6.0, 7.0, 5.0, 38.0, 28.0, 4.02, 25.0, 3.86, 26.0, 7.0, 4.76, 4.71, 11.0, 5.0, 4.71, 7.0, 6.0, 29.0, 29.0, 4.75, 14.0, 58.0, 6.0, 12.0, 15.0, 10.0, 7.0, 10.0, 7.0, 10.0, 4.69, 16.0, 17.0, 21.0, 10.0, 4.84, 7.0, 5.0, 5.0, 6.0, 4.84, 15.0, 10.0, 25.0, 5.0, 10.0, 16.0, 10.0, 13.0, 5.0, 8.0, 5.0, 5.0, 6.0, 14.0, 4.77, 5.0, 4.79, 4.81, 14.0, 5.0, 11.0, 14.0, 4.8, 6.0, 4.72, 21.0, 10.0, 7.0, 7.0, 6.0, 17.0, 7.0, 25.0, 34.0, 7.0, 4.0, 6.0, 4.69, 7.0, 4.83, 10.0, 10.0, 3.88, 19.0, 14.0, 13.0, 7.0, 29.0, 24.0, 29.0, 37.0, 10.0, 7.0, 2.19, 8.0, 10.0, 7.0, 20.0, 15.0, 14.0, 28.0, 8.0, 17.0, 8.0, 7.0, 16.0, 7.0, 3.04, 7.0, 7.0, 10.0, 10.0, 5.0, 14.0, 14.0, 23.0, 5.0, 19.0, 5.0, 7.0, 34.0, 7.0, 10.0, 22.0, 10.0, 32.0, 10.0, 8.0, 10.0, 19.0, 10.0, 43.0, 5.0, 3.96, 12.0, 10.0, 34.0, 8.0, 5.0, 4.76, 8.0, 28.0, 10.0, 0.0, 10.0, 23.0, 5.0, 6.0, 11.0, 3.14, 10.0, 78.0, 3.04, 4.0, 5.0, 3.84, 7.0, 12.0, 10.0, 11.0, 11.0, 25.0, 3.0, 6.0, 8.0, 11.0, 12.0, 4.13, 6.0, 5.0, 10.0, 7.0, 7.0, 4.73, 42.0, 16.0, 8.0, 48.0, 5.0, 10.0, 21.0, 15.0, 10.0, 15.0, 10.0, 15.0, 12.0, 7.0, 12.0, 8.0, 1.39, 5.0, 6.0, 2.24, 12.0, 50.0, 2.29, 11.0, 10.0, 3.89, 33.0, 6.0, 10.0, 4.68, 11.0, 12.0, 5.0, 34.0, 10.0, 8.0, 20.0, 12.0, 15.0, 19.0, 5.0, 15.0, 13.0, 4.72, 7.0, 3.0, 6.0, 31.0, 29.0, 10.0, 46.0, 7.0, 28.0, 11.0, 25.0, 11.0, 10.0, 6.0, 16.0, 4.66, 20.0, 25.0, 3.84, 11.0, 15.0, 5.0, 15.0, 12.0, 11.0, 14.0, 13.0, 6.0, 8.0, 5.0, 2.19, 11.0, 3.14, 16.0, 10.0, 12.0, 6.0, 15.0, 8.0, 29.0, 8.0, 10.0, 25.0, 4.76, 12.0, 6.0, 29.0, 29.0, 5.0, 32.0, 7.0, 17.0, 38.0, 24.0, 5.0, 3.89, 25.0, 21.0, 3.99, 35.0, 4.78, 22.0, 7.0, 14.0, 3.89, 15.0, 5.0, 12.0, 15.0, 19.0, 7.0, 10.0, 4.0, 10.0, 5.0, 5.0, 28.0, 11.0, 4.0, 7.0, 6.0, 5.0, 3.02, 15.0, 4.73, 7.0, 15.0, 7.0, 7.0, 7.0, 7.0, 15.0, 25.0, 4.79, 10.0, 26.0, 10.0, 5.0, 6.0, 4.82, 32.0, 10.0, 10.0, 3.89, 7.0, 32.0, 10.0, 14.0, 24.0, 14.0, 32.0, 5.0, 15.0, 7.0, 12.0, 12.0, 26.0, 2.0, 6.0, 15.0, 4.77, 14.0, 4.84, 43.0, 11.0, 17.0, 4.83, 35.0, 11.0, 10.0, 2.27, 10.0, 6.0, 10.0, 5.0, 8.0, 22.0, 10.0, 31.0, 10.0, 4.67, 5.0, 2.24, 32.0, 14.0, 30.0, 8.0, 3.04, 28.0, 4.69, 6.0, 6.0, 4.74, 5.0, 11.0, 16.0, 8.0, 22.0, 15.0, 29.0, 4.0, 15.0, 7.0, 11.0, 4.74, 5.0, 32.0, 22.0, 31.0, 10.0, 6.0, 6.0, 10.0, 5.0, 19.0, 10.0, 24.0, 4.76, 4.82, 14.0, 24.0, 4.67, 38.0, 3.94, 33.0, 7.0, 6.0, 37.0, 20.0, 8.0, 28.0, 10.0, 10.0, 12.0, 15.0, 4.74, 7.0, 38.0, 5.0, 8.0, 4.69, 33.0, 7.0, 3.97, 7.0, 10.0, 3.95, 4.71, 4.76, 8.0, 12.0, 3.14, 3.92, 44.0, 4.72, 10.0, 3.88, 2.0, 17.0, 4.84, 7.0, 3.97, 28.0, 10.0, 7.0, 6.0, 14.0, 69.0, 6.0, 10.0, 26.0, 6.0, 21.0, 4.74, 10.0, 13.0, 7.0, 32.0, 10.0, 7.0, 23.0, 10.0, 37.0, 22.0, 4.82, 10.0, 4.75, 3.14, 11.0, 7.0, 22.0, 42.0, 11.0, 16.0, 10.0, 7.0, 10.0, 5.0, 12.0, 34.0, 5.0, 24.0, 14.0, 6.0, 4.74, 4.0, 3.07, 5.0, 17.0, 3.97, 6.0, 3.19, 21.0, 34.0, 10.0, 7.0, 10.0, 12.0, 6.0, 4.13, 5.0, 8.0, 5.0, 15.0, 4.0, 7.0, 34.0, 8.0, 23.0, 10.0, 10.0, 3.92, 11.0, 11.0, 16.0, 8.0, 5.0, 4.79, 8.0, 13.0, 8.0, 4.78, 7.0, 4.67, 10.0, 15.0, 4.79, 7.0, 3.0, 4.79, 7.0, 33.0, 4.0, 3.3, 7.0, 11.0, 23.0, 12.0, 15.0, 16.0, 4.0, 12.0, 6.0, 8.0, 52.0, 7.0, 10.0, 4.0, 4.71, 8.0, 7.0, 8.0, 4.83, 5.0, 19.0, 15.0, 5.0, 8.0, 7.0, 5.0, 32.0, 7.0, 5.0, 5.0, 7.0, 16.0, 7.0, 29.0, 23.0, 4.84, 5.0, 6.0, 7.0, 2.29, 5.0, 12.0, 2.19, 7.0, 12.0, 12.0, 7.0, 8.0, 15.0, 22.0, 10.0, 2.34, 28.0, 4.82, 12.0, 2.19, 11.0, 20.0, 3.1, 28.0, 6.0, 6.0, 34.0, 6.0, 13.0, 8.0, 14.0, 10.0, 21.0, 10.0, 10.0, 4.7, 7.0, 15.0, 10.0, 22.0, 8.0, 5.0, 27.0, 10.0, 3.11, 42.0, 15.0, 4.73, 10.0, 43.0, 10.0, 4.73, 10.0, 10.0, 5.0, 11.0, 4.0, 7.0, 5.0, 7.0, 4.8, 5.0, 4.13, 7.0, 3.84, 12.0, 6.0, 3.04, 19.0, 14.0, 8.0, 7.0, 11.0, 2.0, 3.89, 7.0, 8.0, 10.0, 15.0, 10.0, 8.0, 10.0, 6.0, 4.74, 4.67, 11.0, 15.0, 5.0, 6.0, 6.0, 5.0, 5.0, 10.0, 17.0, 29.0, 11.0, 25.0, 3.0, 7.0, 10.0, 7.0, 4.74, 8.0, 10.0, 22.0, 3.94, 10.0, 4.0, 15.0, 7.0, 6.0, 24.0, 35.0, 7.0, 2.0, 6.0, 6.0, 6.0, 10.0, 8.0, 19.0, 8.0, 3.97, 23.0, 5.0], \"xaxis\": \"x2\", \"yaxis\": \"y2\"}],\n",
              "                        {\"legend\": {\"tracegroupgap\": 0}, \"template\": {\"data\": {\"bar\": [{\"error_x\": {\"color\": \"#2a3f5f\"}, \"error_y\": {\"color\": \"#2a3f5f\"}, \"marker\": {\"line\": {\"color\": \"#E5ECF6\", \"width\": 0.5}}, \"type\": \"bar\"}], \"barpolar\": [{\"marker\": {\"line\": {\"color\": \"#E5ECF6\", \"width\": 0.5}}, \"type\": \"barpolar\"}], \"carpet\": [{\"aaxis\": {\"endlinecolor\": \"#2a3f5f\", \"gridcolor\": \"white\", \"linecolor\": \"white\", \"minorgridcolor\": \"white\", \"startlinecolor\": \"#2a3f5f\"}, \"baxis\": {\"endlinecolor\": \"#2a3f5f\", \"gridcolor\": \"white\", \"linecolor\": \"white\", \"minorgridcolor\": \"white\", \"startlinecolor\": \"#2a3f5f\"}, \"type\": \"carpet\"}], \"choropleth\": [{\"colorbar\": {\"outlinewidth\": 0, \"ticks\": \"\"}, \"type\": \"choropleth\"}], \"contour\": [{\"colorbar\": {\"outlinewidth\": 0, \"ticks\": \"\"}, \"colorscale\": [[0.0, \"#0d0887\"], [0.1111111111111111, \"#46039f\"], [0.2222222222222222, \"#7201a8\"], [0.3333333333333333, \"#9c179e\"], [0.4444444444444444, \"#bd3786\"], [0.5555555555555556, \"#d8576b\"], [0.6666666666666666, \"#ed7953\"], [0.7777777777777778, \"#fb9f3a\"], [0.8888888888888888, \"#fdca26\"], [1.0, \"#f0f921\"]], \"type\": \"contour\"}], \"contourcarpet\": [{\"colorbar\": {\"outlinewidth\": 0, \"ticks\": \"\"}, \"type\": \"contourcarpet\"}], \"heatmap\": [{\"colorbar\": {\"outlinewidth\": 0, \"ticks\": \"\"}, \"colorscale\": [[0.0, \"#0d0887\"], [0.1111111111111111, \"#46039f\"], [0.2222222222222222, \"#7201a8\"], [0.3333333333333333, \"#9c179e\"], [0.4444444444444444, \"#bd3786\"], [0.5555555555555556, \"#d8576b\"], [0.6666666666666666, \"#ed7953\"], [0.7777777777777778, \"#fb9f3a\"], [0.8888888888888888, \"#fdca26\"], [1.0, \"#f0f921\"]], \"type\": \"heatmap\"}], \"heatmapgl\": [{\"colorbar\": {\"outlinewidth\": 0, \"ticks\": \"\"}, \"colorscale\": [[0.0, \"#0d0887\"], [0.1111111111111111, \"#46039f\"], [0.2222222222222222, \"#7201a8\"], [0.3333333333333333, \"#9c179e\"], [0.4444444444444444, \"#bd3786\"], [0.5555555555555556, \"#d8576b\"], [0.6666666666666666, \"#ed7953\"], [0.7777777777777778, \"#fb9f3a\"], [0.8888888888888888, \"#fdca26\"], [1.0, \"#f0f921\"]], \"type\": \"heatmapgl\"}], \"histogram\": [{\"marker\": {\"colorbar\": {\"outlinewidth\": 0, \"ticks\": \"\"}}, \"type\": \"histogram\"}], \"histogram2d\": [{\"colorbar\": {\"outlinewidth\": 0, \"ticks\": \"\"}, \"colorscale\": [[0.0, \"#0d0887\"], [0.1111111111111111, \"#46039f\"], [0.2222222222222222, \"#7201a8\"], [0.3333333333333333, \"#9c179e\"], [0.4444444444444444, \"#bd3786\"], [0.5555555555555556, \"#d8576b\"], [0.6666666666666666, \"#ed7953\"], [0.7777777777777778, \"#fb9f3a\"], [0.8888888888888888, \"#fdca26\"], [1.0, \"#f0f921\"]], \"type\": \"histogram2d\"}], \"histogram2dcontour\": [{\"colorbar\": {\"outlinewidth\": 0, \"ticks\": \"\"}, \"colorscale\": [[0.0, \"#0d0887\"], [0.1111111111111111, \"#46039f\"], [0.2222222222222222, \"#7201a8\"], [0.3333333333333333, \"#9c179e\"], [0.4444444444444444, \"#bd3786\"], [0.5555555555555556, \"#d8576b\"], [0.6666666666666666, \"#ed7953\"], [0.7777777777777778, \"#fb9f3a\"], [0.8888888888888888, \"#fdca26\"], [1.0, \"#f0f921\"]], \"type\": \"histogram2dcontour\"}], \"mesh3d\": [{\"colorbar\": {\"outlinewidth\": 0, \"ticks\": \"\"}, \"type\": \"mesh3d\"}], \"parcoords\": [{\"line\": {\"colorbar\": {\"outlinewidth\": 0, \"ticks\": \"\"}}, \"type\": \"parcoords\"}], \"pie\": [{\"automargin\": true, \"type\": \"pie\"}], \"scatter\": [{\"marker\": {\"colorbar\": {\"outlinewidth\": 0, \"ticks\": \"\"}}, \"type\": \"scatter\"}], \"scatter3d\": [{\"line\": {\"colorbar\": {\"outlinewidth\": 0, \"ticks\": \"\"}}, \"marker\": {\"colorbar\": {\"outlinewidth\": 0, \"ticks\": \"\"}}, \"type\": \"scatter3d\"}], \"scattercarpet\": [{\"marker\": {\"colorbar\": {\"outlinewidth\": 0, \"ticks\": \"\"}}, \"type\": \"scattercarpet\"}], \"scattergeo\": [{\"marker\": {\"colorbar\": {\"outlinewidth\": 0, \"ticks\": \"\"}}, \"type\": \"scattergeo\"}], \"scattergl\": [{\"marker\": {\"colorbar\": {\"outlinewidth\": 0, \"ticks\": \"\"}}, \"type\": \"scattergl\"}], \"scattermapbox\": [{\"marker\": {\"colorbar\": {\"outlinewidth\": 0, \"ticks\": \"\"}}, \"type\": \"scattermapbox\"}], \"scatterpolar\": [{\"marker\": {\"colorbar\": {\"outlinewidth\": 0, \"ticks\": \"\"}}, \"type\": \"scatterpolar\"}], \"scatterpolargl\": [{\"marker\": {\"colorbar\": {\"outlinewidth\": 0, \"ticks\": \"\"}}, \"type\": \"scatterpolargl\"}], \"scatterternary\": [{\"marker\": {\"colorbar\": {\"outlinewidth\": 0, \"ticks\": \"\"}}, \"type\": \"scatterternary\"}], \"surface\": [{\"colorbar\": {\"outlinewidth\": 0, \"ticks\": \"\"}, \"colorscale\": [[0.0, \"#0d0887\"], [0.1111111111111111, \"#46039f\"], [0.2222222222222222, \"#7201a8\"], [0.3333333333333333, \"#9c179e\"], [0.4444444444444444, \"#bd3786\"], [0.5555555555555556, \"#d8576b\"], [0.6666666666666666, \"#ed7953\"], [0.7777777777777778, \"#fb9f3a\"], [0.8888888888888888, \"#fdca26\"], [1.0, \"#f0f921\"]], \"type\": \"surface\"}], \"table\": [{\"cells\": {\"fill\": {\"color\": \"#EBF0F8\"}, \"line\": {\"color\": \"white\"}}, \"header\": {\"fill\": {\"color\": \"#C8D4E3\"}, \"line\": {\"color\": \"white\"}}, \"type\": \"table\"}]}, \"layout\": {\"annotationdefaults\": {\"arrowcolor\": \"#2a3f5f\", \"arrowhead\": 0, \"arrowwidth\": 1}, \"coloraxis\": {\"colorbar\": {\"outlinewidth\": 0, \"ticks\": \"\"}}, \"colorscale\": {\"diverging\": [[0, \"#8e0152\"], [0.1, \"#c51b7d\"], [0.2, \"#de77ae\"], [0.3, \"#f1b6da\"], [0.4, \"#fde0ef\"], [0.5, \"#f7f7f7\"], [0.6, \"#e6f5d0\"], [0.7, \"#b8e186\"], [0.8, \"#7fbc41\"], [0.9, \"#4d9221\"], [1, \"#276419\"]], \"sequential\": [[0.0, \"#0d0887\"], [0.1111111111111111, \"#46039f\"], [0.2222222222222222, \"#7201a8\"], [0.3333333333333333, \"#9c179e\"], [0.4444444444444444, \"#bd3786\"], [0.5555555555555556, \"#d8576b\"], [0.6666666666666666, \"#ed7953\"], [0.7777777777777778, \"#fb9f3a\"], [0.8888888888888888, \"#fdca26\"], [1.0, \"#f0f921\"]], \"sequentialminus\": [[0.0, \"#0d0887\"], [0.1111111111111111, \"#46039f\"], [0.2222222222222222, \"#7201a8\"], [0.3333333333333333, \"#9c179e\"], [0.4444444444444444, \"#bd3786\"], [0.5555555555555556, \"#d8576b\"], [0.6666666666666666, \"#ed7953\"], [0.7777777777777778, \"#fb9f3a\"], [0.8888888888888888, \"#fdca26\"], [1.0, \"#f0f921\"]]}, \"colorway\": [\"#636efa\", \"#EF553B\", \"#00cc96\", \"#ab63fa\", \"#FFA15A\", \"#19d3f3\", \"#FF6692\", \"#B6E880\", \"#FF97FF\", \"#FECB52\"], \"font\": {\"color\": \"#2a3f5f\"}, \"geo\": {\"bgcolor\": \"white\", \"lakecolor\": \"white\", \"landcolor\": \"#E5ECF6\", \"showlakes\": true, \"showland\": true, \"subunitcolor\": \"white\"}, \"hoverlabel\": {\"align\": \"left\"}, \"hovermode\": \"closest\", \"mapbox\": {\"style\": \"light\"}, \"paper_bgcolor\": \"white\", \"plot_bgcolor\": \"#E5ECF6\", \"polar\": {\"angularaxis\": {\"gridcolor\": \"white\", \"linecolor\": \"white\", \"ticks\": \"\"}, \"bgcolor\": \"#E5ECF6\", \"radialaxis\": {\"gridcolor\": \"white\", \"linecolor\": \"white\", \"ticks\": \"\"}}, \"scene\": {\"xaxis\": {\"backgroundcolor\": \"#E5ECF6\", \"gridcolor\": \"white\", \"gridwidth\": 2, \"linecolor\": \"white\", \"showbackground\": true, \"ticks\": \"\", \"zerolinecolor\": \"white\"}, \"yaxis\": {\"backgroundcolor\": \"#E5ECF6\", \"gridcolor\": \"white\", \"gridwidth\": 2, \"linecolor\": \"white\", \"showbackground\": true, \"ticks\": \"\", \"zerolinecolor\": \"white\"}, \"zaxis\": {\"backgroundcolor\": \"#E5ECF6\", \"gridcolor\": \"white\", \"gridwidth\": 2, \"linecolor\": \"white\", \"showbackground\": true, \"ticks\": \"\", \"zerolinecolor\": \"white\"}}, \"shapedefaults\": {\"line\": {\"color\": \"#2a3f5f\"}}, \"ternary\": {\"aaxis\": {\"gridcolor\": \"white\", \"linecolor\": \"white\", \"ticks\": \"\"}, \"baxis\": {\"gridcolor\": \"white\", \"linecolor\": \"white\", \"ticks\": \"\"}, \"bgcolor\": \"#E5ECF6\", \"caxis\": {\"gridcolor\": \"white\", \"linecolor\": \"white\", \"ticks\": \"\"}}, \"title\": {\"x\": 0.05}, \"xaxis\": {\"automargin\": true, \"gridcolor\": \"white\", \"linecolor\": \"white\", \"ticks\": \"\", \"title\": {\"standoff\": 15}, \"zerolinecolor\": \"white\", \"zerolinewidth\": 2}, \"yaxis\": {\"automargin\": true, \"gridcolor\": \"white\", \"linecolor\": \"white\", \"ticks\": \"\", \"title\": {\"standoff\": 15}, \"zerolinecolor\": \"white\", \"zerolinewidth\": 2}}}, \"title\": {\"text\": \"discount Price vs rating\"}, \"xaxis\": {\"anchor\": \"y\", \"domain\": [0.0, 1.0], \"title\": {\"text\": \"discount_price\"}}, \"xaxis2\": {\"anchor\": \"y2\", \"domain\": [0.0, 1.0], \"matches\": \"x\", \"showgrid\": true, \"showticklabels\": false}, \"yaxis\": {\"anchor\": \"x\", \"domain\": [0.0, 0.8316], \"title\": {\"text\": \"rating\"}}, \"yaxis2\": {\"anchor\": \"x2\", \"domain\": [0.8416, 1.0], \"matches\": \"y2\", \"showgrid\": false, \"showline\": false, \"showticklabels\": false, \"ticks\": \"\"}},\n",
              "                        {\"responsive\": true}\n",
              "                    ).then(function(){\n",
              "                            \n",
              "var gd = document.getElementById('c7b015c7-1d46-4525-957b-8916fd7156d7');\n",
              "var x = new MutationObserver(function (mutations, observer) {{\n",
              "        var display = window.getComputedStyle(gd).display;\n",
              "        if (!display || display === 'none') {{\n",
              "            console.log([gd, 'removed!']);\n",
              "            Plotly.purge(gd);\n",
              "            observer.disconnect();\n",
              "        }}\n",
              "}});\n",
              "\n",
              "// Listen for the removal of the full notebook cells\n",
              "var notebookContainer = gd.closest('#notebook-container');\n",
              "if (notebookContainer) {{\n",
              "    x.observe(notebookContainer, {childList: true});\n",
              "}}\n",
              "\n",
              "// Listen for the clearing of the current output cell\n",
              "var outputEl = gd.closest('.output');\n",
              "if (outputEl) {{\n",
              "    x.observe(outputEl, {childList: true});\n",
              "}}\n",
              "\n",
              "                        })\n",
              "                };\n",
              "                \n",
              "            </script>\n",
              "        </div>\n",
              "</body>\n",
              "</html>"
            ]
          },
          "metadata": {}
        }
      ]
    },
    {
      "cell_type": "markdown",
      "source": [
        "# product_variation_size_id"
      ],
      "metadata": {
        "id": "g23aibjceG21"
      }
    },
    {
      "cell_type": "code",
      "source": [
        "df['product_variation_size_id'].unique()"
      ],
      "metadata": {
        "colab": {
          "base_uri": "https://localhost:8080/"
        },
        "id": "3JWxwKvncEFY",
        "outputId": "f5557e4d-3675-40df-d048-9e187b7068c4"
      },
      "execution_count": null,
      "outputs": [
        {
          "output_type": "execute_result",
          "data": {
            "text/plain": [
              "array(['Unknown', 'free', '3xs', 's', 'xs', 'shirts', '2.5', 'xxs', 'm',\n",
              "       'asianxs', '5xs', 'size-s', 'l/xl', '2pcs',\n",
              "       'blackt-shirtwhitewords-xs', 'l', 'xs.', 'eu35/(us5)', 'm/l',\n",
              "       '-xs', '2xl', '01-s', 'women-s', 'randomcolor', '7xl', 'onesize',\n",
              "       '34', 'shortskirt-m', 's/m', '0s', 'xl', '100',\n",
              "       'kids0-6m(60)..1pcs', '56', 'xxl', 'uk10', 'size/xs', 'unisize',\n",
              "       'sizexxs', '90(child)', '165cm/m', 'xxxl', 'shortss', 's-1pc',\n",
              "       'xs/s', '38', 'size-xxxs', 's.', '35', 'sizexs', 'm,unitedstates',\n",
              "       '10ml', 's(nobelt)', '28', '4xl', 's_', '4', 'asiansizem',\n",
              "       'bear-m', 'eu41&us8', '32', 'xxxxxs', '1', '3xl/4xl', '40',\n",
              "       'select', 'm/l-us8-10', '34-35', '28(s).', 'm.',\n",
              "       '6pcs-s-15x11.5cm', 'xs-', '34/35(22cm)', '37', '33', 'xxxs',\n",
              "       'sizes', 'onecolor', 'xxxxxl', 'silver&silver.', 'unisexs',\n",
              "       '100cm/2-3years', '-s', '100x100cm(39.3x39.3inch)', '2years',\n",
              "       '22-23', 's,poland', 'normalstyle(adjustable)', 'daughter-3t', 'a',\n",
              "       'xxxxl', 'xs..'], dtype=object)"
            ]
          },
          "metadata": {},
          "execution_count": 60
        }
      ]
    },
    {
      "cell_type": "code",
      "source": [
        "# Use the below pattern and the string.replace method to replace abbreviations / special characters in BeanOrigin\n",
        "# Each element in the list replacements contains a pair of value\n",
        "# First element of the pair is the text character to replace\n",
        "# Second element is the character to be replaced with\n",
        "\n",
        "replacements =  [['free', 'onesize'],\n",
        "    ['100', 'onesize'],\n",
        "    ['unisize', 'onesize'],\n",
        "    ['90', 'onesize'],\n",
        "    ['unisexs', 'onesize'],\n",
        "    ['100cm/2-3years', 'onesize'],\n",
        "    ['2years', 'onesize'],\n",
        "    ['normalstyle(adjustable)', 'onesize'],\n",
        "    ['daughter-3t', 'onesize'],\n",
        "    ['shirts','allsize'],\n",
        "    ['kids0-6m(60)..1pcs','allsize'], ['2.5', '34'],\n",
        "    ['asianxs', 'xs'],\n",
        "    ['blackt-shirtwhitewords-xs', 'xs'],\n",
        "     ['-xs', 'xs'],\n",
        "     ['01-s', 'xs'],\n",
        "     ['size/xs', 'xs'],\n",
        "     ['xs-', 'xs'],\n",
        "     ['xs..', 'xs'], \n",
        "    ['size-s', 's'],\n",
        "    ['women-s', 's'],\n",
        "     ['0s', 's'],\n",
        "     ['shortss', 's'],\n",
        "     ['s-1pc', 's'],\n",
        "     ['s(nobelt)', 's'],\n",
        "     ['s_', 's'],\n",
        "     ['28(s).', 's'],\n",
        "     ['6pcs-s-15x11.5cm', 's'],\n",
        "     ['s,poland', 's'], \n",
        "    ['l/xl', 'twosize'],\n",
        "    ['2pcs', 'twosize'],\n",
        "     ['m/l', 'twosize'],\n",
        "     ['s/m', 'twosize'],\n",
        "     ['xs/s', 'twosize'],\n",
        "     ['10ml', 'twosize'],\n",
        "     ['1', 'twosize'],\n",
        "     ['3xl/4xl', 'twosize'],\n",
        "     ['m/l-us8-10', 'twosize'],\n",
        "     ['34-35', 'twosize'],\n",
        "     ['34/35(22cm)', 'twosize'],\n",
        "     ['22-23', 'twosize'],\n",
        "    ['eu35/(us5)', '35'],\n",
        "    ['shortskirt-m', 'm'],\n",
        "    ['uk10', 'm'],\n",
        "     ['165cm/m', 'm'],\n",
        "     ['m,unitedstates', 'm'],\n",
        "     ['asiansizem', 'm'],\n",
        "     ['bear-m', 'm'],\n",
        "     ['m.', 'm'],\n",
        "    ['sizexxs', '2xs'],\n",
        "    ['xxxl', '3xl'],\n",
        "    ['size-xxxs', '3xs'],\n",
        "    ['xxxs', '3xs'],\n",
        "    ['eu41&us8', '8'],\n",
        "    ['xxxxxs', '5s'],\n",
        "    ['select', 'Unknown'],\n",
        "    ['sizes', 'Unknown'],\n",
        "     ['onecolor', 'Unknown'],\n",
        "     ['randomcolor', 'Unknown'],\n",
        "     ['silver&silver.', 'Unknown'],\n",
        "     ['100x100cm(39.3x39.3inch)', 'Unknown'],\n",
        "     ['a', 'Unknown'],\n",
        "    ['xxxxxl', '5xl'],\n",
        "    ['xxxxl', '4xl']\n",
        "]\n",
        "\n",
        "# YOUR CODE HERE\n",
        "for r in replacements:\n",
        "    df['product_variation_size_id'] = df['product_variation_size_id'].replace(r[0], r[1])"
      ],
      "metadata": {
        "id": "mr4TyiKncGv6"
      },
      "execution_count": null,
      "outputs": []
    },
    {
      "cell_type": "code",
      "source": [
        "replacements =  [['-s', 's'],['s.', 's'],['5s', 's'], ['xxl', '2xl'], ['xxs','2xl'],['sizexs', 'xs'],['90(child)','90'],\n",
        "                 ['xs.', 'xs'],['Unknown', 'others'],['allsize', 'others'], ['twosize', 'others'], ['onesize','others']\n",
        "]\n",
        "\n",
        "# YOUR CODE HERE\n",
        "for r in replacements:\n",
        "    df['product_variation_size_id'] = df['product_variation_size_id'].replace(r[0], r[1])"
      ],
      "metadata": {
        "id": "1q5adcixcJjX"
      },
      "execution_count": null,
      "outputs": []
    },
    {
      "cell_type": "code",
      "source": [
        "size_ordering = ['extra_small_size', 'xs', 's', 'm', 'l', 'xl','extra_big_size']\n",
        "def size(col):\n",
        "    ls = size_ordering\n",
        "    if col not in ls:\n",
        "        return 'others'\n",
        "    return col"
      ],
      "metadata": {
        "id": "jiStGqJtcdvR"
      },
      "execution_count": null,
      "outputs": []
    },
    {
      "cell_type": "code",
      "source": [
        "df['product_variation_size_id'] = df['product_variation_size_id'].apply(size)"
      ],
      "metadata": {
        "id": "yeNjNfrJcwZ4"
      },
      "execution_count": null,
      "outputs": []
    },
    {
      "cell_type": "code",
      "source": [
        "plt.figure(figsize=(22,10))\n",
        "sns.countplot(x = 'product_variation_size_id', data = df, order = df['product_variation_size_id'].value_counts().iloc[:].index)\n",
        "plt.xlabel('Product Variation Size ID')\n",
        "plt.ylabel('Count')\n",
        "plt.show()"
      ],
      "metadata": {
        "colab": {
          "base_uri": "https://localhost:8080/",
          "height": 606
        },
        "id": "KTmmvuZFStsE",
        "outputId": "da7afc47-ef29-49ff-dd2f-2eb0f862968e"
      },
      "execution_count": null,
      "outputs": [
        {
          "output_type": "display_data",
          "data": {
            "image/png": "[encoded data removed]",
            "text/plain": [
              "<Figure size 1584x720 with 1 Axes>"
            ]
          },
          "metadata": {
            "needs_background": "light"
          }
        }
      ]
    },
    {
      "cell_type": "markdown",
      "source": [
        "# Product Color"
      ],
      "metadata": {
        "id": "kGmx32L-eA6d"
      }
    },
    {
      "cell_type": "code",
      "source": [
        "df['product_color'].replace('armygreen', 'green', inplace=True)\n",
        "df['product_color'].replace('winered', 'red', inplace=True)\n",
        "df['product_color'].replace('navyblue', 'blue', inplace=True)\n",
        "df['product_color'].replace('lightblue', 'blue', inplace=True)\n",
        "df['product_color'].replace('khaki', 'green', inplace=True)\n",
        "df['product_color'].replace('gray', 'grey', inplace=True)\n",
        "df['product_color'].replace('rosered', 'red', inplace=True)\n",
        "df['product_color'].replace('skyblue', 'blue', inplace=True)\n",
        "df['product_color'].replace('coffee', 'brown', inplace=True)\n",
        "df['product_color'].replace('darkblue', 'blue', inplace=True)\n",
        "df['product_color'].replace('rose', 'red', inplace=True)\n",
        "df['product_color'].replace('fluorescentgreen', 'green', inplace=True)\n",
        "df['product_color'].replace('navy', 'blue', inplace=True)\n",
        "df['product_color'].replace('lightpink', 'pink', inplace=True)"
      ],
      "metadata": {
        "id": "UIZaqSVUU66y"
      },
      "execution_count": null,
      "outputs": []
    },
    {
      "cell_type": "code",
      "source": [
        "df['product_color'].replace('orange-red', 'red', inplace=True)\n",
        "df['product_color'].replace('Black', 'black', inplace=True)\n",
        "df['product_color'].replace('lightgreen', 'green', inplace=True)\n",
        "df['product_color'].replace('White', 'white', inplace=True)"
      ],
      "metadata": {
        "id": "fXEyuoNMVQqe"
      },
      "execution_count": null,
      "outputs": []
    },
    {
      "cell_type": "code",
      "source": [
        "df['product_color'].replace('wine', 'red', inplace=True)\n",
        "df['product_color'].replace('Pink', 'pink', inplace=True)\n",
        "df['product_color'].replace('Army green', 'green', inplace=True)\n",
        "df['product_color'].replace('coralred', 'red', inplace=True)\n",
        "df['product_color'].replace('lightred', 'red', inplace=True)\n",
        "df['product_color'].replace('apricot', 'orange', inplace=True)\n",
        "df['product_color'].replace('navy blue', 'blue', inplace=True)\n",
        "df['product_color'].replace('burgundy', 'red', inplace=True)\n",
        "df['product_color'].replace('silver', 'grey', inplace=True)\n",
        "df['product_color'].replace('camel', 'brown', inplace=True)\n",
        "df['product_color'].replace('lakeblue', 'blue', inplace=True)\n",
        "df['product_color'].replace('lightyellow', 'yellow', inplace=True)\n",
        "df['product_color'].replace('watermelonred', 'red', inplace=True)\n",
        "df['product_color'].replace('coolblack', 'black', inplace=True)\n",
        "df['product_color'].replace('applegreen', 'green', inplace=True)\n",
        "df['product_color'].replace('mintgreen', 'green', inplace=True)\n",
        "df['product_color'].replace('dustypink', 'pink', inplace=True)"
      ],
      "metadata": {
        "id": "i0bU1I67VX4t"
      },
      "execution_count": null,
      "outputs": []
    },
    {
      "cell_type": "code",
      "source": [
        "df['product_color'].replace('ivory', 'white', inplace=True)\n",
        "df['product_color'].replace('lightkhaki', 'green', inplace=True)\n",
        "df['product_color'].replace('lightgray', 'grey', inplace=True)\n",
        "df['product_color'].replace('darkgreen', 'green', inplace=True)\n",
        "df['product_color'].replace('RED', 'red', inplace=True)\n",
        "df['product_color'].replace('tan', 'brown', inplace=True)\n",
        "df['product_color'].replace('jasper', 'red', inplace=True)\n",
        "df['product_color'].replace('nude', 'white', inplace=True)\n",
        "df['product_color'].replace('army', 'brown', inplace=True)\n",
        "df['product_color'].replace('light green', 'green', inplace=True)\n",
        "df['product_color'].replace('offwhite', 'white', inplace=True)\n",
        "df['product_color'].replace('Blue', 'blue', inplace=True)\n",
        "df['product_color'].replace('denimblue', 'blue', inplace=True)\n",
        "df['product_color'].replace('Rose red', 'red', inplace=True)\n",
        "df['product_color'].replace('lightpurple', 'purple', inplace=True)\n",
        "df['product_color'].replace('prussianblue', 'blue', inplace=True)\n",
        "df['product_color'].replace('offblack', 'black', inplace=True)\n",
        "df['product_color'].replace('violet', 'purple', inplace=True)\n",
        "df['product_color'].replace('gold', 'yellow', inplace=True)\n",
        "df['product_color'].replace('wine red', 'red', inplace=True)\n",
        "df['product_color'].replace('rosegold', 'red', inplace=True)\n",
        "df['product_color'].replace('claret', 'red', inplace=True)\n",
        "df['product_color'].replace('army green', 'green', inplace=True)\n",
        "df['product_color'].replace('lightgrey', 'grey', inplace=True)"
      ],
      "metadata": {
        "id": "xQdUWq5cVddp"
      },
      "execution_count": null,
      "outputs": []
    },
    {
      "cell_type": "code",
      "source": [
        "def color(col):\n",
        "    ls = ['black', 'white', 'blue', 'red', 'green', 'yellow', 'pink', 'grey', 'purple', 'orange', 'brown', 'beige']\n",
        "    if col not in ls:\n",
        "        if '&' in col:\n",
        "            return 'dual'\n",
        "        else:\n",
        "            return 'others'\n",
        "    return col\n",
        "\n",
        "df['product_color'] = df['product_color'].apply(color)"
      ],
      "metadata": {
        "id": "qqFy2pDjVqkc"
      },
      "execution_count": null,
      "outputs": []
    },
    {
      "cell_type": "code",
      "source": [
        "plt.figure(figsize=(12,10))\n",
        "sns.countplot(x = 'product_color', data = df, order = df['product_color'].value_counts().iloc[:].index)\n",
        "plt.xlabel('Product Colour')\n",
        "plt.ylabel('Count')\n",
        "plt.show()"
      ],
      "metadata": {
        "colab": {
          "base_uri": "https://localhost:8080/",
          "height": 606
        },
        "id": "WxeHS0tQVx5e",
        "outputId": "c510c71a-0267-4620-f4b8-676ac982967d"
      },
      "execution_count": null,
      "outputs": [
        {
          "output_type": "display_data",
          "data": {
            "image/png": "[encoded data removed]",
            "text/plain": [
              "<Figure size 864x720 with 1 Axes>"
            ]
          },
          "metadata": {
            "needs_background": "light"
          }
        }
      ]
    },
    {
      "cell_type": "code",
      "source": [
        "df['origin_country'].unique()"
      ],
      "metadata": {
        "colab": {
          "base_uri": "https://localhost:8080/"
        },
        "id": "sVRKd52_dBRf",
        "outputId": "19e559a4-e6fb-4995-8bd3-8d1634afbcf6"
      },
      "execution_count": null,
      "outputs": [
        {
          "output_type": "execute_result",
          "data": {
            "text/plain": [
              "array(['CN', 'KR', 'US', 'VN', 'TR', 'CA', 'PL', 'GB', 'DE', 'SG', 'ES',\n",
              "       'TH', 'IN', 'CH', 'IT', 'VE', 'Unknown', 'NL', 'BG'], dtype=object)"
            ]
          },
          "metadata": {},
          "execution_count": 72
        }
      ]
    },
    {
      "cell_type": "code",
      "source": [
        "plt.figure(figsize=(12,10))\n",
        "sns.countplot(x = 'origin_country', data = df, order = df['origin_country'].value_counts().iloc[:].index)\n",
        "plt.xlabel('Origin Country')\n",
        "plt.ylabel('Count')\n",
        "plt.show()"
      ],
      "metadata": {
        "colab": {
          "base_uri": "https://localhost:8080/",
          "height": 606
        },
        "id": "ZiBWf0IQdRdv",
        "outputId": "b74e1fd0-5390-4d3b-fe9f-2b53ad80810b"
      },
      "execution_count": null,
      "outputs": [
        {
          "output_type": "display_data",
          "data": {
            "image/png": "[encoded data removed]",
            "text/plain": [
              "<Figure size 864x720 with 1 Axes>"
            ]
          },
          "metadata": {
            "needs_background": "light"
          }
        }
      ]
    }
  ]
}